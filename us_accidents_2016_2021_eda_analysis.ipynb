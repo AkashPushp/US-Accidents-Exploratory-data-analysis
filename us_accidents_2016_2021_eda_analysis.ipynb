{
  "cells": [
    {
      "cell_type": "markdown",
      "metadata": {
        "id": "view-in-github",
        "colab_type": "text"
      },
      "source": [
        "<a href=\"https://colab.research.google.com/github/AkashPushp/US-Accidents-Exploratory-data-analysis/blob/main/us_accidents_2016_2021_eda_analysis.ipynb\" target=\"_parent\"><img src=\"https://colab.research.google.com/assets/colab-badge.svg\" alt=\"Open In Colab\"/></a>"
      ]
    },
    {
      "cell_type": "code",
      "execution_count": null,
      "metadata": {
        "id": "x--idZNh6hkO"
      },
      "outputs": [],
      "source": [
        "# Jovian Commit Essentials\n",
        "# Please retain and execute this cell without modifying the contents for `jovian.commit` to work\n",
        "!pip install jovian --upgrade -q\n",
        "import jovian\n",
        "jovian.set_project('us-accidents-2016-2021-eda-analysis')\n",
        "jovian.set_colab_id('1rDGyNDZ83awJsa-u4CLObxnIF-kLEUUm')"
      ]
    },
    {
      "cell_type": "markdown",
      "metadata": {
        "id": "2FJOBR9L6hkW"
      },
      "source": [
        "# US Accidents Exploratory Data Analysis\n",
        " (source, what it contains, how it will be useful)\n",
        "    - Kaggle\n",
        "    - Information about accidents in  US.\n",
        "    - Can be useful to prevant accidents.\n",
        "\n",
        "\n",
        "Use the \"Run\" button to execute the code."
      ]
    },
    {
      "cell_type": "markdown",
      "source": [
        "US-accidents-Exploratory-data-analysis\n",
        "This is a countrywide car accident dataset, which covers 49 states of the USA. The accident data are collected from February 2016 to Dec 2021, using multiple APIs that provide streaming traffic incident (or event) data. These APIs broadcast traffic data captured by a variety of entities, such as the US and state departments of transportation, law enforcement agencies, traffic cameras, and traffic sensors within the road-networks. Currently, there are about 2.8 million accident records in this dataset.This dataset doesnot contain the city New York.\n",
        "#TODO\n",
        "-Data downloading\n",
        "-Data Preparation and Cleaning\n",
        "-Exploratory Analysis and Visualization\n",
        "-Ask and Answer Questions\n",
        "-Summary and Conclusion\n"
      ],
      "metadata": {
        "id": "Wg_xMrF1-vMh"
      }
    },
    {
      "cell_type": "markdown",
      "source": [
        "## data downloading\n"
      ],
      "metadata": {
        "id": "S7OHfbMx7UlF"
      }
    },
    {
      "cell_type": "code",
      "source": [
        "!pip install opendatasets --upgrade--quite"
      ],
      "metadata": {
        "colab": {
          "base_uri": "https://localhost:8080/"
        },
        "id": "aXuzD5hJJThh",
        "outputId": "a00bd260-90bc-4e59-f0e1-a7d25dc36cb3"
      },
      "execution_count": null,
      "outputs": [
        {
          "output_type": "stream",
          "name": "stdout",
          "text": [
            "\n",
            "Usage:   \n",
            "  pip3 install [options] <requirement specifier> [package-index-options] ...\n",
            "  pip3 install [options] -r <requirements file> [package-index-options] ...\n",
            "  pip3 install [options] [-e] <vcs project url> ...\n",
            "  pip3 install [options] [-e] <local project path> ...\n",
            "  pip3 install [options] <archive url/path> ...\n",
            "\n",
            "no such option: --upgrade--quite\n"
          ]
        }
      ]
    },
    {
      "cell_type": "code",
      "source": [
        "import opendatasets as od\n",
        "source_url='https://www.kaggle.com/datasets/sobhanmoosavi/us-accidents'\n",
        "od.download(source_url)"
      ],
      "metadata": {
        "colab": {
          "base_uri": "https://localhost:8080/"
        },
        "id": "NtMT7rEEJcqA",
        "outputId": "736f336f-3382-4b48-d08b-0c11c8a300f2"
      },
      "execution_count": null,
      "outputs": [
        {
          "output_type": "stream",
          "name": "stdout",
          "text": [
            "Skipping, found downloaded files in \"./us-accidents\" (use force=True to force download)\n"
          ]
        }
      ]
    },
    {
      "cell_type": "code",
      "source": [
        "data_filename='./us-accidents/US_Accidents_Dec21_updated.csv'"
      ],
      "metadata": {
        "id": "yl6SRzPyJQ66"
      },
      "execution_count": null,
      "outputs": []
    },
    {
      "cell_type": "markdown",
      "source": [
        "# We have successfully downloaded the data from Kaggle.com"
      ],
      "metadata": {
        "id": "5Ffh52sQMSbL"
      }
    },
    {
      "cell_type": "markdown",
      "source": [
        "## Data Preparation and Cleaning\n",
        "1. Load the file using pandas.\n",
        "2. Look at some information about data & the columns.\n",
        "3. Fix any missing or incorrect values."
      ],
      "metadata": {
        "id": "igAntg_2GP-_"
      }
    },
    {
      "cell_type": "code",
      "execution_count": null,
      "metadata": {
        "id": "hRUTGF6n6hkd"
      },
      "outputs": [],
      "source": [
        "import pandas as pd\n"
      ]
    },
    {
      "cell_type": "code",
      "source": [
        "df=pd.read_csv(data_filename)"
      ],
      "metadata": {
        "id": "O0l9a9VNGbFN"
      },
      "execution_count": null,
      "outputs": []
    },
    {
      "cell_type": "code",
      "source": [
        "df"
      ],
      "metadata": {
        "colab": {
          "base_uri": "https://localhost:8080/",
          "height": 939
        },
        "id": "rHMWKcBDGcj6",
        "outputId": "55e25c8c-1ad7-4e22-ac49-758a775b18b4"
      },
      "execution_count": null,
      "outputs": [
        {
          "output_type": "execute_result",
          "data": {
            "text/plain": [
              "                ID  Severity           Start_Time             End_Time  \\\n",
              "0              A-1         3  2016-02-08 00:37:08  2016-02-08 06:37:08   \n",
              "1              A-2         2  2016-02-08 05:56:20  2016-02-08 11:56:20   \n",
              "2              A-3         2  2016-02-08 06:15:39  2016-02-08 12:15:39   \n",
              "3              A-4         2  2016-02-08 06:51:45  2016-02-08 12:51:45   \n",
              "4              A-5         3  2016-02-08 07:53:43  2016-02-08 13:53:43   \n",
              "...            ...       ...                  ...                  ...   \n",
              "2845337  A-2845338         2  2019-08-23 18:03:25  2019-08-23 18:32:01   \n",
              "2845338  A-2845339         2  2019-08-23 19:11:30  2019-08-23 19:38:23   \n",
              "2845339  A-2845340         2  2019-08-23 19:00:21  2019-08-23 19:28:49   \n",
              "2845340  A-2845341         2  2019-08-23 19:00:21  2019-08-23 19:29:42   \n",
              "2845341  A-2845342         2  2019-08-23 18:52:06  2019-08-23 19:21:31   \n",
              "\n",
              "         Start_Lat   Start_Lng    End_Lat     End_Lng  Distance(mi)  \\\n",
              "0        40.108910  -83.092860  40.112060  -83.031870         3.230   \n",
              "1        39.865420  -84.062800  39.865010  -84.048730         0.747   \n",
              "2        39.102660  -84.524680  39.102090  -84.523960         0.055   \n",
              "3        41.062130  -81.537840  41.062170  -81.535470         0.123   \n",
              "4        39.172393  -84.492792  39.170476  -84.501798         0.500   \n",
              "...            ...         ...        ...         ...           ...   \n",
              "2845337  34.002480 -117.379360  33.998880 -117.370940         0.543   \n",
              "2845338  32.766960 -117.148060  32.765550 -117.153630         0.338   \n",
              "2845339  33.775450 -117.847790  33.777400 -117.857270         0.561   \n",
              "2845340  33.992460 -118.403020  33.983110 -118.395650         0.772   \n",
              "2845341  34.133930 -117.230920  34.137360 -117.239340         0.537   \n",
              "\n",
              "                                               Description  ...  Roundabout  \\\n",
              "0        Between Sawmill Rd/Exit 20 and OH-315/Olentang...  ...       False   \n",
              "1                       At OH-4/OH-235/Exit 41 - Accident.  ...       False   \n",
              "2                         At I-71/US-50/Exit 1 - Accident.  ...       False   \n",
              "3                          At Dart Ave/Exit 21 - Accident.  ...       False   \n",
              "4                       At Mitchell Ave/Exit 6 - Accident.  ...       False   \n",
              "...                                                    ...  ...         ...   \n",
              "2845337                           At Market St - Accident.  ...       False   \n",
              "2845338    At Camino Del Rio/Mission Center Rd - Accident.  ...       False   \n",
              "2845339  At Glassell St/Grand Ave - Accident. in the ri...  ...       False   \n",
              "2845340     At CA-90/Marina Fwy/Jefferson Blvd - Accident.  ...       False   \n",
              "2845341              At Highland Ave/Arden Ave - Accident.  ...       False   \n",
              "\n",
              "        Station   Stop Traffic_Calming Traffic_Signal Turning_Loop  \\\n",
              "0         False  False           False          False        False   \n",
              "1         False  False           False          False        False   \n",
              "2         False  False           False          False        False   \n",
              "3         False  False           False          False        False   \n",
              "4         False  False           False          False        False   \n",
              "...         ...    ...             ...            ...          ...   \n",
              "2845337   False  False           False          False        False   \n",
              "2845338   False  False           False          False        False   \n",
              "2845339   False  False           False          False        False   \n",
              "2845340   False  False           False          False        False   \n",
              "2845341   False  False           False          False        False   \n",
              "\n",
              "        Sunrise_Sunset Civil_Twilight Nautical_Twilight Astronomical_Twilight  \n",
              "0                Night          Night             Night                 Night  \n",
              "1                Night          Night             Night                 Night  \n",
              "2                Night          Night             Night                   Day  \n",
              "3                Night          Night               Day                   Day  \n",
              "4                  Day            Day               Day                   Day  \n",
              "...                ...            ...               ...                   ...  \n",
              "2845337            Day            Day               Day                   Day  \n",
              "2845338            Day            Day               Day                   Day  \n",
              "2845339            Day            Day               Day                   Day  \n",
              "2845340            Day            Day               Day                   Day  \n",
              "2845341            Day            Day               Day                   Day  \n",
              "\n",
              "[2845342 rows x 47 columns]"
            ],
            "text/html": [
              "\n",
              "  <div id=\"df-10c57923-161d-443c-ae9c-d053d3413d20\">\n",
              "    <div class=\"colab-df-container\">\n",
              "      <div>\n",
              "<style scoped>\n",
              "    .dataframe tbody tr th:only-of-type {\n",
              "        vertical-align: middle;\n",
              "    }\n",
              "\n",
              "    .dataframe tbody tr th {\n",
              "        vertical-align: top;\n",
              "    }\n",
              "\n",
              "    .dataframe thead th {\n",
              "        text-align: right;\n",
              "    }\n",
              "</style>\n",
              "<table border=\"1\" class=\"dataframe\">\n",
              "  <thead>\n",
              "    <tr style=\"text-align: right;\">\n",
              "      <th></th>\n",
              "      <th>ID</th>\n",
              "      <th>Severity</th>\n",
              "      <th>Start_Time</th>\n",
              "      <th>End_Time</th>\n",
              "      <th>Start_Lat</th>\n",
              "      <th>Start_Lng</th>\n",
              "      <th>End_Lat</th>\n",
              "      <th>End_Lng</th>\n",
              "      <th>Distance(mi)</th>\n",
              "      <th>Description</th>\n",
              "      <th>...</th>\n",
              "      <th>Roundabout</th>\n",
              "      <th>Station</th>\n",
              "      <th>Stop</th>\n",
              "      <th>Traffic_Calming</th>\n",
              "      <th>Traffic_Signal</th>\n",
              "      <th>Turning_Loop</th>\n",
              "      <th>Sunrise_Sunset</th>\n",
              "      <th>Civil_Twilight</th>\n",
              "      <th>Nautical_Twilight</th>\n",
              "      <th>Astronomical_Twilight</th>\n",
              "    </tr>\n",
              "  </thead>\n",
              "  <tbody>\n",
              "    <tr>\n",
              "      <th>0</th>\n",
              "      <td>A-1</td>\n",
              "      <td>3</td>\n",
              "      <td>2016-02-08 00:37:08</td>\n",
              "      <td>2016-02-08 06:37:08</td>\n",
              "      <td>40.108910</td>\n",
              "      <td>-83.092860</td>\n",
              "      <td>40.112060</td>\n",
              "      <td>-83.031870</td>\n",
              "      <td>3.230</td>\n",
              "      <td>Between Sawmill Rd/Exit 20 and OH-315/Olentang...</td>\n",
              "      <td>...</td>\n",
              "      <td>False</td>\n",
              "      <td>False</td>\n",
              "      <td>False</td>\n",
              "      <td>False</td>\n",
              "      <td>False</td>\n",
              "      <td>False</td>\n",
              "      <td>Night</td>\n",
              "      <td>Night</td>\n",
              "      <td>Night</td>\n",
              "      <td>Night</td>\n",
              "    </tr>\n",
              "    <tr>\n",
              "      <th>1</th>\n",
              "      <td>A-2</td>\n",
              "      <td>2</td>\n",
              "      <td>2016-02-08 05:56:20</td>\n",
              "      <td>2016-02-08 11:56:20</td>\n",
              "      <td>39.865420</td>\n",
              "      <td>-84.062800</td>\n",
              "      <td>39.865010</td>\n",
              "      <td>-84.048730</td>\n",
              "      <td>0.747</td>\n",
              "      <td>At OH-4/OH-235/Exit 41 - Accident.</td>\n",
              "      <td>...</td>\n",
              "      <td>False</td>\n",
              "      <td>False</td>\n",
              "      <td>False</td>\n",
              "      <td>False</td>\n",
              "      <td>False</td>\n",
              "      <td>False</td>\n",
              "      <td>Night</td>\n",
              "      <td>Night</td>\n",
              "      <td>Night</td>\n",
              "      <td>Night</td>\n",
              "    </tr>\n",
              "    <tr>\n",
              "      <th>2</th>\n",
              "      <td>A-3</td>\n",
              "      <td>2</td>\n",
              "      <td>2016-02-08 06:15:39</td>\n",
              "      <td>2016-02-08 12:15:39</td>\n",
              "      <td>39.102660</td>\n",
              "      <td>-84.524680</td>\n",
              "      <td>39.102090</td>\n",
              "      <td>-84.523960</td>\n",
              "      <td>0.055</td>\n",
              "      <td>At I-71/US-50/Exit 1 - Accident.</td>\n",
              "      <td>...</td>\n",
              "      <td>False</td>\n",
              "      <td>False</td>\n",
              "      <td>False</td>\n",
              "      <td>False</td>\n",
              "      <td>False</td>\n",
              "      <td>False</td>\n",
              "      <td>Night</td>\n",
              "      <td>Night</td>\n",
              "      <td>Night</td>\n",
              "      <td>Day</td>\n",
              "    </tr>\n",
              "    <tr>\n",
              "      <th>3</th>\n",
              "      <td>A-4</td>\n",
              "      <td>2</td>\n",
              "      <td>2016-02-08 06:51:45</td>\n",
              "      <td>2016-02-08 12:51:45</td>\n",
              "      <td>41.062130</td>\n",
              "      <td>-81.537840</td>\n",
              "      <td>41.062170</td>\n",
              "      <td>-81.535470</td>\n",
              "      <td>0.123</td>\n",
              "      <td>At Dart Ave/Exit 21 - Accident.</td>\n",
              "      <td>...</td>\n",
              "      <td>False</td>\n",
              "      <td>False</td>\n",
              "      <td>False</td>\n",
              "      <td>False</td>\n",
              "      <td>False</td>\n",
              "      <td>False</td>\n",
              "      <td>Night</td>\n",
              "      <td>Night</td>\n",
              "      <td>Day</td>\n",
              "      <td>Day</td>\n",
              "    </tr>\n",
              "    <tr>\n",
              "      <th>4</th>\n",
              "      <td>A-5</td>\n",
              "      <td>3</td>\n",
              "      <td>2016-02-08 07:53:43</td>\n",
              "      <td>2016-02-08 13:53:43</td>\n",
              "      <td>39.172393</td>\n",
              "      <td>-84.492792</td>\n",
              "      <td>39.170476</td>\n",
              "      <td>-84.501798</td>\n",
              "      <td>0.500</td>\n",
              "      <td>At Mitchell Ave/Exit 6 - Accident.</td>\n",
              "      <td>...</td>\n",
              "      <td>False</td>\n",
              "      <td>False</td>\n",
              "      <td>False</td>\n",
              "      <td>False</td>\n",
              "      <td>False</td>\n",
              "      <td>False</td>\n",
              "      <td>Day</td>\n",
              "      <td>Day</td>\n",
              "      <td>Day</td>\n",
              "      <td>Day</td>\n",
              "    </tr>\n",
              "    <tr>\n",
              "      <th>...</th>\n",
              "      <td>...</td>\n",
              "      <td>...</td>\n",
              "      <td>...</td>\n",
              "      <td>...</td>\n",
              "      <td>...</td>\n",
              "      <td>...</td>\n",
              "      <td>...</td>\n",
              "      <td>...</td>\n",
              "      <td>...</td>\n",
              "      <td>...</td>\n",
              "      <td>...</td>\n",
              "      <td>...</td>\n",
              "      <td>...</td>\n",
              "      <td>...</td>\n",
              "      <td>...</td>\n",
              "      <td>...</td>\n",
              "      <td>...</td>\n",
              "      <td>...</td>\n",
              "      <td>...</td>\n",
              "      <td>...</td>\n",
              "      <td>...</td>\n",
              "    </tr>\n",
              "    <tr>\n",
              "      <th>2845337</th>\n",
              "      <td>A-2845338</td>\n",
              "      <td>2</td>\n",
              "      <td>2019-08-23 18:03:25</td>\n",
              "      <td>2019-08-23 18:32:01</td>\n",
              "      <td>34.002480</td>\n",
              "      <td>-117.379360</td>\n",
              "      <td>33.998880</td>\n",
              "      <td>-117.370940</td>\n",
              "      <td>0.543</td>\n",
              "      <td>At Market St - Accident.</td>\n",
              "      <td>...</td>\n",
              "      <td>False</td>\n",
              "      <td>False</td>\n",
              "      <td>False</td>\n",
              "      <td>False</td>\n",
              "      <td>False</td>\n",
              "      <td>False</td>\n",
              "      <td>Day</td>\n",
              "      <td>Day</td>\n",
              "      <td>Day</td>\n",
              "      <td>Day</td>\n",
              "    </tr>\n",
              "    <tr>\n",
              "      <th>2845338</th>\n",
              "      <td>A-2845339</td>\n",
              "      <td>2</td>\n",
              "      <td>2019-08-23 19:11:30</td>\n",
              "      <td>2019-08-23 19:38:23</td>\n",
              "      <td>32.766960</td>\n",
              "      <td>-117.148060</td>\n",
              "      <td>32.765550</td>\n",
              "      <td>-117.153630</td>\n",
              "      <td>0.338</td>\n",
              "      <td>At Camino Del Rio/Mission Center Rd - Accident.</td>\n",
              "      <td>...</td>\n",
              "      <td>False</td>\n",
              "      <td>False</td>\n",
              "      <td>False</td>\n",
              "      <td>False</td>\n",
              "      <td>False</td>\n",
              "      <td>False</td>\n",
              "      <td>Day</td>\n",
              "      <td>Day</td>\n",
              "      <td>Day</td>\n",
              "      <td>Day</td>\n",
              "    </tr>\n",
              "    <tr>\n",
              "      <th>2845339</th>\n",
              "      <td>A-2845340</td>\n",
              "      <td>2</td>\n",
              "      <td>2019-08-23 19:00:21</td>\n",
              "      <td>2019-08-23 19:28:49</td>\n",
              "      <td>33.775450</td>\n",
              "      <td>-117.847790</td>\n",
              "      <td>33.777400</td>\n",
              "      <td>-117.857270</td>\n",
              "      <td>0.561</td>\n",
              "      <td>At Glassell St/Grand Ave - Accident. in the ri...</td>\n",
              "      <td>...</td>\n",
              "      <td>False</td>\n",
              "      <td>False</td>\n",
              "      <td>False</td>\n",
              "      <td>False</td>\n",
              "      <td>False</td>\n",
              "      <td>False</td>\n",
              "      <td>Day</td>\n",
              "      <td>Day</td>\n",
              "      <td>Day</td>\n",
              "      <td>Day</td>\n",
              "    </tr>\n",
              "    <tr>\n",
              "      <th>2845340</th>\n",
              "      <td>A-2845341</td>\n",
              "      <td>2</td>\n",
              "      <td>2019-08-23 19:00:21</td>\n",
              "      <td>2019-08-23 19:29:42</td>\n",
              "      <td>33.992460</td>\n",
              "      <td>-118.403020</td>\n",
              "      <td>33.983110</td>\n",
              "      <td>-118.395650</td>\n",
              "      <td>0.772</td>\n",
              "      <td>At CA-90/Marina Fwy/Jefferson Blvd - Accident.</td>\n",
              "      <td>...</td>\n",
              "      <td>False</td>\n",
              "      <td>False</td>\n",
              "      <td>False</td>\n",
              "      <td>False</td>\n",
              "      <td>False</td>\n",
              "      <td>False</td>\n",
              "      <td>Day</td>\n",
              "      <td>Day</td>\n",
              "      <td>Day</td>\n",
              "      <td>Day</td>\n",
              "    </tr>\n",
              "    <tr>\n",
              "      <th>2845341</th>\n",
              "      <td>A-2845342</td>\n",
              "      <td>2</td>\n",
              "      <td>2019-08-23 18:52:06</td>\n",
              "      <td>2019-08-23 19:21:31</td>\n",
              "      <td>34.133930</td>\n",
              "      <td>-117.230920</td>\n",
              "      <td>34.137360</td>\n",
              "      <td>-117.239340</td>\n",
              "      <td>0.537</td>\n",
              "      <td>At Highland Ave/Arden Ave - Accident.</td>\n",
              "      <td>...</td>\n",
              "      <td>False</td>\n",
              "      <td>False</td>\n",
              "      <td>False</td>\n",
              "      <td>False</td>\n",
              "      <td>False</td>\n",
              "      <td>False</td>\n",
              "      <td>Day</td>\n",
              "      <td>Day</td>\n",
              "      <td>Day</td>\n",
              "      <td>Day</td>\n",
              "    </tr>\n",
              "  </tbody>\n",
              "</table>\n",
              "<p>2845342 rows × 47 columns</p>\n",
              "</div>\n",
              "      <button class=\"colab-df-convert\" onclick=\"convertToInteractive('df-10c57923-161d-443c-ae9c-d053d3413d20')\"\n",
              "              title=\"Convert this dataframe to an interactive table.\"\n",
              "              style=\"display:none;\">\n",
              "        \n",
              "  <svg xmlns=\"http://www.w3.org/2000/svg\" height=\"24px\"viewBox=\"0 0 24 24\"\n",
              "       width=\"24px\">\n",
              "    <path d=\"M0 0h24v24H0V0z\" fill=\"none\"/>\n",
              "    <path d=\"M18.56 5.44l.94 2.06.94-2.06 2.06-.94-2.06-.94-.94-2.06-.94 2.06-2.06.94zm-11 1L8.5 8.5l.94-2.06 2.06-.94-2.06-.94L8.5 2.5l-.94 2.06-2.06.94zm10 10l.94 2.06.94-2.06 2.06-.94-2.06-.94-.94-2.06-.94 2.06-2.06.94z\"/><path d=\"M17.41 7.96l-1.37-1.37c-.4-.4-.92-.59-1.43-.59-.52 0-1.04.2-1.43.59L10.3 9.45l-7.72 7.72c-.78.78-.78 2.05 0 2.83L4 21.41c.39.39.9.59 1.41.59.51 0 1.02-.2 1.41-.59l7.78-7.78 2.81-2.81c.8-.78.8-2.07 0-2.86zM5.41 20L4 18.59l7.72-7.72 1.47 1.35L5.41 20z\"/>\n",
              "  </svg>\n",
              "      </button>\n",
              "      \n",
              "  <style>\n",
              "    .colab-df-container {\n",
              "      display:flex;\n",
              "      flex-wrap:wrap;\n",
              "      gap: 12px;\n",
              "    }\n",
              "\n",
              "    .colab-df-convert {\n",
              "      background-color: #E8F0FE;\n",
              "      border: none;\n",
              "      border-radius: 50%;\n",
              "      cursor: pointer;\n",
              "      display: none;\n",
              "      fill: #1967D2;\n",
              "      height: 32px;\n",
              "      padding: 0 0 0 0;\n",
              "      width: 32px;\n",
              "    }\n",
              "\n",
              "    .colab-df-convert:hover {\n",
              "      background-color: #E2EBFA;\n",
              "      box-shadow: 0px 1px 2px rgba(60, 64, 67, 0.3), 0px 1px 3px 1px rgba(60, 64, 67, 0.15);\n",
              "      fill: #174EA6;\n",
              "    }\n",
              "\n",
              "    [theme=dark] .colab-df-convert {\n",
              "      background-color: #3B4455;\n",
              "      fill: #D2E3FC;\n",
              "    }\n",
              "\n",
              "    [theme=dark] .colab-df-convert:hover {\n",
              "      background-color: #434B5C;\n",
              "      box-shadow: 0px 1px 3px 1px rgba(0, 0, 0, 0.15);\n",
              "      filter: drop-shadow(0px 1px 2px rgba(0, 0, 0, 0.3));\n",
              "      fill: #FFFFFF;\n",
              "    }\n",
              "  </style>\n",
              "\n",
              "      <script>\n",
              "        const buttonEl =\n",
              "          document.querySelector('#df-10c57923-161d-443c-ae9c-d053d3413d20 button.colab-df-convert');\n",
              "        buttonEl.style.display =\n",
              "          google.colab.kernel.accessAllowed ? 'block' : 'none';\n",
              "\n",
              "        async function convertToInteractive(key) {\n",
              "          const element = document.querySelector('#df-10c57923-161d-443c-ae9c-d053d3413d20');\n",
              "          const dataTable =\n",
              "            await google.colab.kernel.invokeFunction('convertToInteractive',\n",
              "                                                     [key], {});\n",
              "          if (!dataTable) return;\n",
              "\n",
              "          const docLinkHtml = 'Like what you see? Visit the ' +\n",
              "            '<a target=\"_blank\" href=https://colab.research.google.com/notebooks/data_table.ipynb>data table notebook</a>'\n",
              "            + ' to learn more about interactive tables.';\n",
              "          element.innerHTML = '';\n",
              "          dataTable['output_type'] = 'display_data';\n",
              "          await google.colab.output.renderOutput(dataTable, element);\n",
              "          const docLink = document.createElement('div');\n",
              "          docLink.innerHTML = docLinkHtml;\n",
              "          element.appendChild(docLink);\n",
              "        }\n",
              "      </script>\n",
              "    </div>\n",
              "  </div>\n",
              "  "
            ]
          },
          "metadata": {},
          "execution_count": 12
        }
      ]
    },
    {
      "cell_type": "code",
      "source": [
        "df.info()"
      ],
      "metadata": {
        "colab": {
          "base_uri": "https://localhost:8080/"
        },
        "id": "GjIxfx47TppT",
        "outputId": "0137dbf9-b113-4706-ac29-de3793157d14"
      },
      "execution_count": null,
      "outputs": [
        {
          "output_type": "stream",
          "name": "stdout",
          "text": [
            "<class 'pandas.core.frame.DataFrame'>\n",
            "RangeIndex: 2845342 entries, 0 to 2845341\n",
            "Data columns (total 47 columns):\n",
            " #   Column                 Dtype  \n",
            "---  ------                 -----  \n",
            " 0   ID                     object \n",
            " 1   Severity               int64  \n",
            " 2   Start_Time             object \n",
            " 3   End_Time               object \n",
            " 4   Start_Lat              float64\n",
            " 5   Start_Lng              float64\n",
            " 6   End_Lat                float64\n",
            " 7   End_Lng                float64\n",
            " 8   Distance(mi)           float64\n",
            " 9   Description            object \n",
            " 10  Number                 float64\n",
            " 11  Street                 object \n",
            " 12  Side                   object \n",
            " 13  City                   object \n",
            " 14  County                 object \n",
            " 15  State                  object \n",
            " 16  Zipcode                object \n",
            " 17  Country                object \n",
            " 18  Timezone               object \n",
            " 19  Airport_Code           object \n",
            " 20  Weather_Timestamp      object \n",
            " 21  Temperature(F)         float64\n",
            " 22  Wind_Chill(F)          float64\n",
            " 23  Humidity(%)            float64\n",
            " 24  Pressure(in)           float64\n",
            " 25  Visibility(mi)         float64\n",
            " 26  Wind_Direction         object \n",
            " 27  Wind_Speed(mph)        float64\n",
            " 28  Precipitation(in)      float64\n",
            " 29  Weather_Condition      object \n",
            " 30  Amenity                bool   \n",
            " 31  Bump                   bool   \n",
            " 32  Crossing               bool   \n",
            " 33  Give_Way               bool   \n",
            " 34  Junction               bool   \n",
            " 35  No_Exit                bool   \n",
            " 36  Railway                bool   \n",
            " 37  Roundabout             bool   \n",
            " 38  Station                bool   \n",
            " 39  Stop                   bool   \n",
            " 40  Traffic_Calming        bool   \n",
            " 41  Traffic_Signal         bool   \n",
            " 42  Turning_Loop           bool   \n",
            " 43  Sunrise_Sunset         object \n",
            " 44  Civil_Twilight         object \n",
            " 45  Nautical_Twilight      object \n",
            " 46  Astronomical_Twilight  object \n",
            "dtypes: bool(13), float64(13), int64(1), object(20)\n",
            "memory usage: 773.4+ MB\n"
          ]
        }
      ]
    },
    {
      "cell_type": "code",
      "source": [
        "df.describe()"
      ],
      "metadata": {
        "colab": {
          "base_uri": "https://localhost:8080/",
          "height": 364
        },
        "id": "d7kVMULETpVc",
        "outputId": "10d4723d-c67b-471f-9251-88f70c473536"
      },
      "execution_count": null,
      "outputs": [
        {
          "output_type": "execute_result",
          "data": {
            "text/plain": [
              "           Severity     Start_Lat     Start_Lng       End_Lat       End_Lng  \\\n",
              "count  2.845342e+06  2.845342e+06  2.845342e+06  2.845342e+06  2.845342e+06   \n",
              "mean   2.137572e+00  3.624520e+01 -9.711463e+01  3.624532e+01 -9.711439e+01   \n",
              "std    4.787216e-01  5.363797e+00  1.831782e+01  5.363873e+00  1.831763e+01   \n",
              "min    1.000000e+00  2.456603e+01 -1.245481e+02  2.456601e+01 -1.245457e+02   \n",
              "25%    2.000000e+00  3.344517e+01 -1.180331e+02  3.344628e+01 -1.180333e+02   \n",
              "50%    2.000000e+00  3.609861e+01 -9.241808e+01  3.609799e+01 -9.241772e+01   \n",
              "75%    2.000000e+00  4.016024e+01 -8.037243e+01  4.016105e+01 -8.037338e+01   \n",
              "max    4.000000e+00  4.900058e+01 -6.711317e+01  4.907500e+01 -6.710924e+01   \n",
              "\n",
              "       Distance(mi)        Number  Temperature(F)  Wind_Chill(F)  \\\n",
              "count  2.845342e+06  1.101431e+06    2.776068e+06   2.375699e+06   \n",
              "mean   7.026779e-01  8.089408e+03    6.179356e+01   5.965823e+01   \n",
              "std    1.560361e+00  1.836009e+04    1.862263e+01   2.116097e+01   \n",
              "min    0.000000e+00  0.000000e+00   -8.900000e+01  -8.900000e+01   \n",
              "25%    5.200000e-02  1.270000e+03    5.000000e+01   4.600000e+01   \n",
              "50%    2.440000e-01  4.007000e+03    6.400000e+01   6.300000e+01   \n",
              "75%    7.640000e-01  9.567000e+03    7.600000e+01   7.600000e+01   \n",
              "max    1.551860e+02  9.999997e+06    1.960000e+02   1.960000e+02   \n",
              "\n",
              "        Humidity(%)  Pressure(in)  Visibility(mi)  Wind_Speed(mph)  \\\n",
              "count  2.772250e+06  2.786142e+06    2.774796e+06     2.687398e+06   \n",
              "mean   6.436545e+01  2.947234e+01    9.099391e+00     7.395044e+00   \n",
              "std    2.287457e+01  1.045286e+00    2.717546e+00     5.527454e+00   \n",
              "min    1.000000e+00  0.000000e+00    0.000000e+00     0.000000e+00   \n",
              "25%    4.800000e+01  2.931000e+01    1.000000e+01     3.500000e+00   \n",
              "50%    6.700000e+01  2.982000e+01    1.000000e+01     7.000000e+00   \n",
              "75%    8.300000e+01  3.001000e+01    1.000000e+01     1.000000e+01   \n",
              "max    1.000000e+02  5.890000e+01    1.400000e+02     1.087000e+03   \n",
              "\n",
              "       Precipitation(in)  \n",
              "count       2.295884e+06  \n",
              "mean        7.016940e-03  \n",
              "std         9.348831e-02  \n",
              "min         0.000000e+00  \n",
              "25%         0.000000e+00  \n",
              "50%         0.000000e+00  \n",
              "75%         0.000000e+00  \n",
              "max         2.400000e+01  "
            ],
            "text/html": [
              "\n",
              "  <div id=\"df-ac1b03c7-5b86-4793-bb62-b59361742c1b\">\n",
              "    <div class=\"colab-df-container\">\n",
              "      <div>\n",
              "<style scoped>\n",
              "    .dataframe tbody tr th:only-of-type {\n",
              "        vertical-align: middle;\n",
              "    }\n",
              "\n",
              "    .dataframe tbody tr th {\n",
              "        vertical-align: top;\n",
              "    }\n",
              "\n",
              "    .dataframe thead th {\n",
              "        text-align: right;\n",
              "    }\n",
              "</style>\n",
              "<table border=\"1\" class=\"dataframe\">\n",
              "  <thead>\n",
              "    <tr style=\"text-align: right;\">\n",
              "      <th></th>\n",
              "      <th>Severity</th>\n",
              "      <th>Start_Lat</th>\n",
              "      <th>Start_Lng</th>\n",
              "      <th>End_Lat</th>\n",
              "      <th>End_Lng</th>\n",
              "      <th>Distance(mi)</th>\n",
              "      <th>Number</th>\n",
              "      <th>Temperature(F)</th>\n",
              "      <th>Wind_Chill(F)</th>\n",
              "      <th>Humidity(%)</th>\n",
              "      <th>Pressure(in)</th>\n",
              "      <th>Visibility(mi)</th>\n",
              "      <th>Wind_Speed(mph)</th>\n",
              "      <th>Precipitation(in)</th>\n",
              "    </tr>\n",
              "  </thead>\n",
              "  <tbody>\n",
              "    <tr>\n",
              "      <th>count</th>\n",
              "      <td>2.845342e+06</td>\n",
              "      <td>2.845342e+06</td>\n",
              "      <td>2.845342e+06</td>\n",
              "      <td>2.845342e+06</td>\n",
              "      <td>2.845342e+06</td>\n",
              "      <td>2.845342e+06</td>\n",
              "      <td>1.101431e+06</td>\n",
              "      <td>2.776068e+06</td>\n",
              "      <td>2.375699e+06</td>\n",
              "      <td>2.772250e+06</td>\n",
              "      <td>2.786142e+06</td>\n",
              "      <td>2.774796e+06</td>\n",
              "      <td>2.687398e+06</td>\n",
              "      <td>2.295884e+06</td>\n",
              "    </tr>\n",
              "    <tr>\n",
              "      <th>mean</th>\n",
              "      <td>2.137572e+00</td>\n",
              "      <td>3.624520e+01</td>\n",
              "      <td>-9.711463e+01</td>\n",
              "      <td>3.624532e+01</td>\n",
              "      <td>-9.711439e+01</td>\n",
              "      <td>7.026779e-01</td>\n",
              "      <td>8.089408e+03</td>\n",
              "      <td>6.179356e+01</td>\n",
              "      <td>5.965823e+01</td>\n",
              "      <td>6.436545e+01</td>\n",
              "      <td>2.947234e+01</td>\n",
              "      <td>9.099391e+00</td>\n",
              "      <td>7.395044e+00</td>\n",
              "      <td>7.016940e-03</td>\n",
              "    </tr>\n",
              "    <tr>\n",
              "      <th>std</th>\n",
              "      <td>4.787216e-01</td>\n",
              "      <td>5.363797e+00</td>\n",
              "      <td>1.831782e+01</td>\n",
              "      <td>5.363873e+00</td>\n",
              "      <td>1.831763e+01</td>\n",
              "      <td>1.560361e+00</td>\n",
              "      <td>1.836009e+04</td>\n",
              "      <td>1.862263e+01</td>\n",
              "      <td>2.116097e+01</td>\n",
              "      <td>2.287457e+01</td>\n",
              "      <td>1.045286e+00</td>\n",
              "      <td>2.717546e+00</td>\n",
              "      <td>5.527454e+00</td>\n",
              "      <td>9.348831e-02</td>\n",
              "    </tr>\n",
              "    <tr>\n",
              "      <th>min</th>\n",
              "      <td>1.000000e+00</td>\n",
              "      <td>2.456603e+01</td>\n",
              "      <td>-1.245481e+02</td>\n",
              "      <td>2.456601e+01</td>\n",
              "      <td>-1.245457e+02</td>\n",
              "      <td>0.000000e+00</td>\n",
              "      <td>0.000000e+00</td>\n",
              "      <td>-8.900000e+01</td>\n",
              "      <td>-8.900000e+01</td>\n",
              "      <td>1.000000e+00</td>\n",
              "      <td>0.000000e+00</td>\n",
              "      <td>0.000000e+00</td>\n",
              "      <td>0.000000e+00</td>\n",
              "      <td>0.000000e+00</td>\n",
              "    </tr>\n",
              "    <tr>\n",
              "      <th>25%</th>\n",
              "      <td>2.000000e+00</td>\n",
              "      <td>3.344517e+01</td>\n",
              "      <td>-1.180331e+02</td>\n",
              "      <td>3.344628e+01</td>\n",
              "      <td>-1.180333e+02</td>\n",
              "      <td>5.200000e-02</td>\n",
              "      <td>1.270000e+03</td>\n",
              "      <td>5.000000e+01</td>\n",
              "      <td>4.600000e+01</td>\n",
              "      <td>4.800000e+01</td>\n",
              "      <td>2.931000e+01</td>\n",
              "      <td>1.000000e+01</td>\n",
              "      <td>3.500000e+00</td>\n",
              "      <td>0.000000e+00</td>\n",
              "    </tr>\n",
              "    <tr>\n",
              "      <th>50%</th>\n",
              "      <td>2.000000e+00</td>\n",
              "      <td>3.609861e+01</td>\n",
              "      <td>-9.241808e+01</td>\n",
              "      <td>3.609799e+01</td>\n",
              "      <td>-9.241772e+01</td>\n",
              "      <td>2.440000e-01</td>\n",
              "      <td>4.007000e+03</td>\n",
              "      <td>6.400000e+01</td>\n",
              "      <td>6.300000e+01</td>\n",
              "      <td>6.700000e+01</td>\n",
              "      <td>2.982000e+01</td>\n",
              "      <td>1.000000e+01</td>\n",
              "      <td>7.000000e+00</td>\n",
              "      <td>0.000000e+00</td>\n",
              "    </tr>\n",
              "    <tr>\n",
              "      <th>75%</th>\n",
              "      <td>2.000000e+00</td>\n",
              "      <td>4.016024e+01</td>\n",
              "      <td>-8.037243e+01</td>\n",
              "      <td>4.016105e+01</td>\n",
              "      <td>-8.037338e+01</td>\n",
              "      <td>7.640000e-01</td>\n",
              "      <td>9.567000e+03</td>\n",
              "      <td>7.600000e+01</td>\n",
              "      <td>7.600000e+01</td>\n",
              "      <td>8.300000e+01</td>\n",
              "      <td>3.001000e+01</td>\n",
              "      <td>1.000000e+01</td>\n",
              "      <td>1.000000e+01</td>\n",
              "      <td>0.000000e+00</td>\n",
              "    </tr>\n",
              "    <tr>\n",
              "      <th>max</th>\n",
              "      <td>4.000000e+00</td>\n",
              "      <td>4.900058e+01</td>\n",
              "      <td>-6.711317e+01</td>\n",
              "      <td>4.907500e+01</td>\n",
              "      <td>-6.710924e+01</td>\n",
              "      <td>1.551860e+02</td>\n",
              "      <td>9.999997e+06</td>\n",
              "      <td>1.960000e+02</td>\n",
              "      <td>1.960000e+02</td>\n",
              "      <td>1.000000e+02</td>\n",
              "      <td>5.890000e+01</td>\n",
              "      <td>1.400000e+02</td>\n",
              "      <td>1.087000e+03</td>\n",
              "      <td>2.400000e+01</td>\n",
              "    </tr>\n",
              "  </tbody>\n",
              "</table>\n",
              "</div>\n",
              "      <button class=\"colab-df-convert\" onclick=\"convertToInteractive('df-ac1b03c7-5b86-4793-bb62-b59361742c1b')\"\n",
              "              title=\"Convert this dataframe to an interactive table.\"\n",
              "              style=\"display:none;\">\n",
              "        \n",
              "  <svg xmlns=\"http://www.w3.org/2000/svg\" height=\"24px\"viewBox=\"0 0 24 24\"\n",
              "       width=\"24px\">\n",
              "    <path d=\"M0 0h24v24H0V0z\" fill=\"none\"/>\n",
              "    <path d=\"M18.56 5.44l.94 2.06.94-2.06 2.06-.94-2.06-.94-.94-2.06-.94 2.06-2.06.94zm-11 1L8.5 8.5l.94-2.06 2.06-.94-2.06-.94L8.5 2.5l-.94 2.06-2.06.94zm10 10l.94 2.06.94-2.06 2.06-.94-2.06-.94-.94-2.06-.94 2.06-2.06.94z\"/><path d=\"M17.41 7.96l-1.37-1.37c-.4-.4-.92-.59-1.43-.59-.52 0-1.04.2-1.43.59L10.3 9.45l-7.72 7.72c-.78.78-.78 2.05 0 2.83L4 21.41c.39.39.9.59 1.41.59.51 0 1.02-.2 1.41-.59l7.78-7.78 2.81-2.81c.8-.78.8-2.07 0-2.86zM5.41 20L4 18.59l7.72-7.72 1.47 1.35L5.41 20z\"/>\n",
              "  </svg>\n",
              "      </button>\n",
              "      \n",
              "  <style>\n",
              "    .colab-df-container {\n",
              "      display:flex;\n",
              "      flex-wrap:wrap;\n",
              "      gap: 12px;\n",
              "    }\n",
              "\n",
              "    .colab-df-convert {\n",
              "      background-color: #E8F0FE;\n",
              "      border: none;\n",
              "      border-radius: 50%;\n",
              "      cursor: pointer;\n",
              "      display: none;\n",
              "      fill: #1967D2;\n",
              "      height: 32px;\n",
              "      padding: 0 0 0 0;\n",
              "      width: 32px;\n",
              "    }\n",
              "\n",
              "    .colab-df-convert:hover {\n",
              "      background-color: #E2EBFA;\n",
              "      box-shadow: 0px 1px 2px rgba(60, 64, 67, 0.3), 0px 1px 3px 1px rgba(60, 64, 67, 0.15);\n",
              "      fill: #174EA6;\n",
              "    }\n",
              "\n",
              "    [theme=dark] .colab-df-convert {\n",
              "      background-color: #3B4455;\n",
              "      fill: #D2E3FC;\n",
              "    }\n",
              "\n",
              "    [theme=dark] .colab-df-convert:hover {\n",
              "      background-color: #434B5C;\n",
              "      box-shadow: 0px 1px 3px 1px rgba(0, 0, 0, 0.15);\n",
              "      filter: drop-shadow(0px 1px 2px rgba(0, 0, 0, 0.3));\n",
              "      fill: #FFFFFF;\n",
              "    }\n",
              "  </style>\n",
              "\n",
              "      <script>\n",
              "        const buttonEl =\n",
              "          document.querySelector('#df-ac1b03c7-5b86-4793-bb62-b59361742c1b button.colab-df-convert');\n",
              "        buttonEl.style.display =\n",
              "          google.colab.kernel.accessAllowed ? 'block' : 'none';\n",
              "\n",
              "        async function convertToInteractive(key) {\n",
              "          const element = document.querySelector('#df-ac1b03c7-5b86-4793-bb62-b59361742c1b');\n",
              "          const dataTable =\n",
              "            await google.colab.kernel.invokeFunction('convertToInteractive',\n",
              "                                                     [key], {});\n",
              "          if (!dataTable) return;\n",
              "\n",
              "          const docLinkHtml = 'Like what you see? Visit the ' +\n",
              "            '<a target=\"_blank\" href=https://colab.research.google.com/notebooks/data_table.ipynb>data table notebook</a>'\n",
              "            + ' to learn more about interactive tables.';\n",
              "          element.innerHTML = '';\n",
              "          dataTable['output_type'] = 'display_data';\n",
              "          await google.colab.output.renderOutput(dataTable, element);\n",
              "          const docLink = document.createElement('div');\n",
              "          docLink.innerHTML = docLinkHtml;\n",
              "          element.appendChild(docLink);\n",
              "        }\n",
              "      </script>\n",
              "    </div>\n",
              "  </div>\n",
              "  "
            ]
          },
          "metadata": {},
          "execution_count": 14
        }
      ]
    },
    {
      "cell_type": "code",
      "source": [
        "numerics=['int16','int32','int64','float16','float32','float64']\n",
        "numeric_df=df.select_dtypes(include=numerics)\n",
        "len(numeric_df.columns)\n",
        "len(numeric_df.values)"
      ],
      "metadata": {
        "colab": {
          "base_uri": "https://localhost:8080/"
        },
        "id": "vgX8wf3OUutB",
        "outputId": "8fb035e3-442d-4c88-cf77-041a9da17ffd"
      },
      "execution_count": null,
      "outputs": [
        {
          "output_type": "execute_result",
          "data": {
            "text/plain": [
              "2845342"
            ]
          },
          "metadata": {},
          "execution_count": 22
        }
      ]
    },
    {
      "cell_type": "markdown",
      "source": [
        "Number of numeric columns=14\n",
        "Number of records=2845342"
      ],
      "metadata": {
        "id": "saVj1j-KX8eS"
      }
    },
    {
      "cell_type": "markdown",
      "source": [
        "# Count of missing values\n"
      ],
      "metadata": {
        "id": "Rl2ZqmP6adDS"
      }
    },
    {
      "cell_type": "code",
      "source": [
        "missing_percentage=df.isna().sum().sort_values(ascending=False)/len(df)\n",
        "missing_percentage"
      ],
      "metadata": {
        "colab": {
          "base_uri": "https://localhost:8080/"
        },
        "id": "FZaxOckxUuqG",
        "outputId": "93f12b41-ef3c-47b6-d4fd-422707e9c471"
      },
      "execution_count": null,
      "outputs": [
        {
          "output_type": "execute_result",
          "data": {
            "text/plain": [
              "Number                   6.129003e-01\n",
              "Precipitation(in)        1.931079e-01\n",
              "Wind_Chill(F)            1.650568e-01\n",
              "Wind_Speed(mph)          5.550967e-02\n",
              "Wind_Direction           2.592834e-02\n",
              "Humidity(%)              2.568830e-02\n",
              "Weather_Condition        2.482514e-02\n",
              "Visibility(mi)           2.479350e-02\n",
              "Temperature(F)           2.434646e-02\n",
              "Pressure(in)             2.080593e-02\n",
              "Weather_Timestamp        1.783125e-02\n",
              "Airport_Code             3.356011e-03\n",
              "Timezone                 1.285961e-03\n",
              "Nautical_Twilight        1.007612e-03\n",
              "Civil_Twilight           1.007612e-03\n",
              "Sunrise_Sunset           1.007612e-03\n",
              "Astronomical_Twilight    1.007612e-03\n",
              "Zipcode                  4.635647e-04\n",
              "City                     4.814887e-05\n",
              "Street                   7.029032e-07\n",
              "Country                  0.000000e+00\n",
              "Junction                 0.000000e+00\n",
              "Start_Time               0.000000e+00\n",
              "End_Time                 0.000000e+00\n",
              "Start_Lat                0.000000e+00\n",
              "Turning_Loop             0.000000e+00\n",
              "Traffic_Signal           0.000000e+00\n",
              "Traffic_Calming          0.000000e+00\n",
              "Stop                     0.000000e+00\n",
              "Station                  0.000000e+00\n",
              "Roundabout               0.000000e+00\n",
              "Railway                  0.000000e+00\n",
              "No_Exit                  0.000000e+00\n",
              "Crossing                 0.000000e+00\n",
              "Give_Way                 0.000000e+00\n",
              "Bump                     0.000000e+00\n",
              "Amenity                  0.000000e+00\n",
              "Start_Lng                0.000000e+00\n",
              "End_Lat                  0.000000e+00\n",
              "End_Lng                  0.000000e+00\n",
              "Distance(mi)             0.000000e+00\n",
              "Description              0.000000e+00\n",
              "Severity                 0.000000e+00\n",
              "Side                     0.000000e+00\n",
              "County                   0.000000e+00\n",
              "State                    0.000000e+00\n",
              "ID                       0.000000e+00\n",
              "dtype: float64"
            ]
          },
          "metadata": {},
          "execution_count": 23
        }
      ]
    },
    {
      "cell_type": "code",
      "source": [
        "missing_percentage[missing_percentage !=0]"
      ],
      "metadata": {
        "colab": {
          "base_uri": "https://localhost:8080/"
        },
        "id": "Gq8k57MydtiK",
        "outputId": "c60df534-038c-4567-b8dd-6a1c74e234db"
      },
      "execution_count": null,
      "outputs": [
        {
          "output_type": "execute_result",
          "data": {
            "text/plain": [
              "Number                   6.129003e-01\n",
              "Precipitation(in)        1.931079e-01\n",
              "Wind_Chill(F)            1.650568e-01\n",
              "Wind_Speed(mph)          5.550967e-02\n",
              "Wind_Direction           2.592834e-02\n",
              "Humidity(%)              2.568830e-02\n",
              "Weather_Condition        2.482514e-02\n",
              "Visibility(mi)           2.479350e-02\n",
              "Temperature(F)           2.434646e-02\n",
              "Pressure(in)             2.080593e-02\n",
              "Weather_Timestamp        1.783125e-02\n",
              "Airport_Code             3.356011e-03\n",
              "Timezone                 1.285961e-03\n",
              "Nautical_Twilight        1.007612e-03\n",
              "Civil_Twilight           1.007612e-03\n",
              "Sunrise_Sunset           1.007612e-03\n",
              "Astronomical_Twilight    1.007612e-03\n",
              "Zipcode                  4.635647e-04\n",
              "City                     4.814887e-05\n",
              "Street                   7.029032e-07\n",
              "dtype: float64"
            ]
          },
          "metadata": {},
          "execution_count": 24
        }
      ]
    },
    {
      "cell_type": "code",
      "source": [
        "missing_percentage[missing_percentage !=0].plot(kind='barh')"
      ],
      "metadata": {
        "colab": {
          "base_uri": "https://localhost:8080/",
          "height": 282
        },
        "id": "5kE8pFK4UuZ9",
        "outputId": "ef6e882f-c855-493e-c962-1d2c565557da"
      },
      "execution_count": null,
      "outputs": [
        {
          "output_type": "execute_result",
          "data": {
            "text/plain": [
              "<matplotlib.axes._subplots.AxesSubplot at 0x7f88d4ecd510>"
            ]
          },
          "metadata": {},
          "execution_count": 25
        },
        {
          "output_type": "display_data",
          "data": {
            "text/plain": [
              "<Figure size 432x288 with 1 Axes>"
            ],
            "image/png": "[encoded data removed]"
          },
          "metadata": {
            "needs_background": "light"
          }
        }
      ]
    },
    {
      "cell_type": "markdown",
      "source": [
        ""
      ],
      "metadata": {
        "id": "kRQqJ7QkCO97"
      }
    },
    {
      "cell_type": "markdown",
      "source": [
        "## Exploratory Data Analysis and Visualization\n",
        "Columns we'll analyze\n",
        " 1. City\n",
        " 2. Start Time\n",
        " 3. Start Lat, Start Lng\n",
        " 4. Temperature\n",
        " 5. Weather Condition\n",
        " 6. Visibility"
      ],
      "metadata": {
        "id": "oei-lOdUGfn1"
      }
    },
    {
      "cell_type": "markdown",
      "source": [
        "# Citywise Analysis\n",
        "Top 5 cities having highest number of accidents:\n"
      ],
      "metadata": {
        "id": "fZwgPdqniHJR"
      }
    },
    {
      "cell_type": "code",
      "source": [
        "df.City"
      ],
      "metadata": {
        "colab": {
          "base_uri": "https://localhost:8080/"
        },
        "id": "lGM0FlHiGwX4",
        "outputId": "f151fb9e-4108-490a-d8c7-0217858ea852"
      },
      "execution_count": null,
      "outputs": [
        {
          "output_type": "execute_result",
          "data": {
            "text/plain": [
              "0               Dublin\n",
              "1               Dayton\n",
              "2           Cincinnati\n",
              "3                Akron\n",
              "4           Cincinnati\n",
              "              ...     \n",
              "2845337      Riverside\n",
              "2845338      San Diego\n",
              "2845339         Orange\n",
              "2845340    Culver City\n",
              "2845341       Highland\n",
              "Name: City, Length: 2845342, dtype: object"
            ]
          },
          "metadata": {},
          "execution_count": 26
        }
      ]
    },
    {
      "cell_type": "code",
      "source": [
        "unique_cities=df.City.unique()\n",
        "len(unique_cities)"
      ],
      "metadata": {
        "colab": {
          "base_uri": "https://localhost:8080/"
        },
        "id": "FSENlMHpGxqj",
        "outputId": "265e212f-073f-4724-f5a2-98d840f692fe"
      },
      "execution_count": null,
      "outputs": [
        {
          "output_type": "execute_result",
          "data": {
            "text/plain": [
              "11682"
            ]
          },
          "metadata": {},
          "execution_count": 27
        }
      ]
    },
    {
      "cell_type": "markdown",
      "source": [
        "Number of uniques cities of US included in this dataset=11682"
      ],
      "metadata": {
        "id": "kiEpk9HYjZDG"
      }
    },
    {
      "cell_type": "code",
      "source": [
        "df['City'].value_counts().head(5).plot(kind='barh')"
      ],
      "metadata": {
        "id": "Sb6ckcp2GxMy",
        "colab": {
          "base_uri": "https://localhost:8080/",
          "height": 282
        },
        "outputId": "efcc0379-2db0-475a-f9a3-20ac26dc48be"
      },
      "execution_count": null,
      "outputs": [
        {
          "output_type": "execute_result",
          "data": {
            "text/plain": [
              "<matplotlib.axes._subplots.AxesSubplot at 0x7f88d4ddf110>"
            ]
          },
          "metadata": {},
          "execution_count": 28
        },
        {
          "output_type": "display_data",
          "data": {
            "text/plain": [
              "<Figure size 432x288 with 1 Axes>"
            ],
            "image/png": "[encoded data removed]"
          },
          "metadata": {
            "needs_background": "light"
          }
        }
      ]
    },
    {
      "cell_type": "markdown",
      "source": [
        "Q: Which top 5 states of US has the highest number of accidents?\n",
        "Top 5 Cities having most number of accidents:\n",
        " 1. Miami\n",
        " 2. Los Angeles\n",
        " 3. Orlando\n",
        " 4. Dallas\n",
        " 5. Houston"
      ],
      "metadata": {
        "id": "rW-gjK7j1m0n"
      }
    },
    {
      "cell_type": "markdown",
      "source": [
        "Number of accidents per city in percentage= 2%"
      ],
      "metadata": {
        "id": "lu8wwbc35BBO"
      }
    },
    {
      "cell_type": "code",
      "source": [
        "num_of_accidents=df['City'].value_counts()/len(unique_cities)\n",
        "num_of_accidents.mean()*100"
      ],
      "metadata": {
        "colab": {
          "base_uri": "https://localhost:8080/"
        },
        "id": "7xTSXfMK4Ofg",
        "outputId": "6c6e5e16-1ee6-453e-9203-9e625326dd42"
      },
      "execution_count": null,
      "outputs": [
        {
          "output_type": "execute_result",
          "data": {
            "text/plain": [
              "2.0850493445421616"
            ]
          },
          "metadata": {},
          "execution_count": 29
        }
      ]
    },
    {
      "cell_type": "markdown",
      "source": [
        "Miami has more than 8 accidents per city.\n",
        " -Los Angeles has 6 accidents per city.\n",
        " -Orlando has more than 4 accidents per city.\n",
        " -Dallas has nearly 4 accidents per city.\n"
      ],
      "metadata": {
        "id": "w7lRevfW-a0e"
      }
    },
    {
      "cell_type": "code",
      "source": [
        "num_of_accidents[:20].plot(kind='barh')"
      ],
      "metadata": {
        "colab": {
          "base_uri": "https://localhost:8080/",
          "height": 282
        },
        "id": "2SUAeZB_4OPB",
        "outputId": "f69b5eb1-31b9-4ff8-c9e4-c90b0dc8f16c"
      },
      "execution_count": null,
      "outputs": [
        {
          "output_type": "execute_result",
          "data": {
            "text/plain": [
              "<matplotlib.axes._subplots.AxesSubplot at 0x7f88d48dd510>"
            ]
          },
          "metadata": {},
          "execution_count": 30
        },
        {
          "output_type": "display_data",
          "data": {
            "text/plain": [
              "<Figure size 432x288 with 1 Axes>"
            ],
            "image/png": "[encoded data removed]"
          },
          "metadata": {
            "needs_background": "light"
          }
        }
      ]
    },
    {
      "cell_type": "markdown",
      "source": [
        "# The city New York exists in the dataset or not?"
      ],
      "metadata": {
        "id": "vITkAjuRAmNw"
      }
    },
    {
      "cell_type": "code",
      "source": [
        "'New York' in df.City\n",
        "'NY' in df.State"
      ],
      "metadata": {
        "colab": {
          "base_uri": "https://localhost:8080/"
        },
        "id": "8UGS2fX9AcPw",
        "outputId": "9f6a61f8-b85c-4063-d157-2062a15c6a28"
      },
      "execution_count": null,
      "outputs": [
        {
          "output_type": "execute_result",
          "data": {
            "text/plain": [
              "False"
            ]
          },
          "metadata": {},
          "execution_count": 31
        }
      ]
    },
    {
      "cell_type": "markdown",
      "source": [
        "Q: Does New York show up in the data? Why is the count lower if it the most populated city?\n",
        "Answer- No, New York does not exists in the dataset."
      ],
      "metadata": {
        "id": "ZOpWTQ7e_uH1"
      }
    },
    {
      "cell_type": "markdown",
      "source": [
        ""
      ],
      "metadata": {
        "id": "f9Vd4SoGC_mg"
      }
    },
    {
      "cell_type": "code",
      "source": [
        "import seaborn as sns\n",
        "sns.set_style('darkgrid')\n",
        "sns.histplot(df['City'].value_counts(),log_scale=True)"
      ],
      "metadata": {
        "colab": {
          "base_uri": "https://localhost:8080/",
          "height": 300
        },
        "id": "nFQ1bMBw4OBh",
        "outputId": "0c48e62a-5de2-4e52-c0bc-a5e06f733e6f"
      },
      "execution_count": null,
      "outputs": [
        {
          "output_type": "execute_result",
          "data": {
            "text/plain": [
              "<matplotlib.axes._subplots.AxesSubplot at 0x7f88c8633750>"
            ]
          },
          "metadata": {},
          "execution_count": 32
        },
        {
          "output_type": "display_data",
          "data": {
            "text/plain": [
              "<Figure size 432x288 with 1 Axes>"
            ],
            "image/png": "[encoded data removed]"
          },
          "metadata": {}
        }
      ]
    },
    {
      "cell_type": "code",
      "source": [
        "\n",
        "high_accident_cities=(df['City'].value_counts())[(df['City'].value_counts())>=1000]\n",
        "low_accident_cities=(df['City'].value_counts())[(df['City'].value_counts())<1000]"
      ],
      "metadata": {
        "id": "F9dXW1-24N0M"
      },
      "execution_count": null,
      "outputs": []
    },
    {
      "cell_type": "markdown",
      "source": [
        "Number of high accident cities=496"
      ],
      "metadata": {
        "id": "WNg-PxoAH7p9"
      }
    },
    {
      "cell_type": "code",
      "source": [
        "cities_by_accidents=(df['City'].value_counts())[(df['City'].value_counts())==1]\n",
        "cities_by_accidents"
      ],
      "metadata": {
        "colab": {
          "base_uri": "https://localhost:8080/"
        },
        "id": "XPZzKumJdUjh",
        "outputId": "3d2fd56a-40af-4fe1-96f1-e1d4ae101c87"
      },
      "execution_count": null,
      "outputs": [
        {
          "output_type": "execute_result",
          "data": {
            "text/plain": [
              "Carney                          1\n",
              "Waverly Hall                    1\n",
              "Center Sandwich                 1\n",
              "Glen Flora                      1\n",
              "Sulphur Springs                 1\n",
              "                               ..\n",
              "Ridgedale                       1\n",
              "Sekiu                           1\n",
              "Wooldridge                      1\n",
              "Bullock                         1\n",
              "American Fork-Pleasant Grove    1\n",
              "Name: City, Length: 1110, dtype: int64"
            ]
          },
          "metadata": {},
          "execution_count": 34
        }
      ]
    },
    {
      "cell_type": "code",
      "source": [
        "sns.distplot(low_accident_cities)"
      ],
      "metadata": {
        "colab": {
          "base_uri": "https://localhost:8080/",
          "height": 351
        },
        "id": "t2_8YFHvdyix",
        "outputId": "1eb12589-498c-4648-9ad2-6c7e9d2f508c"
      },
      "execution_count": null,
      "outputs": [
        {
          "output_type": "stream",
          "name": "stderr",
          "text": [
            "/usr/local/lib/python3.7/dist-packages/seaborn/distributions.py:2619: FutureWarning: `distplot` is a deprecated function and will be removed in a future version. Please adapt your code to use either `displot` (a figure-level function with similar flexibility) or `histplot` (an axes-level function for histograms).\n",
            "  warnings.warn(msg, FutureWarning)\n"
          ]
        },
        {
          "output_type": "execute_result",
          "data": {
            "text/plain": [
              "<matplotlib.axes._subplots.AxesSubplot at 0x7f88c831a190>"
            ]
          },
          "metadata": {},
          "execution_count": 35
        },
        {
          "output_type": "display_data",
          "data": {
            "text/plain": [
              "<Figure size 432x288 with 1 Axes>"
            ],
            "image/png": "[encoded data removed]"
          },
          "metadata": {}
        }
      ]
    },
    {
      "cell_type": "code",
      "source": [
        "percent_high_accident_cities=(len(high_accident_cities)/11681)*100\n",
        "percent_high_accident_cities\n"
      ],
      "metadata": {
        "colab": {
          "base_uri": "https://localhost:8080/"
        },
        "id": "1k3luk0JFh0I",
        "outputId": "786b66a0-fce8-4c28-8520-c480a3035ba2"
      },
      "execution_count": null,
      "outputs": [
        {
          "output_type": "execute_result",
          "data": {
            "text/plain": [
              "4.246211796935194"
            ]
          },
          "metadata": {},
          "execution_count": 36
        }
      ]
    },
    {
      "cell_type": "markdown",
      "source": [
        "Number of low accident cities=11185"
      ],
      "metadata": {
        "id": "VgHSGW3wICwx"
      }
    },
    {
      "cell_type": "code",
      "source": [
        "percent_low_accident_cities=(len(low_accident_cities)/11681)*100\n",
        "percent_low_accident_cities\n"
      ],
      "metadata": {
        "colab": {
          "base_uri": "https://localhost:8080/"
        },
        "id": "xIcDoMScFhnt",
        "outputId": "bcdee850-6307-48bf-b533-1cb8296aab7e"
      },
      "execution_count": null,
      "outputs": [
        {
          "output_type": "execute_result",
          "data": {
            "text/plain": [
              "95.7537882030648"
            ]
          },
          "metadata": {},
          "execution_count": 37
        }
      ]
    },
    {
      "cell_type": "markdown",
      "source": [
        "# Start Time Analysis"
      ],
      "metadata": {
        "id": "ePyYQZl-iKxX"
      }
    },
    {
      "cell_type": "code",
      "source": [
        "\n",
        "df.Start_Time=pd.to_datetime(df.Start_Time)"
      ],
      "metadata": {
        "id": "7-Ogbnc-FhWJ"
      },
      "execution_count": null,
      "outputs": []
    },
    {
      "cell_type": "code",
      "source": [
        "sns.distplot(df.Start_Time.dt.hour,bins=24,kde=False,norm_hist=True)"
      ],
      "metadata": {
        "colab": {
          "base_uri": "https://localhost:8080/",
          "height": 352
        },
        "id": "ZMubP78OFhIg",
        "outputId": "032b4aa5-b28e-471a-b81e-16be3075b2e2"
      },
      "execution_count": null,
      "outputs": [
        {
          "output_type": "stream",
          "name": "stderr",
          "text": [
            "/usr/local/lib/python3.7/dist-packages/seaborn/distributions.py:2619: FutureWarning: `distplot` is a deprecated function and will be removed in a future version. Please adapt your code to use either `displot` (a figure-level function with similar flexibility) or `histplot` (an axes-level function for histograms).\n",
            "  warnings.warn(msg, FutureWarning)\n"
          ]
        },
        {
          "output_type": "execute_result",
          "data": {
            "text/plain": [
              "<matplotlib.axes._subplots.AxesSubplot at 0x7f890c1544d0>"
            ]
          },
          "metadata": {},
          "execution_count": 39
        },
        {
          "output_type": "display_data",
          "data": {
            "text/plain": [
              "<Figure size 432x288 with 1 Axes>"
            ],
            "image/png": "[encoded data removed]"
          },
          "metadata": {}
        }
      ]
    },
    {
      "cell_type": "markdown",
      "source": [
        "Q: Which time of the day has most number of accidents?\n",
        "- High percentage of accidents occurs between 12 pm to 6 pm.\n",
        "- Next highest percentage of accidents happen between 6 am to 9 am.(probably people are in hurry to go to work.)"
      ],
      "metadata": {
        "id": "7dQ_8tiAnyfC"
      }
    },
    {
      "cell_type": "code",
      "source": [
        "sns.distplot(df.Start_Time.dt.dayofweek,bins=7,kde=False,norm_hist=True)"
      ],
      "metadata": {
        "colab": {
          "base_uri": "https://localhost:8080/",
          "height": 352
        },
        "id": "ztcnDSZep97l",
        "outputId": "6fdb9fb6-fa3c-4674-957d-2b1e731d5c3d"
      },
      "execution_count": null,
      "outputs": [
        {
          "output_type": "stream",
          "name": "stderr",
          "text": [
            "/usr/local/lib/python3.7/dist-packages/seaborn/distributions.py:2619: FutureWarning: `distplot` is a deprecated function and will be removed in a future version. Please adapt your code to use either `displot` (a figure-level function with similar flexibility) or `histplot` (an axes-level function for histograms).\n",
            "  warnings.warn(msg, FutureWarning)\n"
          ]
        },
        {
          "output_type": "execute_result",
          "data": {
            "text/plain": [
              "<matplotlib.axes._subplots.AxesSubplot at 0x7f891311ec10>"
            ]
          },
          "metadata": {},
          "execution_count": 40
        },
        {
          "output_type": "display_data",
          "data": {
            "text/plain": [
              "<Figure size 432x288 with 1 Axes>"
            ],
            "image/png": "[encoded data removed]"
          },
          "metadata": {}
        }
      ]
    },
    {
      "cell_type": "markdown",
      "source": [
        "# Is the distribution of accidens by hour the same on weekends as on weekdays?\n",
        "\n",
        "-On weekends the number of accidents are lower"
      ],
      "metadata": {
        "id": "oO6CeNLlqbtx"
      }
    },
    {
      "cell_type": "code",
      "source": [
        "sundays_start_time= df.Start_Time[df.Start_Time.dt.dayofweek==6]\n",
        "sns.distplot(sundays_start_time.dt.hour,bins=24,kde=False,norm_hist=True)"
      ],
      "metadata": {
        "colab": {
          "base_uri": "https://localhost:8080/",
          "height": 352
        },
        "id": "Ryj9yuWPp9oZ",
        "outputId": "d3bd8fe1-463a-4897-bb81-f7bb9214d160"
      },
      "execution_count": null,
      "outputs": [
        {
          "output_type": "stream",
          "name": "stderr",
          "text": [
            "/usr/local/lib/python3.7/dist-packages/seaborn/distributions.py:2619: FutureWarning: `distplot` is a deprecated function and will be removed in a future version. Please adapt your code to use either `displot` (a figure-level function with similar flexibility) or `histplot` (an axes-level function for histograms).\n",
            "  warnings.warn(msg, FutureWarning)\n"
          ]
        },
        {
          "output_type": "execute_result",
          "data": {
            "text/plain": [
              "<matplotlib.axes._subplots.AxesSubplot at 0x7f88c593bbd0>"
            ]
          },
          "metadata": {},
          "execution_count": 41
        },
        {
          "output_type": "display_data",
          "data": {
            "text/plain": [
              "<Figure size 432x288 with 1 Axes>"
            ],
            "image/png": "[encoded data removed]"
          },
          "metadata": {}
        }
      ]
    },
    {
      "cell_type": "markdown",
      "source": [
        "- On sunday peak occur during afternoon(between 11 am to 8pm)"
      ],
      "metadata": {
        "id": "7i-4morAtCD4"
      }
    },
    {
      "cell_type": "markdown",
      "source": [
        "- What is the distribution of accidents on monday?\n",
        "Ans- There occurs two gaussian curve in the distribution graphs, one when going to work and other one when coming from work."
      ],
      "metadata": {
        "id": "SV2QS57jtZOm"
      }
    },
    {
      "cell_type": "code",
      "source": [
        "mondays_start_time= df.Start_Time[df.Start_Time.dt.dayofweek==0]\n",
        "sns.distplot(mondays_start_time.dt.hour,bins=24,kde=False,norm_hist=True)"
      ],
      "metadata": {
        "colab": {
          "base_uri": "https://localhost:8080/",
          "height": 352
        },
        "id": "Oqhe-Brjp9Zs",
        "outputId": "75e672fc-313b-4a8f-a1ed-3aa27c52df04"
      },
      "execution_count": null,
      "outputs": [
        {
          "output_type": "stream",
          "name": "stderr",
          "text": [
            "/usr/local/lib/python3.7/dist-packages/seaborn/distributions.py:2619: FutureWarning: `distplot` is a deprecated function and will be removed in a future version. Please adapt your code to use either `displot` (a figure-level function with similar flexibility) or `histplot` (an axes-level function for histograms).\n",
            "  warnings.warn(msg, FutureWarning)\n"
          ]
        },
        {
          "output_type": "execute_result",
          "data": {
            "text/plain": [
              "<matplotlib.axes._subplots.AxesSubplot at 0x7f88c5835050>"
            ]
          },
          "metadata": {},
          "execution_count": 42
        },
        {
          "output_type": "display_data",
          "data": {
            "text/plain": [
              "<Figure size 432x288 with 1 Axes>"
            ],
            "image/png": "[encoded data removed]"
          },
          "metadata": {}
        }
      ]
    },
    {
      "cell_type": "markdown",
      "source": [
        "# Month Analysis\n",
        "Q: Are there more accidents in summer or in winter?\n",
        "-Highest no of accidents occur in winter. it may happen due to low visibility in winter.\n",
        "\n",
        "Q: Which month of the year have the most number of accidents?\n",
        "-Most number of accidents occur in the month of December.\n",
        "\n",
        "- the number of accident in the month of july and auguest in 2020 are missing.(it needs to be investigated)\n"
      ],
      "metadata": {
        "id": "mmx21LVevpl0"
      }
    },
    {
      "cell_type": "code",
      "source": [
        "df_2020= df[df.Start_Time.dt.year==2021]\n",
        "\n",
        "sns.distplot(df_2020.Start_Time.dt.month,bins=12,kde=False,norm_hist=True)"
      ],
      "metadata": {
        "colab": {
          "base_uri": "https://localhost:8080/",
          "height": 355
        },
        "id": "0KYwkYne1KZo",
        "outputId": "eae68442-c67f-488f-863d-dd38bf8db18e"
      },
      "execution_count": null,
      "outputs": [
        {
          "output_type": "stream",
          "name": "stderr",
          "text": [
            "/usr/local/lib/python3.7/dist-packages/seaborn/distributions.py:2619: FutureWarning: `distplot` is a deprecated function and will be removed in a future version. Please adapt your code to use either `displot` (a figure-level function with similar flexibility) or `histplot` (an axes-level function for histograms).\n",
            "  warnings.warn(msg, FutureWarning)\n"
          ]
        },
        {
          "output_type": "execute_result",
          "data": {
            "text/plain": [
              "<matplotlib.axes._subplots.AxesSubplot at 0x7f88c57c0710>"
            ]
          },
          "metadata": {},
          "execution_count": 43
        },
        {
          "output_type": "display_data",
          "data": {
            "text/plain": [
              "<Figure size 432x288 with 1 Axes>"
            ],
            "image/png": "[encoded data removed]"
          },
          "metadata": {}
        }
      ]
    },
    {
      "cell_type": "code",
      "source": [
        "df_year=df.Start_Time.dt.year\n",
        "sns.distplot(df_year,kde=False,norm_hist=True)"
      ],
      "metadata": {
        "colab": {
          "base_uri": "https://localhost:8080/",
          "height": 352
        },
        "id": "R3TbQHy4agSg",
        "outputId": "230348fa-419a-4160-ad52-3050a9326ced"
      },
      "execution_count": null,
      "outputs": [
        {
          "output_type": "stream",
          "name": "stderr",
          "text": [
            "/usr/local/lib/python3.7/dist-packages/seaborn/distributions.py:2619: FutureWarning: `distplot` is a deprecated function and will be removed in a future version. Please adapt your code to use either `displot` (a figure-level function with similar flexibility) or `histplot` (an axes-level function for histograms).\n",
            "  warnings.warn(msg, FutureWarning)\n"
          ]
        },
        {
          "output_type": "execute_result",
          "data": {
            "text/plain": [
              "<matplotlib.axes._subplots.AxesSubplot at 0x7f88a072d8d0>"
            ]
          },
          "metadata": {},
          "execution_count": 79
        },
        {
          "output_type": "display_data",
          "data": {
            "text/plain": [
              "<Figure size 432x288 with 1 Axes>"
            ],
            "image/png": "[encoded data removed]"
          },
          "metadata": {}
        }
      ]
    },
    {
      "cell_type": "markdown",
      "source": [
        "Q: What is the trend of accidents year over year(decreasing/increasing)?\n",
        "Ans- The trend of accidents is increasing year over year."
      ],
      "metadata": {
        "id": "di7Mk0TecTea"
      }
    },
    {
      "cell_type": "code",
      "source": [
        "'Source' in df.columns"
      ],
      "metadata": {
        "colab": {
          "base_uri": "https://localhost:8080/"
        },
        "id": "oKRnH_0cp9KP",
        "outputId": "153c4861-2300-4dba-9789-d73692a3fc01"
      },
      "execution_count": null,
      "outputs": [
        {
          "output_type": "execute_result",
          "data": {
            "text/plain": [
              "False"
            ]
          },
          "metadata": {},
          "execution_count": 44
        }
      ]
    },
    {
      "cell_type": "markdown",
      "source": [
        "- Source columns is not available in the dataset. So we can not perform bing and MapQuest analysis here."
      ],
      "metadata": {
        "id": "ffR_9lBE8P7S"
      }
    },
    {
      "cell_type": "markdown",
      "source": [
        "## Start Latitude, Longitude"
      ],
      "metadata": {
        "id": "4YWT5QiC978d"
      }
    },
    {
      "cell_type": "code",
      "source": [
        "df.Start_Lat"
      ],
      "metadata": {
        "colab": {
          "base_uri": "https://localhost:8080/"
        },
        "id": "QD-Zn7ox4NfY",
        "outputId": "046d9323-b3ac-4820-ac3a-7a5e24e17bed"
      },
      "execution_count": null,
      "outputs": [
        {
          "output_type": "execute_result",
          "data": {
            "text/plain": [
              "0          40.108910\n",
              "1          39.865420\n",
              "2          39.102660\n",
              "3          41.062130\n",
              "4          39.172393\n",
              "             ...    \n",
              "2845337    34.002480\n",
              "2845338    32.766960\n",
              "2845339    33.775450\n",
              "2845340    33.992460\n",
              "2845341    34.133930\n",
              "Name: Start_Lat, Length: 2845342, dtype: float64"
            ]
          },
          "metadata": {},
          "execution_count": 45
        }
      ]
    },
    {
      "cell_type": "code",
      "source": [
        "df.Start_Lng"
      ],
      "metadata": {
        "colab": {
          "base_uri": "https://localhost:8080/"
        },
        "id": "bk3P2rLc9VMJ",
        "outputId": "28f0d051-60e8-46bd-b7b6-d7d8d350b907"
      },
      "execution_count": null,
      "outputs": [
        {
          "output_type": "execute_result",
          "data": {
            "text/plain": [
              "0          -83.092860\n",
              "1          -84.062800\n",
              "2          -84.524680\n",
              "3          -81.537840\n",
              "4          -84.492792\n",
              "              ...    \n",
              "2845337   -117.379360\n",
              "2845338   -117.148060\n",
              "2845339   -117.847790\n",
              "2845340   -118.403020\n",
              "2845341   -117.230920\n",
              "Name: Start_Lng, Length: 2845342, dtype: float64"
            ]
          },
          "metadata": {},
          "execution_count": 46
        }
      ]
    },
    {
      "cell_type": "code",
      "source": [
        "sample_df= df.sample(int(0.1*len(df)))\n",
        "sns.scatterplot(x=sample_df.Start_Lng, y=sample_df.Start_Lat, size=0.001)"
      ],
      "metadata": {
        "colab": {
          "base_uri": "https://localhost:8080/",
          "height": 299
        },
        "id": "4v3DdWaA9U-o",
        "outputId": "194fb60d-6492-45c9-9530-13c506d08eb2"
      },
      "execution_count": null,
      "outputs": [
        {
          "output_type": "execute_result",
          "data": {
            "text/plain": [
              "<matplotlib.axes._subplots.AxesSubplot at 0x7f88c579bcd0>"
            ]
          },
          "metadata": {},
          "execution_count": 47
        },
        {
          "output_type": "display_data",
          "data": {
            "text/plain": [
              "<Figure size 432x288 with 1 Axes>"
            ],
            "image/png": "[encoded data removed]"
          },
          "metadata": {}
        }
      ]
    },
    {
      "cell_type": "code",
      "source": [
        "from folium.plugins import HeatMap"
      ],
      "metadata": {
        "id": "FAxTIRVf9UQz"
      },
      "execution_count": null,
      "outputs": []
    },
    {
      "cell_type": "code",
      "source": [
        "list(zip(df.Start_Lat, df.Start_Lng))"
      ],
      "metadata": {
        "colab": {
          "base_uri": "https://localhost:8080/"
        },
        "id": "usakdZfCEh9l",
        "outputId": "a49a801e-4ee8-49a3-d2a1-73964edf013d"
      },
      "execution_count": null,
      "outputs": [
        {
          "output_type": "execute_result",
          "data": {
            "text/plain": [
              "[(40.10891, -83.09286),\n",
              " (39.86542, -84.0628),\n",
              " (39.10266, -84.52468),\n",
              " (41.06213, -81.53784),\n",
              " (39.172393, -84.49279200000002),\n",
              " (39.06324, -84.03243),\n",
              " (39.77565, -84.18603),\n",
              " (41.37531, -81.82016999999998),\n",
              " (40.702247, -84.075887),\n",
              " (40.10931, -82.96849),\n",
              " (39.19288, -84.47723),\n",
              " (39.13877, -84.53394),\n",
              " (41.4739, -81.704233),\n",
              " (39.582242, -83.677814),\n",
              " (40.151785, -81.312635),\n",
              " (40.151747, -81.312682),\n",
              " (39.97241, -82.84695),\n",
              " (39.9838, -82.85656999999998),\n",
              " (40.02664, -82.9944),\n",
              " (41.679361, -83.573037),\n",
              " (40.99613, -85.26613),\n",
              " (39.0381, -84.59243000000002),\n",
              " (40.03386, -82.99601),\n",
              " (39.85798, -84.28181),\n",
              " (39.15267, -84.5395),\n",
              " (39.30732, -85.95982),\n",
              " (39.77572, -84.04815),\n",
              " (39.97643, -83.12306),\n",
              " (39.58595, -85.82518),\n",
              " (39.3638, -85.51659000000002),\n",
              " (39.45132, -85.62516),\n",
              " (39.75067, -84.14148),\n",
              " (39.2675, -81.49929),\n",
              " (39.86025, -85.96623000000002),\n",
              " (41.95677, -83.67214),\n",
              " (38.27401, -85.74844),\n",
              " (41.95677, -83.67214),\n",
              " (40.52225, -80.06666),\n",
              " (40.487814, -80.009439),\n",
              " (40.156298, -83.018431),\n",
              " (41.47461, -81.71181999999997),\n",
              " (41.0618, -81.54608),\n",
              " (40.45112, -85.15048),\n",
              " (40.35429, -85.14993),\n",
              " (39.75855, -85.13715),\n",
              " (39.74408, -85.13749),\n",
              " (39.965148, -83.020499),\n",
              " (40.72813, -84.78965),\n",
              " (39.85223, -85.25846999999997),\n",
              " (41.46747, -81.75909),\n",
              " (41.83193, -80.10143000000002),\n",
              " (39.744287, -84.204939),\n",
              " (39.71548, -84.22033),\n",
              " (39.7504, -84.20561),\n",
              " (41.72316, -84.96444),\n",
              " (40.04376, -82.99708000000003),\n",
              " (38.1781, -85.71946),\n",
              " (38.18577, -85.80678),\n",
              " (38.27191, -85.80838),\n",
              " (39.923905, -82.87008),\n",
              " (41.035566, -81.569917),\n",
              " (39.9239, -83.68767),\n",
              " (41.851914, -80.175232),\n",
              " (39.93849, -82.84849),\n",
              " (38.96943, -80.1096),\n",
              " (41.66805, -83.57063000000002),\n",
              " (41.48339, -81.66297),\n",
              " (41.50127, -81.4804),\n",
              " (39.789093, -82.989106),\n",
              " (41.67073, -81.24561),\n",
              " (41.70846, -81.17636),\n",
              " (41.44246, -81.78485),\n",
              " (39.77128, -84.1923),\n",
              " (41.50499, -81.47417),\n",
              " (40.109653, -80.2029),\n",
              " (38.38852, -81.7687),\n",
              " (41.03572, -81.57809),\n",
              " (41.47487, -81.72095),\n",
              " (41.62845, -84.80559000000002),\n",
              " (41.62894, -84.80373),\n",
              " (41.16102, -81.78573),\n",
              " (41.628232, -84.808858),\n",
              " (41.62986, -84.76619000000002),\n",
              " (39.74729, -84.21426),\n",
              " (41.42099, -81.69051999999998),\n",
              " (41.42318, -81.84674),\n",
              " (38.79691, -84.48273),\n",
              " (38.80878, -84.49638),\n",
              " (38.30155, -85.85499),\n",
              " (38.33667, -81.65623000000002),\n",
              " (38.33614, -81.65623000000002),\n",
              " (41.0961, -81.58593),\n",
              " (41.12155, -85.18715999999998),\n",
              " (38.829993, -80.667067),\n",
              " (40.05642, -83.03097),\n",
              " (41.37717, -81.5139),\n",
              " (39.17397, -84.49031),\n",
              " (39.75513, -84.16614),\n",
              " (39.17397, -84.49031),\n",
              " (41.12624, -81.65299),\n",
              " (38.33667, -81.65623000000002),\n",
              " (41.10389, -81.5),\n",
              " (39.16417, -84.45275),\n",
              " (40.11184, -83.00883),\n",
              " (38.31922, -85.75301999999998),\n",
              " (39.09881, -84.50801),\n",
              " (41.473859, -81.708409),\n",
              " (41.039988, -81.565332),\n",
              " (41.73565, -84.99082),\n",
              " (39.26566, -84.43965),\n",
              " (41.46981, -81.81104),\n",
              " (41.25666, -81.63157),\n",
              " (40.58919, -80.09885),\n",
              " (41.06356, -81.49078),\n",
              " (41.06218, -81.50595),\n",
              " (39.17736, -84.4873),\n",
              " (38.33956, -81.60991999999997),\n",
              " (41.47889, -81.6934),\n",
              " (40.58919, -80.09885),\n",
              " (41.41119000000001, -81.64414000000002),\n",
              " (39.24907, -84.44561999999998),\n",
              " (39.28775, -84.40073000000002),\n",
              " (41.47379, -81.89631),\n",
              " (41.54941, -81.60676),\n",
              " (39.03347, -84.603),\n",
              " (39.74903, -84.20106),\n",
              " (39.89473, -83.044),\n",
              " (39.19641, -84.47331),\n",
              " (39.22461, -84.45364000000002),\n",
              " (39.15306, -84.44283),\n",
              " (39.97262, -82.98368),\n",
              " (40.535447, -80.03596),\n",
              " (40.529455, -80.03506999999998),\n",
              " (41.49647, -81.67733),\n",
              " (41.0634, -81.49079),\n",
              " (39.74284, -84.20479),\n",
              " (41.46822, -81.9476),\n",
              " (41.92479, -83.36026),\n",
              " (41.184738, -80.432713),\n",
              " (40.27317, -85.5577),\n",
              " (39.98264, -85.14301999999998),\n",
              " (40.27317, -85.5577),\n",
              " (40.42667, -85.54968000000002),\n",
              " (39.97527, -85.14018),\n",
              " (39.09889, -84.52118),\n",
              " (38.88012, -84.62527),\n",
              " (38.79256, -84.60423),\n",
              " (39.74284, -84.20479),\n",
              " (40.484222, -80.13755400000002),\n",
              " (41.20104, -80.06859),\n",
              " (39.05528, -84.39072),\n",
              " (41.623325, -83.692226),\n",
              " (40.53024, -80.00957),\n",
              " (40.06527, -82.99591),\n",
              " (40.43954, -80.00971),\n",
              " (41.422004, -81.730092),\n",
              " (39.3638, -85.51659000000002),\n",
              " (39.82083, -85.7749),\n",
              " (40.0366, -85.72561999999998),\n",
              " (39.855691, -84.29079200000002),\n",
              " (40.049152, -85.682047),\n",
              " (39.83939, -85.55752),\n",
              " (40.13386, -80.00666),\n",
              " (40.43954, -80.00971),\n",
              " (40.13386, -80.00666),\n",
              " (40.13386, -80.00666),\n",
              " (39.97859, -82.9763),\n",
              " (39.95459, -83.04255),\n",
              " (39.68291, -85.97372),\n",
              " (38.49304, -85.77156),\n",
              " (38.33428, -85.82177),\n",
              " (39.99921, -83.02875),\n",
              " (38.53844, -85.77702),\n",
              " (38.1781, -85.71946),\n",
              " (39.87433, -82.99882),\n",
              " (41.39546, -85.32855),\n",
              " (41.39469, -85.28893000000002),\n",
              " (41.90473, -83.36986),\n",
              " (40.77137000000001, -84.62203000000002),\n",
              " (40.80059, -84.61374),\n",
              " (39.87433, -82.99882),\n",
              " (40.78593, -84.61787),\n",
              " (40.80059, -84.61374),\n",
              " (41.67487, -83.57266),\n",
              " (41.47376, -81.86113),\n",
              " (38.33465, -85.75389),\n",
              " (39.14014, -84.53495),\n",
              " (41.80143, -85.34888000000002),\n",
              " (41.35761, -81.81988),\n",
              " (39.34392, -84.39043000000002),\n",
              " (39.816154, -83.18010500000003),\n",
              " (38.824929, -85.47449499999998),\n",
              " (38.82415, -85.63794),\n",
              " (40.593244, -85.150017),\n",
              " (40.600487, -85.150502),\n",
              " (41.19362, -80.2374),\n",
              " (40.55267, -85.14974000000002),\n",
              " (40.56744000000001, -85.14993),\n",
              " (40.14212, -81.55153),\n",
              " (39.94397, -82.41127),\n",
              " (39.96893, -83.11922),\n",
              " (40.6126, -80.09494000000002),\n",
              " (40.11184, -83.00883),\n",
              " (41.06347, -81.50372),\n",
              " (39.972931, -85.965783),\n",
              " (39.95459, -83.04255),\n",
              " (40.11184, -83.00883),\n",
              " (39.97241, -82.84695),\n",
              " (39.9912, -85.9188),\n",
              " (41.34965, -81.51146),\n",
              " (41.11987, -80.69004),\n",
              " (41.11851, -80.69242),\n",
              " (40.05642, -83.03097),\n",
              " (38.117487, -85.760397),\n",
              " (41.44134, -81.65055),\n",
              " (38.61531, -80.76034),\n",
              " (41.124052, -80.677589),\n",
              " (39.95085, -82.94428),\n",
              " (41.06257, -81.52228000000002),\n",
              " (40.11212, -83.03905999999998),\n",
              " (39.887033, -83.043909),\n",
              " (40.04916, -83.03336),\n",
              " (41.12906, -85.1612),\n",
              " (41.17798, -85.10323000000002),\n",
              " (38.08783, -83.90263),\n",
              " (41.63316, -83.54203000000003),\n",
              " (39.149639, -84.539381),\n",
              " (40.9605, -85.3528),\n",
              " (40.96051, -85.34522),\n",
              " (41.08204, -80.64846999999997),\n",
              " (41.61791, -83.54106999999998),\n",
              " (38.41592, -82.3465),\n",
              " (41.67571, -83.69385),\n",
              " (39.08272, -84.52264),\n",
              " (39.280947, -80.278075),\n",
              " (38.36387, -81.73867),\n",
              " (40.0187, -82.90465999999998),\n",
              " (41.53757, -81.64083000000002),\n",
              " (41.16522, -81.47454),\n",
              " (39.52352, -82.02360999999998),\n",
              " (39.517216, -82.025802),\n",
              " (40.322818, -83.071034),\n",
              " (41.73565, -84.99082),\n",
              " (39.14648, -84.45455),\n",
              " (39.82122, -85.76482),\n",
              " (41.11889, -81.65406999999998),\n",
              " (40.121557, -83.151457),\n",
              " (40.11017, -83.15876999999998),\n",
              " (41.57777, -81.54987),\n",
              " (40.121557, -83.151457),\n",
              " (40.11017, -83.15876999999998),\n",
              " (41.04592, -81.69463),\n",
              " (41.42099, -81.69051999999998),\n",
              " (39.27486, -84.346),\n",
              " (39.28266, -84.56742),\n",
              " (39.9467, -82.22232),\n",
              " (39.17397, -84.49031),\n",
              " (39.17736, -84.4873),\n",
              " (39.9467, -82.22232),\n",
              " (39.9467, -82.22232),\n",
              " (41.68518, -83.5678),\n",
              " (41.66572, -83.5652),\n",
              " (39.27125, -84.35176),\n",
              " (41.47395, -81.69931),\n",
              " (39.98505, -80.74006),\n",
              " (39.95813, -80.76219),\n",
              " (41.56544, -81.5835),\n",
              " (38.32587, -83.11389),\n",
              " (38.25869, -85.7622),\n",
              " (38.29322, -85.654625),\n",
              " (39.78609, -83.24606999999997),\n",
              " (41.53968, -81.62795),\n",
              " (39.08927, -84.5227),\n",
              " (38.25922, -85.76632),\n",
              " (41.55264, -81.60032),\n",
              " (39.02187, -84.50492),\n",
              " (41.06755, -81.57421),\n",
              " (40.49223, -80.01029),\n",
              " (41.48836, -81.66471),\n",
              " (39.95085, -82.94428),\n",
              " (41.42063, -81.80859),\n",
              " (41.06755, -81.57421),\n",
              " (40.82949, -81.39732),\n",
              " (41.40091, -81.81724),\n",
              " (41.13355, -85.13584),\n",
              " (38.870386, -84.624429),\n",
              " (41.47974, -81.6667),\n",
              " (40.30095, -80.16651999999998),\n",
              " (39.11543, -84.50003000000002),\n",
              " (41.1419, -81.47694),\n",
              " (39.14917, -84.44711),\n",
              " (39.81979000000001, -84.18908),\n",
              " (39.84509, -84.1899),\n",
              " (41.47461, -81.71181999999997),\n",
              " (39.17304, -84.47589),\n",
              " (39.1021, -84.49754),\n",
              " (41.49873, -81.67260999999998),\n",
              " (39.12627, -84.53509),\n",
              " (41.47394600000001, -81.699011),\n",
              " (39.9745, -83.09654),\n",
              " (39.85911, -84.2808),\n",
              " (39.24943, -84.36541),\n",
              " (38.31179, -85.58773000000002),\n",
              " (39.27486, -84.346),\n",
              " (39.29287, -84.31981),\n",
              " (39.15267, -84.5395),\n",
              " (41.4675, -81.49014),\n",
              " (39.26661, -84.35605),\n",
              " (39.27125, -84.35176),\n",
              " (38.20674, -85.74846),\n",
              " (40.13804, -82.97112),\n",
              " (41.47965, -81.66758),\n",
              " (39.08887, -84.52271),\n",
              " (41.6882, -83.64064),\n",
              " (40.06527, -82.99591),\n",
              " (39.86536, -84.05238),\n",
              " (38.420223, -82.293065),\n",
              " (41.47414000000001, -81.69893),\n",
              " (41.47542, -81.68721),\n",
              " (40.07297, -83.1347),\n",
              " (40.05609000000001, -80.679211),\n",
              " (38.19105, -85.71902),\n",
              " (38.25454000000001, -85.71969),\n",
              " (39.171694, -84.494399),\n",
              " (41.06239, -81.52229),\n",
              " (39.259254, -84.440978),\n",
              " (39.905178, -82.895471),\n",
              " (40.0988, -83.13331),\n",
              " (41.33991, -81.81739),\n",
              " (40.0999, -82.92089),\n",
              " (39.4728, -80.11963),\n",
              " (41.46631, -81.77065999999998),\n",
              " (38.34109, -81.70017),\n",
              " (41.160072, -85.232647),\n",
              " (41.163626, -85.24482900000002),\n",
              " (39.14014, -84.53495),\n",
              " (40.94537, -81.15473),\n",
              " (41.68591, -83.911307),\n",
              " (41.704523, -83.9136),\n",
              " (40.945772, -81.17219399999998),\n",
              " (38.82445, -82.98299),\n",
              " (38.84111, -82.98432),\n",
              " (39.00079, -84.42043000000002),\n",
              " (39.96071, -85.35383),\n",
              " (39.2675, -81.49929),\n",
              " (40.27317, -85.5577),\n",
              " (40.42667, -85.54968000000002),\n",
              " (38.130782, -81.388878),\n",
              " (38.545195, -85.778613),\n",
              " (38.362427, -81.714434),\n",
              " (38.39115, -81.58664),\n",
              " (40.08978, -82.98725999999998),\n",
              " (40.0122, -82.99188000000002),\n",
              " (41.68918, -83.53681999999998),\n",
              " (39.3781, -84.365),\n",
              " (39.11919, -84.53539),\n",
              " (39.05029, -83.77673),\n",
              " (39.04827, -83.77199),\n",
              " (40.0717, -82.90821),\n",
              " (39.09655, -84.48312),\n",
              " (40.43077, -80.02638),\n",
              " (41.443708, -85.19285),\n",
              " (41.438119, -85.15969399999999),\n",
              " (41.46747, -81.75909),\n",
              " (39.044435, -84.465864),\n",
              " (39.22461, -84.45364000000002),\n",
              " (41.104217, -81.499987),\n",
              " (41.1003, -81.4999),\n",
              " (39.1021, -84.49754),\n",
              " (41.46375, -81.69353000000002),\n",
              " (41.52134, -83.45642),\n",
              " (41.52549000000001, -83.46344),\n",
              " (41.43166, -81.68160999999998),\n",
              " (38.22363, -85.50532),\n",
              " (40.85466, -81.41646999999998),\n",
              " (38.22272, -85.50111),\n",
              " (39.12424, -84.53501),\n",
              " (39.09858, -84.51974),\n",
              " (39.63551, -84.19519),\n",
              " (40.39715, -80.10368000000003),\n",
              " (41.56709, -81.57816),\n",
              " (41.18225, -84.94275999999998),\n",
              " (39.10148, -84.52341),\n",
              " (41.55245, -83.60061999999998),\n",
              " (38.52006, -81.35221),\n",
              " (41.3513, -83.62276),\n",
              " (39.25015, -81.30566),\n",
              " (41.345031, -82.285379),\n",
              " (41.351335, -82.26144599999998),\n",
              " (38.38457, -81.804429),\n",
              " (40.41528, -80.01234000000002),\n",
              " (40.03598, -83.12479),\n",
              " (41.03669, -81.50492),\n",
              " (41.68971, -83.53045999999998),\n",
              " (39.587784, -83.723939),\n",
              " (39.626237, -83.73105),\n",
              " (41.06243, -81.49904000000002),\n",
              " (39.97262, -82.98368),\n",
              " (39.93658, -83.00941999999998),\n",
              " (41.208579, -82.807829),\n",
              " (41.4051, -81.8184),\n",
              " (39.29035, -84.39078),\n",
              " (39.90524, -82.89541),\n",
              " (40.04376, -82.99708000000003),\n",
              " (39.98793, -82.98568),\n",
              " (41.874915, -85.409527),\n",
              " (41.890234, -85.409642),\n",
              " (39.9335, -82.78939),\n",
              " (40.04916, -83.03336),\n",
              " (39.99493, -82.93332),\n",
              " (39.83727, -83.09326999999998),\n",
              " (40.98954000000001, -81.49372),\n",
              " (38.53844, -85.77702),\n",
              " (41.10389, -81.5),\n",
              " (38.577894, -85.77896),\n",
              " (41.42099, -81.69051999999998),\n",
              " (38.58054600000001, -85.77866),\n",
              " (39.833935, -84.061832),\n",
              " (38.30344, -85.88893),\n",
              " (39.93654, -83.40048),\n",
              " (39.95612, -83.37499),\n",
              " (39.17766, -84.39780999999998),\n",
              " (40.02155, -83.0354),\n",
              " (39.97518, -85.63374),\n",
              " (39.94576, -85.63454),\n",
              " (40.27744000000001, -85.72518000000002),\n",
              " (39.17304, -84.47589),\n",
              " (41.68648, -83.5669),\n",
              " (41.66267, -85.03312),\n",
              " (41.68976, -83.666),\n",
              " (39.94594, -82.9432),\n",
              " (41.4758, -81.66036),\n",
              " (41.628312, -84.812135),\n",
              " (39.96724, -83.02459),\n",
              " (41.96429000000001, -83.35018000000002),\n",
              " (41.282993, -83.638931),\n",
              " (41.63126, -83.48336),\n",
              " (41.427584, -85.8495),\n",
              " (41.471378, -85.839527),\n",
              " (41.46747, -81.75909),\n",
              " (39.18364, -84.48373000000002),\n",
              " (41.94495, -80.40234),\n",
              " (39.53078, -84.310264),\n",
              " (41.438774, -81.80341999999997),\n",
              " (39.9838, -82.85656999999998),\n",
              " (40.44413400000001, -80.028261),\n",
              " (39.97727, -83.15445),\n",
              " (39.9745, -83.09654),\n",
              " (39.97865, -83.11698),\n",
              " (39.97327, -83.12002),\n",
              " (39.22571, -84.36832),\n",
              " (39.986342, -83.118881),\n",
              " (39.73629, -84.20489),\n",
              " (41.4051, -81.8184),\n",
              " (41.41101, -81.66634),\n",
              " (39.24464, -84.44835),\n",
              " (40.11212, -83.03905999999998),\n",
              " (40.30095, -80.16651999999998),\n",
              " (41.49243, -81.67554),\n",
              " (40.1827, -80.26148),\n",
              " (39.95459, -83.04255),\n",
              " (39.97527, -85.14018),\n",
              " (39.98511, -85.14406),\n",
              " (38.29514, -85.75655),\n",
              " (39.93654, -83.40048),\n",
              " (39.11543, -84.50003000000002),\n",
              " (41.030684, -81.885739),\n",
              " (41.43166, -81.68160999999998),\n",
              " (40.6664, -80.227514),\n",
              " (40.67137, -80.22581),\n",
              " (41.305199, -81.438626),\n",
              " (40.354252, -85.843032),\n",
              " (40.402251, -85.842969),\n",
              " (41.26752000000001, -85.85673),\n",
              " (39.97307, -82.98405),\n",
              " (39.9672, -81.28699999999998),\n",
              " (39.96392, -81.27197),\n",
              " (41.52631, -83.62123000000003),\n",
              " (39.93292, -82.83025),\n",
              " (39.08272, -84.52264),\n",
              " (39.8552, -84.32502),\n",
              " (41.65404, -85.70526),\n",
              " (41.39465, -81.65326),\n",
              " (41.06211, -81.53053),\n",
              " (41.09598, -81.49976),\n",
              " (41.85222, -85.67843),\n",
              " (38.148808, -80.929665),\n",
              " (41.52447, -85.57791),\n",
              " (41.5105, -85.57781),\n",
              " (39.90524, -82.89541),\n",
              " (41.23598, -81.49325999999998),\n",
              " (38.70101, -80.66483000000002),\n",
              " (39.22498, -84.38094),\n",
              " (40.776023, -80.12718100000002),\n",
              " (38.86027, -80.65729),\n",
              " (39.88203, -83.04748000000002),\n",
              " (39.89253400000001, -83.038786),\n",
              " (39.89698, -83.03428000000002),\n",
              " (41.67439, -83.693727),\n",
              " (41.12999, -85.15503000000002),\n",
              " (39.09889, -84.52118),\n",
              " (41.52631, -83.62123000000003),\n",
              " (39.088552, -84.522724),\n",
              " (39.95423, -82.98879000000002),\n",
              " (39.21018, -84.46345),\n",
              " (39.95369, -82.96403000000002),\n",
              " (40.40934, -80.19247),\n",
              " (40.44126, -80.19314),\n",
              " (39.16161, -84.51375),\n",
              " (39.16161, -84.51375),\n",
              " (39.15141, -84.54061),\n",
              " (39.75855, -85.13715),\n",
              " (41.67571, -83.69385),\n",
              " (41.67571, -83.69385),\n",
              " (39.28805, -84.37462),\n",
              " (41.53618, -83.6176),\n",
              " (39.07202, -84.51907),\n",
              " (38.259133, -85.752672),\n",
              " (40.44425, -80.02821),\n",
              " (40.44278, -80.02468),\n",
              " (38.30155, -85.85499),\n",
              " (40.35405, -80.13756),\n",
              " (40.35449000000001, -80.13835999999998),\n",
              " (38.30344, -85.88893),\n",
              " (41.08789, -83.66011),\n",
              " (41.02454, -80.92163000000002),\n",
              " (41.02413, -80.90579),\n",
              " (39.08168, -84.7069),\n",
              " (38.18539000000001, -85.81793),\n",
              " (39.27734, -84.86438000000003),\n",
              " (39.16437, -84.43731),\n",
              " (39.748585, -84.226084),\n",
              " (39.4728, -80.11963),\n",
              " (41.187807, -80.149019),\n",
              " (41.19242, -80.15860500000002),\n",
              " (38.233483, -85.62671800000003),\n",
              " (38.33954, -81.609895),\n",
              " (40.07297, -83.1347),\n",
              " (40.08402, -83.13046),\n",
              " (38.34631, -83.40449),\n",
              " (38.35382, -83.40553),\n",
              " (39.04416, -84.46656),\n",
              " (38.41807, -81.54525),\n",
              " (38.309401, -85.847643),\n",
              " (41.64679, -83.54913),\n",
              " (38.198748, -85.733953),\n",
              " (39.97401, -82.99355),\n",
              " (39.17397, -84.49031),\n",
              " (41.68843, -83.56258000000003),\n",
              " (41.67904, -83.5732),\n",
              " (39.25249, -84.36493),\n",
              " (38.310736, -85.590395),\n",
              " (41.46941, -81.80535),\n",
              " (38.20674, -85.74846),\n",
              " (39.226317, -84.37107900000002),\n",
              " (41.68721, -83.55579),\n",
              " (40.09775, -84.22926),\n",
              " (41.42147, -81.70682),\n",
              " (38.29414600000001, -85.756847),\n",
              " (39.17304, -84.47589),\n",
              " (38.15982, -84.67308),\n",
              " (39.11675, -84.53355),\n",
              " (39.24943, -84.36541),\n",
              " (41.06146, -81.5049),\n",
              " (39.18364, -84.48373000000002),\n",
              " (39.98793, -82.98568),\n",
              " (39.95971, -83.04811),\n",
              " (39.1479, -84.53929000000002),\n",
              " (39.89555, -83.84997),\n",
              " (39.99226, -82.98517),\n",
              " (39.40983, -82.97548),\n",
              " (40.6126, -80.09494000000002),\n",
              " (39.22479000000001, -84.27783000000002),\n",
              " (39.11675, -84.53355),\n",
              " (41.43869, -81.80554000000002),\n",
              " (40.016819, -82.90411),\n",
              " (39.09757000000001, -84.51666),\n",
              " (41.06247000000001, -81.52405),\n",
              " (39.13219, -84.49464),\n",
              " (39.097654, -84.516019),\n",
              " (41.34965, -81.51146),\n",
              " (41.37717, -81.5139),\n",
              " (40.12589000000001, -80.13661),\n",
              " (40.13189000000001, -80.132407),\n",
              " (40.00507, -83.1186),\n",
              " (39.43794000000001, -82.53893000000002),\n",
              " (39.12627, -84.53509),\n",
              " (38.07759, -84.45711999999997),\n",
              " (40.09079000000001, -82.90783),\n",
              " (39.64731, -85.91696999999998),\n",
              " (39.08927, -84.5227),\n",
              " (38.26109, -85.73695),\n",
              " (38.19785, -85.70445),\n",
              " (39.05654000000001, -84.54283000000002),\n",
              " (41.42413, -81.64519),\n",
              " (39.28638, -84.42706),\n",
              " (41.37499, -83.61635),\n",
              " (41.06228, -81.50986999999998),\n",
              " (41.53907, -81.63354),\n",
              " (40.04916, -83.03336),\n",
              " (41.13613, -81.72196),\n",
              " (39.09891, -84.49181999999998),\n",
              " (39.96268, -82.84305),\n",
              " (39.17397, -84.49031),\n",
              " (39.16911, -84.42104),\n",
              " (39.003821, -80.391285),\n",
              " (39.17736, -84.4873),\n",
              " (39.14316, -84.47069),\n",
              " (39.2696, -84.34894),\n",
              " (40.521732, -81.64755),\n",
              " (40.513361, -81.651599),\n",
              " (41.52631, -83.62123000000003),\n",
              " (38.992607, -80.195782),\n",
              " (38.839151, -82.152877),\n",
              " (40.27675, -85.49916),\n",
              " (40.52168, -80.13163),\n",
              " (39.83711, -84.54392),\n",
              " (39.02296, -84.51784),\n",
              " (38.455787, -81.88205),\n",
              " (39.02397, -84.48039),\n",
              " (38.22433, -85.751),\n",
              " (39.05973, -84.42438),\n",
              " (39.27734, -84.86438000000003),\n",
              " (41.47965, -81.66758),\n",
              " (39.02257, -84.48631),\n",
              " (40.44846, -80.00755),\n",
              " (39.09891, -84.28556999999998),\n",
              " (41.06026, -81.55485999999998),\n",
              " (41.802758, -83.684687),\n",
              " (38.0791, -83.94591),\n",
              " (38.01846, -84.15159),\n",
              " (38.30344, -85.88893),\n",
              " (38.84109, -85.81618),\n",
              " (41.14181, -80.72015999999998),\n",
              " (39.14648, -84.45455),\n",
              " (41.04263, -81.50543),\n",
              " (38.21089, -85.82606),\n",
              " (39.75067, -84.14148),\n",
              " (38.28581, -85.50792),\n",
              " (39.15273300000001, -84.541403),\n",
              " (38.23585, -85.658849),\n",
              " (38.20249, -85.68697),\n",
              " (40.53491, -83.10678),\n",
              " (40.52035, -83.10043),\n",
              " (39.12965, -84.49555),\n",
              " (38.22811, -85.7514),\n",
              " (40.41233, -80.07815),\n",
              " (39.7504, -84.20561),\n",
              " (39.08272, -84.52264),\n",
              " (39.781457, -85.839651),\n",
              " (39.781457, -85.839651),\n",
              " (41.06076, -81.45923),\n",
              " (39.688148, -83.88431),\n",
              " (39.693164, -83.882745),\n",
              " (39.9488, -83.02845),\n",
              " (41.11584000000001, -81.61428000000002),\n",
              " (39.797697, -84.189677),\n",
              " (39.20326, -85.95763000000002),\n",
              " (39.24464, -84.44835),\n",
              " (39.73733, -84.25733000000002),\n",
              " (39.969853, -85.972976),\n",
              " (41.11889, -81.65406999999998),\n",
              " (39.13219, -84.49464),\n",
              " (41.458, -83.62201999999998),\n",
              " (40.09268, -83.03726),\n",
              " (40.066965, -83.289888),\n",
              " (40.045608, -83.29660799999998),\n",
              " (39.97307, -82.98405),\n",
              " (39.98248, -85.123922),\n",
              " (39.981095, -85.11027299999998),\n",
              " (40.43021, -80.02554),\n",
              " (40.43219000000001, -80.02781999999998),\n",
              " (39.976567, -83.128639),\n",
              " (41.256658, -85.363439),\n",
              " (41.37499, -83.61635),\n",
              " (41.252653, -85.347328),\n",
              " (39.93658, -83.00941999999998),\n",
              " (39.14014, -84.53495),\n",
              " (40.153014, -82.970316),\n",
              " (39.90524, -82.89541),\n",
              " (39.13219, -84.49464),\n",
              " (40.42581, -80.4294),\n",
              " (41.08789, -83.65977),\n",
              " (39.9488, -83.02845),\n",
              " (41.47585, -81.87980999999998),\n",
              " (39.1079, -84.50284),\n",
              " (38.340803, -81.680728),\n",
              " (40.96473, -85.28862),\n",
              " (38.441, -82.12679),\n",
              " (38.4413, -82.01529000000002),\n",
              " (38.441, -82.12679),\n",
              " (38.18977, -83.48379),\n",
              " (41.194131, -80.201982),\n",
              " (40.09601, -83.13626),\n",
              " (41.23632, -83.65401999999997),\n",
              " (38.1737, -84.81473000000003),\n",
              " (38.19016, -85.7616),\n",
              " (39.25249, -84.36493),\n",
              " (39.137217, -84.04718299999998),\n",
              " (39.141454, -84.016543),\n",
              " (38.344424, -81.613662),\n",
              " (41.93113, -83.35857),\n",
              " (40.89268, -84.61808),\n",
              " (40.46013, -80.19126),\n",
              " (41.119342, -80.698025),\n",
              " (41.117872, -80.693898),\n",
              " (39.15267, -84.5395),\n",
              " (38.27362, -85.80906),\n",
              " (41.458, -83.62201999999998),\n",
              " (39.35655, -84.26419),\n",
              " (38.4062, -81.54054000000002),\n",
              " (41.02525900000001, -81.5042),\n",
              " (38.27362, -85.80906),\n",
              " (38.11969000000001, -85.77235),\n",
              " (38.275406, -85.81314300000003),\n",
              " (38.27508, -85.81517099999998),\n",
              " (41.39769, -81.939),\n",
              " (39.46513, -80.13559000000002),\n",
              " (38.217994, -81.426024),\n",
              " (38.215401, -81.42437199999998),\n",
              " (39.042851, -84.612615),\n",
              " (38.26109, -85.73695),\n",
              " (39.05654000000001, -84.54283000000002),\n",
              " (41.840758, -84.361657),\n",
              " (41.841123, -84.361652),\n",
              " (41.63316, -83.54203000000003),\n",
              " (40.02874, -81.04368000000002),\n",
              " (41.43891, -81.80258),\n",
              " (41.0811, -81.50348000000002),\n",
              " (38.35575, -81.65420999999998),\n",
              " (39.94585, -82.94293),\n",
              " (41.69017, -83.5181),\n",
              " (40.11212, -83.03905999999998),\n",
              " (41.50259000000001, -81.66974),\n",
              " (39.989994, -83.02512),\n",
              " (41.480458, -81.692932),\n",
              " (39.22461, -84.45364000000002),\n",
              " (40.04376, -82.99708000000003),\n",
              " (39.93621, -82.88318000000002),\n",
              " (39.167788, -82.524172),\n",
              " (39.20655, -82.48212),\n",
              " (41.36576, -81.51602),\n",
              " (39.977322, -81.183327),\n",
              " (39.961933, -81.175436),\n",
              " (39.68292, -84.23004),\n",
              " (40.02664, -82.9944),\n",
              " (38.583372, -81.994824),\n",
              " (38.58119600000001, -82.004356),\n",
              " (40.07297, -83.1347),\n",
              " (41.58689, -83.56234),\n",
              " (38.31714, -85.57677),\n",
              " (40.07297, -83.1347),\n",
              " (39.07202, -84.51907),\n",
              " (41.46747, -81.75909),\n",
              " (40.82645, -81.39675),\n",
              " (40.82645, -81.39675),\n",
              " (39.05654000000001, -84.54283000000002),\n",
              " (39.06272, -84.65728),\n",
              " (39.03368, -84.59527),\n",
              " (40.02121, -82.99503),\n",
              " (39.866695, -84.9305),\n",
              " (39.05654000000001, -84.54283000000002),\n",
              " (39.03232, -84.59137),\n",
              " (41.04058, -81.61256999999998),\n",
              " (40.98884, -83.64875),\n",
              " (39.95658, -83.37075),\n",
              " (39.89857, -83.72139),\n",
              " (39.896448, -83.72312099999998),\n",
              " (41.47965, -81.66758),\n",
              " (39.71548, -84.22033),\n",
              " (40.0389, -85.71828000000002),\n",
              " (41.17516, -81.23116999999998),\n",
              " (41.15107, -81.21375),\n",
              " (40.0389, -85.71828000000002),\n",
              " (39.99336, -85.83861999999998),\n",
              " (40.46013, -80.19126),\n",
              " (41.68976, -83.666),\n",
              " (39.97326, -83.00690999999998),\n",
              " (39.48572, -83.94191),\n",
              " (39.83355, -85.99635),\n",
              " (39.79721, -85.97153),\n",
              " (39.98056, -83.11924),\n",
              " (41.458, -83.62243000000002),\n",
              " (39.905352, -82.995352),\n",
              " (39.99921, -83.02875),\n",
              " (40.869049, -81.95845600000001),\n",
              " (41.419021, -81.519515),\n",
              " (39.34392, -84.39043000000002),\n",
              " (39.9454, -82.60271),\n",
              " (38.353957, -81.73513100000002),\n",
              " (38.354505, -81.731585),\n",
              " (41.501623, -81.479519),\n",
              " (39.86477, -83.99871),\n",
              " (38.737813, -85.250959),\n",
              " (40.00507, -83.1186),\n",
              " (39.91978, -82.93149),\n",
              " (39.09757000000001, -84.51666),\n",
              " (41.07995, -81.50389),\n",
              " (41.63316, -83.54203000000003),\n",
              " (39.82529, -83.03175999999998),\n",
              " (39.83209, -82.99884),\n",
              " (39.83208, -83.000447),\n",
              " (38.416631, -84.861968),\n",
              " (40.55549, -80.11634000000002),\n",
              " (39.17736, -84.4873),\n",
              " (41.484589, -81.691778),\n",
              " (41.22734000000001, -81.62705),\n",
              " (39.04695, -84.57498000000002),\n",
              " (39.25595, -84.44287),\n",
              " (39.8888, -82.88181999999998),\n",
              " (39.74729, -84.21426),\n",
              " (39.97415, -83.09486),\n",
              " (39.08272, -84.52264),\n",
              " (39.949808, -83.02289300000002),\n",
              " (39.95141, -83.0137),\n",
              " (38.7056, -80.66107),\n",
              " (39.1479, -84.53929000000002),\n",
              " (41.7573, -83.48075),\n",
              " (39.98946, -85.9299),\n",
              " (39.98894, -83.025012),\n",
              " (41.110996, -80.82384),\n",
              " (41.68685900000001, -83.554005),\n",
              " (41.53907, -81.63354),\n",
              " (39.300562, -84.518869),\n",
              " (41.202543, -85.7011),\n",
              " (39.19288, -84.47723),\n",
              " (40.07297, -83.1347),\n",
              " (39.140991, -84.483618),\n",
              " (41.121599, -80.789503),\n",
              " (41.31438, -81.51286),\n",
              " (39.85922, -84.27762),\n",
              " (40.42005, -80.03531),\n",
              " (39.9589, -82.98257),\n",
              " (39.89087, -83.85382),\n",
              " (39.89862, -83.85353),\n",
              " (40.03938, -83.050567),\n",
              " (41.41218, -81.61371),\n",
              " (38.306159, -80.833765),\n",
              " (40.104, -82.94154),\n",
              " (38.24178, -85.62212),\n",
              " (41.55264, -81.60032),\n",
              " (39.99226, -82.98517),\n",
              " (38.31553, -85.58313000000003),\n",
              " (38.400331, -85.371049),\n",
              " (38.31251, -85.57741999999998),\n",
              " (38.400331, -85.371049),\n",
              " (39.88938, -82.88316),\n",
              " (38.15873, -80.90504),\n",
              " (39.9745, -83.09654),\n",
              " (41.47487, -81.72095),\n",
              " (39.26931, -84.4307),\n",
              " (38.2201, -85.82223),\n",
              " (41.48339, -81.66297),\n",
              " (39.16161, -84.51375),\n",
              " (41.42734, -82.08322),\n",
              " (41.52631, -83.62123000000003),\n",
              " (39.91732, -83.012335),\n",
              " (41.60867, -81.48891),\n",
              " (41.20554, -85.17116),\n",
              " (41.507189, -81.67124),\n",
              " (39.97415, -83.09486),\n",
              " (39.97043, -83.01961999999997),\n",
              " (39.93849, -82.84849),\n",
              " (39.89698, -83.03428000000002),\n",
              " (39.71452, -84.22281),\n",
              " (40.11468, -83.01644),\n",
              " (38.34244, -85.80447),\n",
              " (41.47036, -81.65984),\n",
              " (38.30056, -85.84703),\n",
              " (39.169389, -84.50389),\n",
              " (39.936838, -83.042661),\n",
              " (39.937567, -83.04209200000003),\n",
              " (39.9425, -82.53536),\n",
              " (39.27125, -84.35176),\n",
              " (41.398877, -83.616108),\n",
              " (39.24422, -84.30224),\n",
              " (40.412997, -80.07973299999998),\n",
              " (39.021521, -84.50784300000002),\n",
              " (41.12367, -80.76913),\n",
              " (41.073876, -83.66091999999998),\n",
              " (39.01992, -83.65886),\n",
              " (38.97914, -83.65465),\n",
              " (40.09927, -83.15793000000002),\n",
              " (39.93658, -83.00941999999998),\n",
              " (39.11543, -84.50003000000002),\n",
              " (41.474552, -81.711522),\n",
              " (39.78517, -84.18457),\n",
              " (41.47974, -81.6667),\n",
              " (38.27719, -85.69383),\n",
              " (38.495124, -85.771118),\n",
              " (39.73277, -84.20522),\n",
              " (41.458, -83.62243000000002),\n",
              " (39.045381, -84.462312),\n",
              " (41.526, -81.65974),\n",
              " (40.78725, -81.38592),\n",
              " (38.3657, -85.75495),\n",
              " (39.02575, -84.61272),\n",
              " (40.90923, -81.79765),\n",
              " (40.91649, -81.78869),\n",
              " (39.10051, -80.39199),\n",
              " (40.082643, -82.91367199999998),\n",
              " (41.47162, -81.90626),\n",
              " (40.08155, -82.91859000000002),\n",
              " (40.07976, -82.92689),\n",
              " (38.27511, -85.81238),\n",
              " (39.02908, -84.53565),\n",
              " (39.04455, -84.57798000000003),\n",
              " (39.83026, -81.45434),\n",
              " (39.81436, -81.46898),\n",
              " (38.41336, -82.3483),\n",
              " (38.20674, -85.74846),\n",
              " (38.10937, -85.70123000000002),\n",
              " (40.26758, -82.92745),\n",
              " (38.22285, -85.57436),\n",
              " (40.43827, -80.00527),\n",
              " (39.08272, -84.52264),\n",
              " (40.046599, -85.99359),\n",
              " (41.67904, -83.5732),\n",
              " (40.52225, -80.06666),\n",
              " (41.041763, -81.3932),\n",
              " (39.02541, -85.88784),\n",
              " (39.887572, -84.047499),\n",
              " (39.90803, -84.03969000000002),\n",
              " (39.8181, -81.45925),\n",
              " (39.8181, -81.45925),\n",
              " (39.81447, -81.46769),\n",
              " (41.47307, -80.36586),\n",
              " (41.460561, -80.366376),\n",
              " (39.75022, -84.19668),\n",
              " (39.16161, -84.51375),\n",
              " (39.82329, -84.166569),\n",
              " (39.818751, -84.167637),\n",
              " (39.15267, -84.5395),\n",
              " (40.480209, -85.719799),\n",
              " (39.02676, -84.61421),\n",
              " (40.480209, -85.719799),\n",
              " (40.48013, -85.72942900000002),\n",
              " (38.24863, -85.70467),\n",
              " (39.24907, -84.44561999999998),\n",
              " (39.18364, -84.48373000000002),\n",
              " (41.420898, -81.69322),\n",
              " (39.18976, -84.26285),\n",
              " (40.00921, -83.03149),\n",
              " (41.12369, -80.75595),\n",
              " (41.09705, -81.50012),\n",
              " (41.03011, -81.40292099999998),\n",
              " (39.9533, -83.0032),\n",
              " (39.91404, -83.01729),\n",
              " (39.11811, -84.49975),\n",
              " (39.73277, -84.20522),\n",
              " (41.47379, -81.69592),\n",
              " (41.47395, -81.69931),\n",
              " (39.62334, -81.83577),\n",
              " (39.98233, -82.98449000000002),\n",
              " (40.15106, -80.03243),\n",
              " (41.66332, -83.56385999999998),\n",
              " (39.35245, -84.37507),\n",
              " (41.67178, -83.6939),\n",
              " (38.38018, -82.60993),\n",
              " (39.03347, -84.603),\n",
              " (40.42116, -80.0438),\n",
              " (41.341147, -83.347543),\n",
              " (41.34131, -83.376561),\n",
              " (40.26758, -82.92745),\n",
              " (40.432459, -80.023538),\n",
              " (39.9912, -85.9188),\n",
              " (39.05654000000001, -84.54283000000002),\n",
              " (38.39328, -85.76223),\n",
              " (39.97165800000001, -80.017133),\n",
              " (39.98381, -80.01011),\n",
              " (39.84457, -85.51639399999998),\n",
              " (38.399528, -85.76430500000002),\n",
              " (38.38981, -81.76937),\n",
              " (41.47965, -81.66758),\n",
              " (39.97859, -82.9763),\n",
              " (40.68109000000001, -80.24616999999998),\n",
              " (41.47487, -81.72095),\n",
              " (40.68109000000001, -80.24616999999998),\n",
              " (40.1412, -82.97121),\n",
              " (39.85942, -84.27778),\n",
              " (39.10838, -84.50296999999998),\n",
              " (39.32662, -84.42002),\n",
              " (39.24907, -84.44561999999998),\n",
              " (41.11959, -81.64568),\n",
              " (39.04455, -84.57798000000003),\n",
              " (38.26109, -85.73695),\n",
              " (38.21911, -85.50582),\n",
              " (39.94976, -83.04032),\n",
              " (38.82584, -120.029214),\n",
              " (37.358209, -121.840017),\n",
              " (37.881943, -122.307987),\n",
              " (37.881038, -122.307788),\n",
              " (38.518811, -121.101664),\n",
              " (38.518811, -121.101664),\n",
              " (36.9903, -119.71146),\n",
              " (37.42592, -122.09879),\n",
              " (37.75745, -122.21131),\n",
              " (37.31648, -121.96746),\n",
              " (37.44415, -122.2688),\n",
              " (37.71981, -121.65943),\n",
              " ...]"
            ]
          },
          "metadata": {},
          "execution_count": 49
        }
      ]
    },
    {
      "cell_type": "code",
      "source": [
        "sample_df=df.sample(int(0.001*len(df)))\n",
        "lat_lon_pairs=list(zip(sample_df.Start_Lat, sample_df.Start_Lng))"
      ],
      "metadata": {
        "id": "e6EOgZPoF6j7"
      },
      "execution_count": null,
      "outputs": []
    },
    {
      "cell_type": "code",
      "source": [
        "sns.heatmap(lat_lon_pairs)"
      ],
      "metadata": {
        "colab": {
          "base_uri": "https://localhost:8080/",
          "height": 287
        },
        "id": "eHUV8ajXBWB3",
        "outputId": "441f5bb0-f164-4bbc-84e9-692789d4e418"
      },
      "execution_count": null,
      "outputs": [
        {
          "output_type": "execute_result",
          "data": {
            "text/plain": [
              "<matplotlib.axes._subplots.AxesSubplot at 0x7f88a26dadd0>"
            ]
          },
          "metadata": {},
          "execution_count": 64
        },
        {
          "output_type": "display_data",
          "data": {
            "text/plain": [
              "<Figure size 432x288 with 2 Axes>"
            ],
            "image/png": "[encoded data removed]"
          },
          "metadata": {}
        }
      ]
    },
    {
      "cell_type": "code",
      "source": [
        "\n",
        "from folium.plugins import HeatMap"
      ],
      "metadata": {
        "id": "dyReM9uSQMST"
      },
      "execution_count": null,
      "outputs": []
    },
    {
      "cell_type": "markdown",
      "source": [
        "Q: Does most number of accidents in coastal areas?\n",
        "Ans- The heatmap shows that most number of accidents happen in coastal areas."
      ],
      "metadata": {
        "id": "2GRXZHNyVc4a"
      }
    },
    {
      "cell_type": "code",
      "source": [
        "map=folium.Map()\n",
        "HeatMap(lat_lon_pairs).add_to(map)\n",
        "map"
      ],
      "metadata": {
        "colab": {
          "base_uri": "https://localhost:8080/",
          "height": 866
        },
        "id": "zoXKo3KvQL-w",
        "outputId": "c4e856fa-afe2-4a4f-9002-79ad94477673"
      },
      "execution_count": null,
      "outputs": [
        {
          "output_type": "execute_result",
          "data": {
            "text/plain": [
              "<folium.folium.Map at 0x7f88a29f4410>"
            ],
            "text/html": [
              "<div style=\"width:100%;\"><div style=\"position:relative;width:100%;height:0;padding-bottom:60%;\"><span style=\"color:#565656\">Make this Notebook Trusted to load map: File -> Trust Notebook</span><iframe srcdoc=\"&lt;!DOCTYPE html&gt;\n",
              "&lt;head&gt;    \n",
              "    &lt;meta http-equiv=&quot;content-type&quot; content=&quot;text/html; charset=UTF-8&quot; /&gt;\n",
              "    \n",
              "        &lt;script&gt;\n",
              "            L_NO_TOUCH = false;\n",
              "            L_DISABLE_3D = false;\n",
              "        &lt;/script&gt;\n",
              "    \n",
              "    &lt;style&gt;html, body {width: 100%;height: 100%;margin: 0;padding: 0;}&lt;/style&gt;\n",
              "    &lt;style&gt;#map {position:absolute;top:0;bottom:0;right:0;left:0;}&lt;/style&gt;\n",
              "    &lt;script src=&quot;https://cdn.jsdelivr.net/npm/leaflet@1.6.0/dist/leaflet.js&quot;&gt;&lt;/script&gt;\n",
              "    &lt;script src=&quot;https://code.jquery.com/jquery-1.12.4.min.js&quot;&gt;&lt;/script&gt;\n",
              "    &lt;script src=&quot;https://maxcdn.bootstrapcdn.com/bootstrap/3.2.0/js/bootstrap.min.js&quot;&gt;&lt;/script&gt;\n",
              "    &lt;script src=&quot;https://cdnjs.cloudflare.com/ajax/libs/Leaflet.awesome-markers/2.0.2/leaflet.awesome-markers.js&quot;&gt;&lt;/script&gt;\n",
              "    &lt;link rel=&quot;stylesheet&quot; href=&quot;https://cdn.jsdelivr.net/npm/leaflet@1.6.0/dist/leaflet.css&quot;/&gt;\n",
              "    &lt;link rel=&quot;stylesheet&quot; href=&quot;https://maxcdn.bootstrapcdn.com/bootstrap/3.2.0/css/bootstrap.min.css&quot;/&gt;\n",
              "    &lt;link rel=&quot;stylesheet&quot; href=&quot;https://maxcdn.bootstrapcdn.com/bootstrap/3.2.0/css/bootstrap-theme.min.css&quot;/&gt;\n",
              "    &lt;link rel=&quot;stylesheet&quot; href=&quot;https://maxcdn.bootstrapcdn.com/font-awesome/4.6.3/css/font-awesome.min.css&quot;/&gt;\n",
              "    &lt;link rel=&quot;stylesheet&quot; href=&quot;https://cdnjs.cloudflare.com/ajax/libs/Leaflet.awesome-markers/2.0.2/leaflet.awesome-markers.css&quot;/&gt;\n",
              "    &lt;link rel=&quot;stylesheet&quot; href=&quot;https://cdn.jsdelivr.net/gh/python-visualization/folium/folium/templates/leaflet.awesome.rotate.min.css&quot;/&gt;\n",
              "    \n",
              "            &lt;meta name=&quot;viewport&quot; content=&quot;width=device-width,\n",
              "                initial-scale=1.0, maximum-scale=1.0, user-scalable=no&quot; /&gt;\n",
              "            &lt;style&gt;\n",
              "                #map_be98821f615a3e871ebe71b07904b4fd {\n",
              "                    position: relative;\n",
              "                    width: 100.0%;\n",
              "                    height: 100.0%;\n",
              "                    left: 0.0%;\n",
              "                    top: 0.0%;\n",
              "                }\n",
              "            &lt;/style&gt;\n",
              "        \n",
              "    &lt;script src=&quot;https://cdn.jsdelivr.net/gh/python-visualization/folium@master/folium/templates/leaflet_heat.min.js&quot;&gt;&lt;/script&gt;\n",
              "&lt;/head&gt;\n",
              "&lt;body&gt;    \n",
              "    \n",
              "            &lt;div class=&quot;folium-map&quot; id=&quot;map_be98821f615a3e871ebe71b07904b4fd&quot; &gt;&lt;/div&gt;\n",
              "        \n",
              "&lt;/body&gt;\n",
              "&lt;script&gt;    \n",
              "    \n",
              "            var map_be98821f615a3e871ebe71b07904b4fd = L.map(\n",
              "                &quot;map_be98821f615a3e871ebe71b07904b4fd&quot;,\n",
              "                {\n",
              "                    center: [0, 0],\n",
              "                    crs: L.CRS.EPSG3857,\n",
              "                    zoom: 1,\n",
              "                    zoomControl: true,\n",
              "                    preferCanvas: false,\n",
              "                }\n",
              "            );\n",
              "\n",
              "            \n",
              "\n",
              "        \n",
              "    \n",
              "            var tile_layer_f78e710cdf530712ddc63a2cad6c6bb8 = L.tileLayer(\n",
              "                &quot;https://{s}.tile.openstreetmap.org/{z}/{x}/{y}.png&quot;,\n",
              "                {&quot;attribution&quot;: &quot;Data by \\u0026copy; \\u003ca href=\\&quot;http://openstreetmap.org\\&quot;\\u003eOpenStreetMap\\u003c/a\\u003e, under \\u003ca href=\\&quot;http://www.openstreetmap.org/copyright\\&quot;\\u003eODbL\\u003c/a\\u003e.&quot;, &quot;detectRetina&quot;: false, &quot;maxNativeZoom&quot;: 18, &quot;maxZoom&quot;: 18, &quot;minZoom&quot;: 0, &quot;noWrap&quot;: false, &quot;opacity&quot;: 1, &quot;subdomains&quot;: &quot;abc&quot;, &quot;tms&quot;: false}\n",
              "            ).addTo(map_be98821f615a3e871ebe71b07904b4fd);\n",
              "        \n",
              "    \n",
              "            var heat_map_c73d133ea30c48a71c85d0cac20eba25 = L.heatLayer(\n",
              "                [[39.02271500000001, -76.941373], [33.745075, -84.42698100000001], [25.624187, -80.414429], [35.153192, -80.79592099999998], [43.513012, -123.31512], [44.858046, -93.333208], [34.069064000000004, -117.356761], [33.644975, -117.735897], [38.660931, -121.346734], [28.553172, -81.383675], [44.641566, -123.123339], [34.082194, -117.698509], [37.48107, -77.568823], [38.222689, -120.761716], [33.961544, -118.369532], [40.73217, -73.91944000000002], [38.83211, -76.98732], [37.935097, -122.444517], [39.714814, -121.799701], [44.93179600000001, -93.130529], [26.591408, -81.697367], [42.428579, -121.304864], [34.277998, -119.302221], [40.680667, -111.798151], [35.89043, -78.561738], [40.760829, -74.164079], [44.875406, -93.194457], [38.75317, -77.74606800000002], [40.069464, -75.149956], [32.339082, -81.048449], [35.963863, -119.143147], [45.407732, -93.900385], [39.01965, -76.98029], [28.540946, -82.46066400000002], [37.956813, -120.304281], [41.22365, -96.012], [37.750171, -122.392212], [47.633484, -122.131051], [44.861882, -93.298179], [38.75411, -90.45436], [36.818823, -76.43258399999998], [39.48975, -80.08496], [40.696681, -111.938919], [44.91885, -93.14476], [33.977359, -118.282674], [41.18081, -96.11507], [28.552974, -81.383499], [28.876909, -81.282445], [33.229508, -80.58992099999998], [40.64788, -73.87235], [25.942363, -80.30466899999998], [40.555567, -74.266654], [45.665391, -118.813222], [38.38981, -81.76937], [33.809104999999995, -117.879513], [37.89156, -122.144667], [39.6354, -104.89743], [45.799351, -119.418114], [37.830707, -122.281082], [38.707891, -77.165747], [34.114273, -118.242731], [34.015267, -118.05541399999998], [38.00495, -78.361197], [28.475003000000005, -81.453751], [38.44863, -90.37811], [45.276267, -93.738051], [28.54278, -81.41378900000002], [30.22048400000001, -97.758307], [28.02255, -82.040029], [28.558591, -81.360385], [33.979144, -118.090468], [41.429608, -112.057428], [45.538061, -117.918609], [34.155496, -118.40102], [28.589692, -81.378528], [35.804003, -78.69385600000003], [33.80621, -117.23431], [40.191653, -111.64723700000002], [46.35559, -95.46996], [33.43762, -112.6695], [36.237879, -86.78675600000004], [30.006226, -90.020395], [36.160104, -86.769693], [25.835723, -80.206221], [37.233563, -93.309655], [35.9044, -78.60162199999998], [33.738548, -117.83141], [44.08258, -121.3013], [47.54479, -122.33101], [37.591273, -77.53841899999998], [41.120399, -73.374048], [30.291078, -81.630084], [33.926347, -117.883068], [39.103935, -94.675787], [39.895738, -121.746045], [28.40853, -81.456123], [33.599352, -84.29077], [35.80074600000001, -78.59179], [40.590923, -121.540042], [32.551685, -93.794199], [40.54976, -111.89592], [39.105952, -94.838908], [38.562879, -121.641168], [41.69536, -92.811249], [42.567703, -82.85866800000002], [28.547490000000003, -81.38291], [42.293163, -79.654515], [25.812418, -80.205928], [37.562665, -109.583644], [33.804224, -117.506147], [34.168971, -117.45682], [33.930457000000004, -117.41423799999998], [33.928464, -118.239065], [36.06615, -80.25832], [34.1177, -117.848211], [47.579413, -122.153565], [40.48062, -75.46099], [35.003667, -85.278765], [46.823161, -114.077836], [40.994324, -73.659726], [36.672567, -121.810988], [39.604409, -110.830299], [37.362542, -121.842611], [38.550553, -121.474073], [30.107648, -97.77139], [36.783799, -119.784681], [35.25652, -80.88661], [38.564065, -121.380302], [25.785313, -80.215021], [30.274359000000004, -97.76209], [41.104593, -73.428577], [29.822952, -82.58728], [35.19038, -113.42908], [45.431885, -122.579254], [33.931696, -118.309114], [27.835956, -82.700004], [33.335773, -117.151705], [25.960127, -80.188885], [41.07302, -93.780981], [42.95788, -88.04394], [39.027761, -76.951128], [34.229933, -117.415856], [38.861171, -76.061054], [33.606757, -114.539744], [33.988879, -118.351993], [47.873255, -122.273404], [32.83899, -117.14651], [27.85096, -82.81168000000002], [25.689146, -80.38287199999998], [34.819113, -82.426975], [38.36319500000001, -75.537968], [32.8002, -97.21224], [34.221765000000005, -80.596816], [33.779753, -118.089952], [39.663788, -84.160107], [42.0804, -88.45262], [37.395083, -122.009718], [41.99111, -87.75125], [40.849221, -73.94076700000002], [33.945485999999995, -118.29563799999998], [42.499762, -76.074689], [29.135869, -82.044517], [44.74014, -122.15585], [29.725044, -95.332134], [37.32846, -121.87192], [39.87429, -74.16714], [42.80972, -85.66871], [34.11193, -118.18132], [33.909199, -118.323124], [33.8919, -118.10477], [37.335265, -80.015183], [44.89850300000001, -93.207624], [40.823298, -74.034126], [34.101487, -81.177366], [39.444361, -77.40010799999997], [33.66892, -112.0762], [33.73811, -117.82664], [39.4207, -76.64480999999998], [33.67282, -117.3152], [36.014031, -82.547353], [33.945372, -118.36828], [35.118227000000005, -118.396553], [28.58016, -81.37465999999998], [33.96638, -118.164896], [33.353806, -79.914948], [47.694499, -117.218527], [36.743626, -119.809869], [44.96476, -93.2831], [40.354338, -74.471672], [34.056391999999995, -81.17084799999998], [34.020212, -117.814998], [25.628875, -80.342607], [44.99156, -93.23665], [33.02483400000001, -117.078498], [34.235640000000004, -118.48507], [37.488748, -77.661202], [34.896958000000005, -82.48389300000002], [39.09669, -94.59547], [40.82145300000001, -73.950358], [41.81624, -87.63011], [35.94602000000001, -83.99629], [28.224039, -80.71651899999998], [47.46234000000001, -122.25001], [34.36401, -118.504314], [32.883699, -96.857342], [32.75273, -117.15741], [39.027097, -94.690413], [35.083563, -81.10414499999997], [34.00615, -117.550503], [25.911413, -80.324954], [39.2254, -84.38915], [28.350549, -82.699237], [46.07892, -122.91058999999998], [27.867945, -82.326699], [36.753032, -119.704916], [38.845973, -76.983417], [37.412365, -120.958823], [38.93554, -94.7506], [32.716389, -83.729985], [40.03051, -82.98546999999998], [40.85017, -73.944738], [34.818512, -82.276886], [34.146552, -118.784093], [41.89705900000001, -87.919515], [33.519405, -93.934704], [35.772889, -78.63849499999998], [35.368491, -118.970337], [40.02113, -82.9287], [26.072988, -80.167062], [28.35741, -81.49181], [47.02398400000001, -122.901917], [30.5087, -91.141408], [39.07122, -104.666113], [40.11273, -111.67199], [37.631772, -122.084264], [37.333656, -121.937266], [29.923291, -89.991011], [34.224940000000004, -118.47327], [40.593801, -123.011678], [27.559107, -80.481623], [38.185655, -77.501202], [45.05953, -93.14716], [34.544461, -117.302037], [33.745059999999995, -84.42693], [40.685924, -73.600083], [39.79486, -104.92302], [30.480853000000003, -87.24760699999999], [33.933761, -118.011849], [41.76076, -87.8928], [32.92286, -96.84411], [30.47273, -97.798874], [30.770107, -96.074438], [41.63331, -87.57836], [45.514123, -122.689239], [41.758189, -72.663938], [39.794127, -123.253456], [28.322507, -81.335127], [35.19168, -89.93285], [42.16773, -87.92178], [43.40298, -73.71368000000002], [45.74503, -93.673309], [32.951845, -97.040275], [27.209554, -81.61985200000002], [32.964217, -96.724003], [39.075957, -94.602211], [44.943081, -93.07707], [33.988921999999995, -118.34674], [36.134601, -86.894506], [37.230806, -77.479811], [44.290032, -123.06079], [38.627188, -94.349921], [34.209416, -80.984124], [41.185055, -73.870082], [26.36799, -80.07788000000002], [34.00571, -118.41349], [35.430063, -119.013791], [37.745632, -120.913902], [38.90335, -111.64316], [37.065872, -81.754611], [37.12686, -121.63099], [27.793742, -82.334978], [33.383942, -117.579535], [42.37829, -83.43658], [42.41484000000001, -123.39393], [27.02107100000001, -82.04870799999998], [25.770159, -80.369194], [38.80023, -77.166], [33.872498, -118.059035], [39.097993, -121.5515], [33.914491, -117.88268], [43.285782, -73.58658], [39.153546, -76.649712], [33.853929, -117.963034], [30.26274, -81.51904], [39.29373, -76.55286], [29.86064600000001, -95.526657], [45.166645, -92.991291], [38.59385, -121.50407], [45.129426, -93.486928], [36.06065, -95.977441], [35.567395, -121.100255], [34.211096000000005, -118.232054], [25.689774, -80.442284], [41.90887, -72.94999], [34.114223, -117.90543], [36.244809, -86.784398], [29.969373, -90.06874], [34.770340000000004, -114.59603], [46.699541, -92.417033], [25.765225, -80.336334], [33.173094, -87.518139], [33.913668, -118.104754], [43.63794, -95.62987], [41.30137, -73.82353], [47.333565, -93.221515], [31.376513, -89.328213], [38.971778, -77.179201], [33.181574, -117.326883], [38.865817, -77.056039], [40.784002, -73.53439399999998], [30.34226, -91.72273], [37.895744, -121.712465], [32.789535, -117.148921], [28.35690300000001, -80.706928], [26.36321, -80.11973], [43.599382, -116.508926], [33.781607, -78.988911], [34.070177, -81.16296], [38.595914, -121.393826], [40.755382, -73.745867], [40.82497, -77.858594], [37.240937, -93.309844], [29.736832, -95.570634], [33.862741, -79.055487], [32.648631, -96.77585], [33.561848, -84.31490699999998], [35.709675, -109.530333], [39.991066, -76.734375], [33.87681, -118.17392], [37.34723, -121.85912], [40.155984, -77.298377], [35.33662, -80.82486], [36.019088, -78.90065799999998], [45.79776, -123.966786], [35.123098, -85.293079], [33.910921, -118.171015], [38.79866, -77.58908000000002], [45.58462, -122.54392], [35.36927100000001, -80.79368199999998], [33.987523, -117.891269], [36.170215, -86.76832399999998], [38.7029, -90.34251], [38.63098, -90.24987], [43.320049, -73.64347099999998], [29.646377, -81.596626], [39.345935, -76.506847], [43.67721, -116.68699], [35.211217, -78.659609], [32.831818, -117.27661299999998], [32.511340000000004, -110.92572], [38.914181, -94.769791], [33.46165, -112.075162], [44.381278, -117.305349], [40.105977, -75.18824599999998], [25.597573, -80.354562], [28.483057, -81.330864], [38.589346, -121.401426], [37.478927, -120.065681], [45.77379000000001, -94.24056], [37.41289, -122.08074], [39.781948, -86.14285100000002], [35.767933, -78.573049], [39.02203, -76.47484], [43.580356, -73.652496], [37.700647, -121.79659], [33.749505, -118.281958], [40.84786, -73.93481899999998], [45.100569, -93.401156], [28.509574, -81.420612], [39.76958, -86.09493], [33.55679600000001, -117.679774], [42.87928400000001, -117.442098], [40.686787, -111.93891], [30.007086, -90.059675], [39.334952, -120.355393], [33.884671999999995, -117.521639], [27.430725, -82.575468], [42.17012, -88.01943399999998], [33.790501, -84.48989499999998], [34.620018, -92.753471], [32.745075, -96.612259], [38.874188, -76.977242], [44.09215800000001, -93.244818], [32.948121, -96.906763], [39.178815, -76.61669499999998], [42.41799, -83.42428000000002], [40.85005, -73.94481], [40.639253, -111.903487], [34.37332, -117.7524], [33.883948, -117.525285], [33.995271, -118.145091], [32.721694, -96.167387], [38.55043, -121.47405], [29.92504000000001, -90.101782], [43.11973, -70.8274], [40.963951, -73.731189], [25.811491, -80.198247], [38.324235, -121.168593], [35.016925, -85.293172], [29.76537, -82.27945600000002], [29.70698, -95.23271], [40.487161, -111.89544], [39.008572, -77.150529], [36.502448, -86.581183], [37.575055, -122.046888], [40.608794, -74.037405], [37.885355, -79.28540799999998], [43.239948, -73.69259100000002], [39.756627, -84.209473], [35.810737, -78.5774], [40.711409, -96.305738], [34.136518, -117.49495], [44.934132, -93.27478], [38.63954, -122.594559], [39.954861, -74.206691], [33.78175, -117.21277], [38.8313, -121.17156], [33.868790000000004, -117.67602], [34.06483, -118.24563], [39.315177, -77.51383100000002], [33.980411, -117.706015], [37.317268, -121.939301], [38.177511, -122.52841399999998], [34.183731, -79.767179], [44.29242, -94.41189], [40.573395, -75.391932], [43.173949, -77.639434], [42.40504, -83.13551], [34.033486, -117.550066], [33.858263, -117.32262], [46.729826, -122.97644], [30.191792, -81.70541800000002], [41.55293, -81.59971999999998], [38.207202, -122.151375], [26.133021, -80.169512], [46.847301, -96.812306], [25.939383, -80.295955], [38.871334, -76.97497], [45.846649, -119.290183], [34.085273, -117.300995], [28.333563, -81.284026], [27.215052000000004, -80.400873], [36.32433, -119.618915], [26.014923, -80.167252], [32.496074, -93.752545], [45.56601, -122.55605], [30.006079, -90.02108], [32.078787, -81.24378399999998], [33.974039000000005, -118.080118], [36.600276, -82.232998], [36.658941, -77.55704899999998], [44.8901, -93.4025], [32.86592, -96.821004], [34.04932, -118.26443], [39.901699, -75.11228], [47.56991, -122.17849], [25.909346, -80.195465], [37.932473, -122.350435], [36.160336, -86.776717], [30.24687, -92.07002], [42.87371, -78.81424], [42.23777000000001, -85.67027], [33.85375, -117.96322], [40.047289, -111.958233], [40.603815, -74.01915], [39.50269, -76.16756], [41.89301, -71.37746], [35.119264, -85.281673], [42.380084, -88.139786], [28.257447, -81.61624], [35.67319699999999, -77.800379], [37.687344, -122.468798], [44.216779, -121.423668], [34.17054, -118.501102], [39.76436, -86.14293], [37.202038, -119.722683], [30.067249, -95.167695], [34.099115000000005, -80.855614], [25.749494, -80.287338], [42.92935, -78.8326], [39.349004, -77.391182], [33.935145, -118.368292], [37.282522, -77.42965600000002], [34.43441, -118.38278], [42.633422, -73.763526], [38.192829, -121.225732], [37.55282, -77.48608], [34.117321000000004, -80.882568], [35.23285100000001, -80.94438199999998], [36.684873, -119.749592], [41.82172, -71.42016], [26.06851, -80.35684], [32.925261, -96.792869], [39.671941, -106.645606], [41.767476, -72.619596], [32.759017, -96.618844], [34.186524, -82.348066], [25.858212, -80.20833], [37.54887, -122.2918], [29.004811, -82.150159], [44.919688, -93.271528], [25.869378, -80.20384399999998], [26.746990000000004, -81.421501], [34.105286, -118.326516], [40.809911, -73.902241], [29.156098, -82.134349], [38.937106, -94.607881], [25.808548, -80.260275], [32.642065, -96.829901], [32.655285, -96.094425], [26.023531, -80.167479], [27.270415000000003, -82.497665], [30.441234, -91.011749], [25.760893, -80.39527199999998], [36.597078, -121.923152], [37.436481, -121.919606], [45.5136, -92.99311], [39.015792, -77.017752], [33.59662, -117.116809], [34.996401, -120.434027], [40.069838, -75.150706], [38.45192, -121.40803], [37.492886, -120.976444], [38.90624, -77.01243199999998], [40.858851, -73.922957], [33.112483000000005, -117.097099], [32.897628999999995, -96.773847], [41.98337, -87.81885], [38.57256, -90.23633], [34.134609999999995, -117.64656], [38.357418, -77.47285699999998], [42.7341, -121.84056], [37.872308, -121.277558], [34.116938, -117.302347], [28.361022, -82.588038], [34.142466, -80.91272], [33.895208000000004, -80.334976], [29.560081, -98.659663], [41.72277, -87.62418000000002], [44.972137, -93.287776], [33.87235, -118.05915], [35.147845000000004, -80.828613], [34.068484999999995, -117.605692], [31.56781, -89.51496999999998], [33.136821999999995, -117.170199], [29.777556, -95.278527], [32.440959, -93.750244], [38.673623, -121.723033], [32.834583, -96.898115], [35.176421000000005, -81.41717299999998], [26.485302, -82.006156], [41.76093, -87.87301], [25.963352, -80.15133399999998], [42.85948, -83.7397], [40.79257, -73.50582], [25.62762, -80.341566], [29.73106, -95.4073], [37.287632, -119.519502], [40.609321, -73.986109], [37.25319, -121.94313], [40.7014, -73.98862], [35.403453000000006, -78.489986], [33.773528000000006, -118.039029], [38.239455, -104.225213], [34.23081, -118.473223], [27.440311, -82.57099000000002], [45.055307, -93.287047], [34.046489, -80.942947], [29.753027000000003, -95.409506], [37.826405, -121.289917], [36.082525, -86.698004], [41.08917, -112.0398], [35.273205, -80.846682], [25.597573, -80.354562], [30.7256, -86.206991], [33.430706, -117.322998], [25.761807, -80.33846899999998], [34.329282, -118.119775], [30.40844, -91.066492], [26.076459, -80.168604], [37.572256, -122.264009], [40.74929, -86.87505999999998], [25.695889, -80.3011], [33.451370000000004, -112.06519], [41.82457, -72.49346], [27.974919, -82.45344399999998], [26.70575, -80.05726], [39.036276, -77.00005], [45.6128, -122.67823], [37.821075, -122.302277], [35.122467, -85.24839399999998], [35.35615900000001, -118.9141], [35.164472, -80.753963], [35.136668, -80.783185], [40.00303, -75.07809], [39.979433, -83.200204], [37.083949, -120.215021], [28.449855, -81.474317], [35.921162, -87.601107], [33.811, -84.37305], [43.00168, -83.69914], [25.483616, -80.48562199999998], [38.798786, -77.018955], [41.162093, -112.022673], [40.300423, -78.924403], [47.3457, -122.24467], [40.292841, -76.65906700000002], [26.50144, -81.79467], [38.575273, -121.338074], [34.980589, -81.974198], [42.12963900000001, -122.631183], [34.004353, -118.063689], [45.515398, -122.565304], [40.85953, -73.91564], [40.91668, -81.78063900000002], [35.015213, -85.163684], [34.085606, -81.142527], [36.144156, -86.73865699999998], [45.01767, -122.976293], [41.588176, -87.226949], [30.369977, -81.66884399999998], [38.690519, -121.348072], [33.812671, -79.46986899999997], [37.57581, -77.50841], [37.443298, -77.429227], [28.342379, -81.43526999999997], [43.556402, -73.349071], [36.051582, -119.043484], [43.092359, -73.750694], [33.984349, -118.133274], [44.05154, -121.30715], [27.871731, -82.325879], [37.702403, -121.763602], [29.417240000000003, -81.16094], [33.96015, -118.253975], [33.741478, -117.836884], [28.546502, -81.413591], [34.019991, -117.544473], [35.312555, -120.823779], [36.1548, -86.76045], [42.32304, -88.16457], [34.29181, -79.46696], [36.109372, -78.720528], [37.18101400000001, -93.246967], [34.03568, -118.03143], [45.104259000000006, -93.1882], [45.507406, -122.709648], [40.030827, -74.841425], [25.669776, -80.416237], [27.274965, -82.448669], [29.366903000000004, -82.197501], [33.370666, -80.480624], [25.839958, -80.316328], [29.689124, -95.570567], [37.73432800000001, -121.616469], [33.897838, -80.478145], [25.77810400000001, -80.222774], [40.527573, -74.33813599999998], [39.20909, -84.71639], [34.019508, -117.550097], [32.925204, -96.803104], [35.1297, -80.94176999999998], [39.18017, -84.566409], [35.359186, -94.365129], [34.141148, -118.277866], [45.492378, -122.673779], [44.884749, -124.029142], [40.97503, -73.70294], [32.595596, -80.753729], [34.810775, -82.438164], [34.06678, -117.33234], [34.03284, -118.170366], [37.75041, -121.57626], [27.96191, -82.4533], [34.189961, -118.180755], [29.58757, -98.3489], [44.88992, -93.40307], [33.639032, -117.730585], [36.883199, -76.430686], [40.977576, -111.445902], [37.72001, -121.65891], [25.93558, -80.319689], [34.200537, -81.364228], [39.618405, -86.465073], [28.59801, -81.41658000000002], [34.212335, -118.348555], [42.36147, -83.07294], [45.6736, -120.828696], [37.63218, -77.4502], [36.140601, -86.732024], [34.791673, -118.151425], [32.481839, -93.776199], [33.591953000000004, -84.38531], [45.481199, -122.578965], [37.539267, -122.017457], [33.547297, -117.643923], [39.15809, -77.20421999999998], [25.760882, -80.44395], [39.017737, -122.571783], [36.732947, -119.801419], [42.420583, -123.119798], [38.977271, -94.54614], [40.600895, -122.234543], [40.992362, -73.661836], [40.948604, -74.05114], [33.854225, -117.79065], [43.651093, -123.626999], [37.89539, -122.11373], [40.68258, -73.66615], [25.510028, -80.413001], [33.564173, -117.658055], [39.98839, -82.98569], [40.809549, -73.93480799999998], [41.13427100000001, -87.26586999999998], [37.56909, -77.478665], [39.83212, -105.01135], [28.59832, -81.71855], [39.087032, -121.086204], [39.052571, -77.074503], [40.32887, -111.636916], [39.552335, -76.364535], [33.85607, -118.01493], [37.64884, -122.096842], [33.702934, -117.951242], [28.209243, -82.21310600000002], [34.142336, -82.14856999999998], [36.929685, -119.507186], [33.5088, -112.255], [28.235848, -81.55722], [35.030216, -85.155557], [45.433081, -122.56642], [33.77444000000001, -118.03088], [41.813704, -83.44676199999998], [35.104843, -80.984473], [43.009425, -76.136037], [47.3826, -94.61204], [40.387998, -80.04324799999998], [39.750069, -75.376285], [39.585875, -77.820357], [40.17618, -111.64677], [36.698691, -79.441771], [44.886564, -93.004535], [45.508662, -122.736073], [37.82324000000001, -122.31723999999998], [34.003719, -118.471998], [34.933547999999995, -90.013348], [25.665975, -80.356639], [34.081767, -117.710298], [42.031165, -80.12411999999998], [41.23142100000001, -77.032474], [46.160185, -123.806309], [45.04322, -123.20711], [33.38671, -111.60962], [45.03681, -93.067599], [34.996320000000004, -120.43428], [27.47351, -80.430373], [30.389783, -91.115082], [39.77561, -104.86548], [38.852752, -83.748131], [47.702937, -114.639825], [41.9872, -87.86269], [37.81269, -122.2507], [38.64493, -90.52132], [39.935851, -120.932734], [32.221655, -111.132175], [26.13501, -80.16923], [32.822953000000005, -117.183968], [30.00424000000001, -90.101541], [30.30036, -81.60132], [38.27506, -85.81285], [32.65633, -96.74473], [39.81997, -84.17584000000002], [39.107589, -77.184505], [35.656308, -80.10002], [41.82056, -88.20374], [42.529295, -73.784142], [45.144391, -93.498787], [32.811902, -117.151827], [39.5647, -104.91571299999998], [39.636193, -76.671298], [41.028238, -73.60199300000002], [41.69342, -72.75823000000003], [25.89478, -80.162186], [44.96615, -93.257435], [37.387474, -121.98341], [30.06774, -94.16596], [26.203227, -80.144478], [34.227945, -118.84703799999998], [45.60979, -117.61548], [40.111557, -75.9774], [45.56601, -122.55605], [34.977340000000005, -90.015925], [39.110713, -94.565329], [39.752463, -84.175349], [42.002876, -74.002436], [37.777315, -121.179381], [29.77608, -95.368873], [36.954071, -121.879413], [37.764645, -121.410691], [25.894643, -80.183068], [32.909139, -96.887707], [32.865688, -79.99894599999998], [42.878404, -78.874551], [37.385401, -121.976136], [33.986302, -117.346354], [34.15166, -118.13772], [40.72772, -73.37236999999998], [38.02999000000001, -121.978908], [45.509358, -122.72865], [29.777938, -95.372796], [35.321385, -118.940934], [37.774816, -119.014315], [33.926363, -118.368273], [33.372618, -111.968122], [35.05096, -85.26176099999998], [40.96417, -73.73076], [35.396064, -118.967455], [33.60965, -112.26128], [46.265605, -106.671677], [29.51727, -82.548211], [33.958469, -118.10643600000002], [30.441256, -86.638759], [27.89338900000001, -82.679463], [36.180757, -77.765854], [34.129039, -118.347419], [34.118329, -117.842129], [34.068699, -117.363249], [27.516664, -80.448149], [41.87124, -87.77922], [46.854202, -92.602399], [34.184635, -118.896607], [38.972779, -76.258426], [33.825957, -118.237201], [34.228082, -117.306634], [30.283566, -82.036789], [34.02582, -117.782181], [34.064073, -117.795449], [33.16511, -79.77135], [32.713292, -117.141585], [29.684946000000004, -81.578529], [35.500574, -84.61362199999998], [43.079742, -76.179724], [32.565486, -117.073435], [33.47627, -117.13896], [44.111533, -122.423763], [34.136237, -117.488421], [41.76837, -88.04184000000002], [33.854007, -117.941846], [39.05027000000001, -123.257621], [27.967559, -82.554117], [39.262143, -94.448722], [34.729284, -119.970703], [45.517628, -122.666884], [34.581194, -118.133601], [29.677616, -95.417662], [38.51598, -90.54896], [38.800848, -77.083283], [32.930091, -80.690191], [36.840781, -121.529204], [34.237045, -119.177287], [46.10669, -123.20672], [27.447751, -82.573305], [28.47837100000001, -81.449668], [41.02335, -73.61475], [33.56551, -112.116944], [30.662098, -87.839787], [39.134311, -81.548862], [45.400376, -92.652663], [26.390715000000004, -81.77286], [40.730963, -74.125388], [38.81913, -76.91499], [39.7184, -76.65292], [30.380619, -82.868767], [39.795064, -104.987964], [35.354387, -119.194304], [37.528416, -113.647452], [34.013884000000004, -118.487793], [35.75696, -78.66101], [39.5942, -76.671341], [33.832431, -117.931993], [37.849677, -122.223624], [47.230664, -122.44338799999998], [36.00524, -83.96453000000002], [44.483012, -93.291782], [35.36506, -118.950456], [34.147736, -118.031661], [33.217852, -117.390931], [25.682933, -80.4005], [37.743082, -122.406319], [32.839755, -97.287637], [37.765236, -122.404898], [25.906084, -80.235747], [30.434745, -91.037746], [33.937867, -118.343917], [29.95999, -90.077265], [32.806581, -96.62702], [34.0444, -84.30624], [35.353835, -119.041742], [25.70247, -80.29176600000002], [37.684381, -113.061846], [27.912585, -82.338965], [29.73694, -95.5577], [34.025665000000004, -117.806152], [25.927882, -80.204369], [35.148884, -80.832533], [38.794451, -77.184845], [40.154989, -76.60825], [38.984837, -94.550966], [34.13479, -117.61622], [45.49918, -122.672814], [34.069835, -117.863875], [46.87554, -97.487858], [38.010294, -122.017282], [33.851317, -117.976255], [25.76861, -80.367676], [34.030337, -117.55349], [29.735783, -95.347049], [38.776191, -104.782895], [42.065719, -121.65910900000002], [33.80523, -118.28834], [30.419844, -91.084567], [34.198926, -117.41768], [40.669072, -74.283866], [37.35315, -77.355727], [33.865696, -117.542336], [43.59706, -116.29515], [38.80803, -78.60074], [25.685165, -80.419593], [33.854225, -117.79065], [44.50062, -122.85376], [43.02897, -88.00361], [33.552784, -86.783464], [43.12785, -122.131002], [25.650254, -80.386716], [33.10044, -117.30847], [40.07661, -74.96457], [37.364271, -121.843933], [36.782773, -76.23688800000002], [42.455937, -87.961047], [30.404543, -97.640566], [25.508608, -80.42095], [34.014335, -118.281218], [30.25249, -92.2655], [46.98181, -91.7459], [27.987488, -82.326167], [35.06107, -80.76988], [25.865788, -80.242363], [39.951962, -111.95614], [32.779992, -96.532429], [33.424519000000004, -117.152034], [25.734314, -80.319079], [38.672237, -77.24569], [44.407081, -123.881578], [38.839085, -121.30918], [32.329482, -90.161655], [47.081319, -122.675517], [26.300604, -80.23039399999998], [36.527863, -119.286847], [28.036454, -82.0449], [39.293189, -76.532042], [37.49905, -122.1286], [34.027262, -117.121564], [34.114946, -118.241323], [34.733201, -114.549239], [25.57598, -80.372764], [36.737758, -121.640596], [46.87249, -92.45993], [33.973355, -81.134599], [34.039646000000005, -118.079885], [39.165678, -121.707174], [38.866034, -76.991833], [40.467928, -78.411556], [37.761502, -122.025934], [32.744766, -96.918228], [42.363649, -83.43632], [35.365003, -108.056094], [32.739433, -97.320268], [42.48892, -83.08129], [33.317984, -80.548508], [38.737267, -77.192484], [34.073849, -117.810291], [33.158167, -117.086105], [33.8303, -84.25218000000002], [37.38858, -122.15762], [43.1961, -77.60015], [25.927509, -80.208166], [29.943306, -90.09282], [40.804381, -73.91829399999997], [40.666947, -73.80143100000002], [28.552694, -81.414971], [36.859059, -121.598334], [27.327136, -82.497414], [43.24753, -124.22393999999998], [37.969452, -122.058735], [38.363187, -122.712615], [33.206361, -80.04616899999998], [33.201892, -87.525047], [39.012504, -76.495817], [33.744545, -118.004756], [47.190452, -114.886747], [26.121625, -80.17231], [41.20993, -111.94847], [39.389859, -76.53388299999997], [32.96382, -117.09629], [40.024166, -76.307244], [35.116089, -80.959942], [35.176731, -81.417757], [32.940102, -96.784769], [37.70155, -121.91714], [32.737828, -96.682836], [42.151719, -122.643567], [32.79769, -96.684597], [36.14729000000001, -86.744014], [25.98034, -80.1657], [44.85806, -93.14403], [34.168156, -118.583453], [25.90607, -80.392699], [38.13156, -79.030934], [40.177767, -74.668642], [42.89815, -78.89747], [45.572582, -93.203717], [44.05262000000001, -123.26845], [36.743626, -119.809869], [46.697843, -113.427355], [38.81908, -76.91456], [47.142445, -100.79227], [39.6949, -86.19034], [29.77135, -95.32992], [25.939363, -80.29527], [37.53784, -77.424412], [38.833891, -77.450147], [33.945749, -84.14313299999998], [42.43891, -83.43475], [32.878820000000005, -96.51348], [40.967073, -76.37244100000002], [35.843559, -78.6435], [38.646686, -121.068305], [34.12654000000001, -118.34499], [32.717312, -97.320727], [44.15735, -121.26097], [41.087634, -73.92654], [34.071652, -118.108241], [28.651494, -81.328274], [40.675839, -74.279412], [39.78009, -104.93226], [35.25754000000001, -80.84134], [26.583378000000003, -80.069071], [34.063376, -117.289651], [38.9049, -77.21643], [43.123022, -75.392489], [27.142549, -82.414315], [41.79576, -85.57941], [41.120644, -73.372326], [42.493604, -82.97917], [45.349255, -122.656806], [42.99094, -85.696825], [44.062427, -123.079475], [38.54247, -122.8051], [34.99807, -85.260203], [44.104551, -94.229642], [42.7401, -73.65719], [40.82895300000001, -73.842893], [34.030376000000004, -118.440417], [46.189282, -123.823007], [39.772624, -75.592015], [32.326651, -86.307841], [29.77645, -95.39705], [26.00525, -80.16678], [33.773206, -84.554911], [38.535666, -121.47332], [28.423899, -81.404781], [37.895418, -122.308123], [32.177261, -111.111934], [40.444933, -122.251981], [40.75252800000001, -74.192165], [39.158395, -94.395292], [40.156858, -80.13812800000002], [47.892161, -92.775324], [38.574141, -121.383113], [26.08379200000001, -80.192687], [34.112285, -118.265603], [30.324444, -97.725145], [38.425725, -121.39623799999998], [36.753514, -119.78924], [42.573605, -95.151118], [38.496168, -121.451968], [35.883243, -119.263774], [25.686197, -80.417618], [35.775458, -78.635498], [42.459603, -83.10444], [38.86501, -76.94991], [40.02121, -82.99503], [35.55272700000001, -78.579083], [38.990888, -121.02405], [36.046625, -86.661046], [37.74219, -121.525634], [38.57116, -121.46833], [35.335239, -119.039708], [27.464382, -82.587622], [34.77262, -92.26185], [44.769805, -93.288462], [32.814170000000004, -83.65727], [37.208576, -93.312082], [25.781816, -80.400723], [40.42599000000001, -79.89703], [35.2897, -84.814453], [38.75229, -90.43889], [39.2185, -76.66159], [30.239571, -84.362413], [25.85816, -80.208], [30.426162, -91.166453], [34.030956, -118.030983], [36.206922, -86.768153], [43.599968, -116.566917], [33.87012, -84.47729], [39.998475, -75.195614], [30.716067, -85.930048], [38.665085, -121.213656], [36.101271, -86.81838], [27.446285, -82.48849799999998], [48.225845, -114.272661], [26.594929, -80.068977], [42.96217, -88.01804], [35.389052, -84.689394], [28.380641, -81.558706], [40.822188, -97.561058], [47.508286, -121.883732], [34.071648, -118.265364], [34.077733, -118.286796], [38.455991, -121.405255], [41.94201, -87.71544], [28.984347, -82.138081], [42.34061, -79.58071], [40.805358, -73.83195], [47.686146, -122.325178], [34.742256, -92.35602], [29.952431, -90.086506], [38.704721, -77.2278], [39.088829, -76.995245], [30.401468, -97.634163], [42.394519, -83.76345699999997], [38.95330300000001, -77.068822], [33.875418, -117.525309], [39.337888, -76.493672], [40.554618, -112.297589], [37.74155800000001, -122.407412], [38.843646, -76.884282], [29.573167, -82.352968], [25.733338, -80.302883], [36.390886, -121.595324], [38.141819, -121.399108], [39.420797, -77.478258], [34.027352, -118.27426], [29.687876, -95.506508], [39.123107, -77.17860300000002], [37.102161, -121.724493], [38.500649, -121.390579], [32.879505, -117.160776], [37.110592, -84.101964], [40.616011, -74.285197], [34.240232, -117.429567], [34.83163, -82.44621], [35.426219, -118.818479], [33.096476, -96.679687], [32.80553, -117.151067], [45.36184, -122.67067], [26.34727800000001, -81.753499], [45.50881, -122.68298], [33.876332, -118.013731], [25.92478, -80.154122], [43.59965, -93.35115], [28.519801, -81.288377], [38.96817, -94.7762], [34.008232, -117.730683], [32.669725, -96.93698], [29.733912, -95.571661], [35.261806, -80.850861], [40.682555, -73.660637], [32.996035, -117.256534], [39.17496, -76.791697], [32.697024, -117.136885], [32.654857, -96.857181], [36.154943, -86.763702], [33.18972, -87.45026800000002], [35.118538, -85.04489699999998], [45.59983, -94.18752], [39.301797, -76.742752], [34.196394, -79.850167], [39.317307, -104.88361100000002], [33.583551, -117.630789], [35.41964, -119.02111], [41.10798, -73.40828], [47.34104, -93.010774], [34.6057, -118.14778], [26.06851, -80.35684], [37.86948, -122.30474], [34.029857, -117.711901], [30.11109, -95.43682], [33.925933, -118.308112], [36.168597, -86.60031500000002], [25.698631, -80.340002], [40.691893, -74.265922], [24.715521, -81.078203], [47.464754, -92.522977], [39.98208, -83.11864], [35.419268, -81.211383], [25.79133, -80.18899], [40.084244, -75.714301], [33.582584999999995, -117.1327], [34.1721, -118.388687], [34.276453000000004, -118.452733], [38.723491, -77.496432], [42.241973, -122.777935], [33.284841, -80.562388], [42.948487, -83.471026], [33.941066, -118.012415], [29.72523, -95.46022], [41.57454, -71.86214], [30.42558, -91.159092], [41.97304000000001, -88.03153], [40.701146, -111.93895], [37.90797, -104.82887], [30.00202, -82.601276], [28.267453000000003, -81.606714], [30.484496000000004, -97.612549], [38.676017, -106.850273], [37.204851, -93.261981], [37.59988900000001, -122.376082], [25.944226, -80.121195], [45.147832, -118.954006], [43.085986, -77.605437], [42.83045, -74.01113000000002], [38.657615, -121.272241], [38.8974, -77.00887], [40.639527, -78.762627], [25.82434, -80.321935], [41.047614, -73.834487], [35.798711, -78.61095300000002], [42.52276, -83.71427], [29.81479, -95.37528], [44.76225, -121.23078999999998], [47.5992, -122.3172], [45.470116, -122.68418], [40.726035, -73.903086], [40.693633, -111.54424], [37.550582, -77.444182], [47.59035, -122.23912], [25.655261, -80.44379599999998], [35.96149000000001, -78.97694], [32.685559999999995, -97.24038], [25.702031, -80.339331], [27.0589, -82.41399], [33.970887, -117.884788], [44.91966, -93.27449], [33.88039000000001, -117.570026], [34.019217, -117.916288], [35.502354, -82.59395699999997], [30.309931, -97.740041], [44.974025, -93.388992], [40.586961, -122.360411], [33.124683000000005, -87.550265], [37.958694, -122.366934], [45.883203, -123.153353], [41.54843, -73.02753], [39.089272, -84.5227], [39.676083, -122.005501], [36.141271, -119.319776], [28.445893, -81.475178], [43.09471, -71.47563000000002], [25.863969, -80.17921], [47.404514, -93.597475], [34.05079, -84.58835], [36.138734, -85.267052], [33.94594, -118.17074], [47.652736, -92.865961], [33.880603, -78.619682], [29.93173, -95.41203], [37.905622, -77.459487], [40.496214, -78.385643], [40.138073, -75.120243], [40.5198, -74.36591999999997], [37.405775, -122.057397], [34.367433, -110.435761], [40.734368, -73.922713], [33.91959, -80.951954], [30.324685, -87.386937], [40.423881, -77.17868100000003], [34.02685, -118.429908], [28.236661, -81.64373], [42.180512, -121.824667], [29.793829, -95.338889], [33.09713, -96.67926], [40.139753000000006, -75.386411], [37.10583, -121.015793], [39.78512, -105.08272], [29.937719, -90.076624], [33.996262, -117.36411], [44.668254, -118.377261], [38.26073, -122.0606], [35.083525, -90.074607], [38.70859, -77.26123], [32.840466, -96.633328], [38.723859, -121.377181], [40.45687, -74.24677], [45.864648, -95.14078], [34.13458, -117.339878], [37.009468, -121.612992], [35.304747, -118.583711], [32.752318, -117.10442], [41.287753, -74.140375], [43.00838, -77.43848], [40.06063, -75.32424], [37.061454, -77.99798299999998], [39.08428, -78.212946], [39.615019, -76.00340200000002], [36.001714, -79.815899], [32.749845, -97.286761], [41.90691, -87.91821], [37.58274, -77.33376], [45.03916, -123.20712], [39.955858, -83.04392800000002], [37.322564, -122.343374], [46.95206, -92.46267], [33.80977, -118.158455], [37.38346, -80.82484000000002], [25.98157, -80.24729], [34.049609999999994, -118.22252], [38.90224, -94.34557], [34.107426000000004, -118.47961399999998], [26.70697, -80.11097], [35.405942, -119.047626], [25.702213, -80.335339], [25.845659, -80.25106099999998], [47.395242, -122.233168], [38.145732, -121.259362], [39.999022, -75.195532], [45.129421, -93.486925], [37.88877700000001, -77.45734200000003], [36.9397, -77.39278], [30.491573, -87.22363], [37.732233, -121.630441], [33.931456, -118.390635], [27.83553400000001, -82.715664], [42.299967, -71.222708], [32.794531, -96.659767], [28.079285, -82.70288199999997], [40.205369, -74.754468], [33.86834, -81.38695], [40.726028, -111.961508], [28.011526, -82.720431], [29.915846, -97.896305], [34.240254, -117.429524], [33.866618, -117.719424], [32.909402, -96.803914], [42.019754, -91.617575], [34.89608, -82.128753], [33.978759000000004, -118.077941], [33.092542, -117.082971], [30.47122700000001, -97.896747], [41.02511, -81.50158], [38.678631, -121.260393], [35.355701, -118.914117], [28.698003000000003, -81.479681], [34.2718, -118.34899], [39.976276, -75.19589], [36.15877, -115.10042], [25.767491, -80.368853], [36.060201, -86.595937], [45.597177, -122.550054], [26.667276, -81.888402], [32.92805300000001, -117.240804], [25.86933, -80.20588199999997], [36.845858, -76.17528100000001], [34.276990000000005, -118.49656], [42.272761, -88.199752], [42.199562, -71.843149], [35.875145, -78.57520500000003], [34.083333, -118.228204], [41.448824, -74.370529], [32.780501, -117.110411], [33.534361, -86.720484], [32.450188, -80.991925], [32.68523, -96.74711], [45.53395, -122.63107], [45.506632, -122.748784], [41.512116, -73.047885], [47.40007, -92.94133], [33.5466, -86.74474000000002], [33.912296000000005, -118.154064], [38.637884, -121.307051], [33.52409, -112.11413], [37.79910200000001, -121.91305], [40.78062, -73.63620999999998], [38.487949, -81.487064], [38.744412, -90.423047], [32.823302000000005, -117.23068899999998], [36.873911, -119.711122], [38.96901, -76.182707], [39.012504, -76.495817], [33.871684, -118.235916], [44.40711500000001, -122.593191], [39.193559, -74.831888], [33.92853, -118.23042], [29.996768, -90.061717], [45.50924000000001, -122.66711], [32.207205, -110.979449], [30.462636, -91.152038], [25.92466, -80.3138], [32.974362, -96.716906], [34.066926, -117.44866100000002], [25.89758, -80.32475], [33.920233, -84.30828100000002], [36.148874, -86.774749], [38.83525, -80.44824], [25.629035, -80.38179699999998], [45.302004, -121.739453], [26.6317, -80.06806], [38.068497, -122.226493], [35.764542, -78.574508], [39.122448, -77.177637], [32.79135, -96.81363], [35.208724, -118.896092], [41.696087, -92.732709], [36.591687, -121.880023], [43.114203, -76.013277], [34.036261, -118.321182], [25.926062, -80.151967], [37.114874, -76.4928], [32.565740000000005, -117.073584], [25.807814, -80.231993], [33.74044, -84.23061], [37.020205, -77.649381], [40.87632, -73.87061], [41.76624, -87.62553], [45.03726, -93.341827], [42.38339000000001, -83.47997], [34.984148, -107.175825], [29.99207800000001, -90.116637], [42.18593, -83.24324], [25.900679, -80.178841], [47.61408, -122.32339], [32.90153, -96.8979], [36.707412, -119.699908], [44.8896, -93.35018], [40.413924, -76.582536], [41.8153, -87.63048], [37.91953, -122.33178], [33.882575, -117.514881], [34.06673, -117.23857], [28.596595, -81.244563], [33.48446, -112.221141], [45.537933, -94.209641], [28.127011, -82.714759], [40.50416, -74.3988], [41.55854, -83.418429], [37.683076, -122.126749], [33.113909, -117.101525], [41.861246, -73.084284], [42.420373, -83.76738], [26.677374, -80.09961], [36.65853900000001, -119.457512], [37.387474, -121.98341], [41.73103, -85.964], [33.739646, -80.20876700000002], [34.964105, -80.853551], [41.730615, -72.660892], [35.911199, -78.774132], [37.578755, -121.876664], [37.251489, -121.838082], [44.720854, -121.216455], [34.085614, -117.689069], [33.985594, -79.098323], [35.31252999999999, -80.76006], [38.405693, -122.368144], [41.66257, -72.349909], [33.874123, -117.880506], [42.07451, -83.24902], [39.988635, -75.55204499999998], [34.050568, -118.214081], [26.741094, -80.09083299999998], [38.905685, -77.406447], [40.51575, -74.373726], [33.988336, -117.905669], [28.451063, -81.465427], [40.307192, -79.549812], [34.07275, -117.78453], [34.157529, -80.884298], [34.121319, -117.260944], [45.81111, -118.47477], [33.41467, -111.89196], [42.242616, -122.769416], [42.171658, -87.952892], [43.62965, -70.337301], [26.678827, -81.604263], [26.69868, -81.85136], [36.341882, -117.38869], [38.771637, -77.182732], [41.313076, -74.051197], [45.431331, -118.360615], [41.10658, -73.417056], [45.685119, -121.393292], [34.056025, -118.255941], [37.624376, -122.079113], [39.070966, -121.759305], [39.800145, -104.985532], [32.774266, -117.126134], [40.990469, -73.664009], [44.77512, -93.28834], [33.957719, -118.2918], [36.845666, -76.175497], [34.121795, -117.302583], [30.492204, -86.12094599999998], [38.566513, -122.563597], [38.674937, -121.438408], [36.268991, -119.224931], [25.928132, -80.293405], [38.70473, -77.2259], [32.765324, -117.153765], [40.734581, -74.127718], [37.635261, -77.451633], [42.768469, -74.154924], [34.045741, -117.92566200000002], [44.90090900000001, -117.81974], [33.92458, -118.10401], [34.15677, -118.15843], [40.261051, -75.643749], [47.61615, -122.33143], [38.57498, -121.57376], [33.95223, -118.041378], [38.05761, -111.32802], [26.081285, -80.14047], [45.65267, -120.952751], [33.924178999999995, -80.04195899999998], [38.87297, -77.00896], [32.92582, -96.81125], [39.981821, -76.744912], [32.8448, -117.11955], [37.337493, -122.032412], [35.690452, -78.580012], [38.50262, -90.33868], [39.554992, -119.752308], [47.13185, -122.434682], [39.685245, -75.655835], [41.28021500000001, -73.68119300000002], [25.80702, -80.20572], [46.09001, -123.715735], [42.07066, -83.36607], [39.49089, -76.23992], [34.142213, -117.251887], [43.633892, -116.292032], [34.231286, -118.266169], [26.108595, -80.16875], [25.846847, -80.24184100000002], [36.54, -121.911321], [32.692834000000005, -117.095021], [38.538247, -121.47363], [40.519476, -111.411379], [37.68833, -122.134398], [25.939703, -80.188672], [39.07059, -94.6801], [38.17185, -122.19682], [40.92785900000001, -111.891235], [26.51109000000001, -80.172524], [32.86821, -96.66777], [37.369418, -121.825221], [29.595603000000004, -81.24574], [42.222443, -85.79023000000002], [33.461788, -112.090396], [39.664443, -84.160512], [37.629521, -122.083277], [38.22568, -85.75863000000003], [42.39409000000001, -88.15539], [38.515436, -121.455369], [37.373881, -79.03017], [39.638638, -84.225181], [41.87559, -87.66181999999998], [45.19476, -93.55252], [40.19861, -110.89093], [35.797312, -78.648325], [33.650615, -117.644528], [29.833712, -95.492098], [45.068889, -93.29728], [40.078715, -75.111604], [36.138742, -94.183022], [32.283124, -110.978109], [33.49707, -117.14893], [38.880544, -77.23670200000002], [32.71952, -96.82769], [44.555788, -123.06202], [33.759703, -84.378989], [34.987667, -80.85327], [36.179505, -95.940314], [44.888787, -124.025401], [25.892683, -80.124267], [31.7776, -106.44238], [34.00046, -118.17511], [42.81381, -78.79428], [39.28458, -76.7358], [37.539287, -121.188051], [34.0833, -118.22167], [45.3592, -122.354802], [37.593552, -121.870939], [30.6765, -88.0883], [44.655086, -93.294191], [33.156542, -117.084745], [43.4034, -73.58139], [42.37072, -87.89587], [33.519169, -117.16096], [31.777321, -106.426244], [38.085, -79.07948], [47.06775, -122.728215], [33.49785, -86.78924599999998], [27.817065000000003, -82.822029], [37.31486, -121.91093], [40.794585, -74.19205699999998], [45.033527, -93.19068], [28.553131, -81.360955], [36.821419, -120.436457], [34.318572, -77.92240799999998], [48.40299, -122.33088], [29.96199600000001, -90.05386800000002], [38.665062, -121.355527], [44.445448, -119.360713], [39.195233, -77.267551], [34.731484, -120.235973], [29.70212, -95.29549], [37.674955, -122.115387], [35.350348, -119.036751], [37.801422, -80.047338], [28.551357, -81.558453], [39.57122, -76.13764599999998], [34.156848, -118.421434], [43.989913, -91.443059], [44.79049000000001, -93.24242], [36.136105, -85.64227199999998], [39.95227, -83.764588], [33.55818, -84.309043], [38.57492, -121.55036], [28.217047, -82.687219], [44.420987, -121.866474], [39.876941, -75.320222], [34.079367, -118.291686], [41.621693, -72.728708], [35.1529, -80.87785], [35.527971, -82.927304], [38.516969, -78.61628499999998], [41.230406, -74.17795100000002], [38.898892, -77.068163], [34.135, -117.63048], [36.801034, -77.460039], [31.781212, -106.39808700000002], [34.147383000000005, -118.798269], [40.739074, -120.709995], [33.989137, -118.288942], [34.111290000000004, -118.2472], [45.107891, -93.868862], [42.18892, -87.82545], [41.113811, -73.41913100000002], [33.658808, -117.779507], [33.75701, -117.113569], [40.646034, -75.41319200000002], [36.94419600000001, -76.26650699999998], [33.88138, -117.61887], [42.196973, -86.064652], [34.508687, -82.746401], [37.40383900000001, -122.050589], [25.596358, -80.419146], [39.4718, -123.363019], [34.037236, -118.308889], [38.529228, -121.755047], [42.967201, -70.886222], [38.77277, -90.34079], [40.769437, -73.948309], [34.073925, -78.986274], [29.356702, -94.977069], [32.763264, -117.163492], [26.255596, -80.13663199999998], [31.216858, -87.295869], [44.097824, -123.157602], [37.586642, -77.474287], [38.359151, -120.804762], [29.750356, -95.502464], [34.136527, -117.492567], [34.03379, -118.38618], [38.200393, -122.920835], [39.113961, -94.616154], [36.072901, -119.357728], [39.669063, -80.028963], [32.648578, -117.062469], [32.86821, -96.66777], [28.580034, -81.476099], [34.064861, -117.310974], [33.86322, -117.53919], [30.549881, -97.692534], [26.0627, -80.20779], [41.502237, -112.057525], [37.854813, -122.493642], [35.798561, -78.564184], [34.13647, -117.50899], [37.521747, -120.89138], [37.76937, -122.41783], [33.779540000000004, -117.87801], [38.647204, -121.375655], [40.240506, -123.821909], [25.912893, -80.306259], [40.1079, -75.16337], [37.323541, -121.893249], [39.62996, -121.764648], [33.67265, -112.00683], [33.670059, -112.038391], [38.08786, -122.23181], [35.985516, -119.959675], [46.377893, -92.787276], [37.37567, -122.067965], [32.580836, -117.0865], [25.986394, -80.165897], [29.74211, -95.3643], [25.971334, -80.276685], [42.617836, -113.138613], [45.867846, -111.082107], [38.644125, -121.388866], [32.741298, -96.852739], [34.47993, -91.58091], [37.353047, -121.864671], [40.739525, -113.858903], [33.964284, -118.120225], [34.424246999999994, -112.05248799999998], [25.596155, -80.3809], [32.624834, -80.88629300000002], [38.95853, -77.42873], [36.184162, -86.823833], [35.21394, -80.83093000000002], [39.26716, -76.61827], [38.305954, -77.50274300000002], [36.318668, -119.673018], [34.130977, -81.84129300000002], [27.990913, -82.72958], [30.345658, -97.917151], [45.279542, -93.003235], [35.09442, -81.0051], [45.57233, -122.67859], [33.881366, -117.617606], [33.3592, -92.75111], [30.400540000000003, -97.7463], [33.412095, -86.80569200000002], [28.809336, -81.273167], [28.538779, -81.32810699999997], [38.170503, -120.837591], [29.520483, -98.488056], [40.852902, -73.959491], [33.622596, -117.171104], [35.108731, -118.319953], [30.383696, -91.116098], [38.63631, -121.29176], [30.36276, -81.55314], [38.560785, -121.464209], [40.020672, -76.742688], [40.091611, -75.409651], [38.656093, -121.327565], [35.05103, -80.86891], [29.67429000000001, -95.57293], [44.421084, -92.301075], [34.087601, -80.955936], [33.922604, -118.103694], [42.196272, -87.931234], [47.58663, -122.17931000000002], [34.857298, -118.162205], [35.136434, -80.977835], [30.436805, -91.05733], [33.050098, -80.167198], [37.30324, -122.0351], [39.694395, -84.211343], [38.740603, -77.452793], [25.927492, -80.21419300000002], [39.058831, -77.45607], [39.050894, -76.929888], [33.424767, -112.025067], [33.997138, -118.357955], [45.09163, -93.44614], [37.40607, -121.91017], [34.096542, -79.927809], [40.116138, -76.30069499999998], [40.033382, -76.30485999999998], [29.941985, -97.883024], [32.966460999999995, -80.25715600000002], [39.32495, -77.01131], [30.34372, -81.66809], [34.004597, -118.28271399999998], [30.693601, -88.03036800000002], [32.83706, -96.96071], [33.517702, -117.159989], [44.794145, -93.40191], [34.776803, -114.186326], [32.326564000000005, -86.295591], [41.246845, -77.011677], [26.539890000000003, -81.839626], [39.046279, -94.363278], [45.56649, -121.10271000000002], [33.692303, -117.119617], [25.896876, -80.161559], [36.13864, -86.80063], [44.10339000000001, -94.23668], [30.368961, -91.122942], [39.373594, -76.517556], [34.03933, -118.0813], [36.912582, -76.262906], [39.9009, -76.60599], [37.491131, -77.432472], [38.865, -77.26194], [37.224778, -121.977139], [47.813716, -122.07696], [37.792889, -122.402778], [31.931609, -106.421731], [28.552997, -81.382731], [33.791893, -117.34522], [42.914342, -85.608263], [37.685949, -122.116865], [30.245434000000003, -85.924664], [25.969338, -80.165531], [36.06091, -95.85946], [33.7749, -118.08552], [43.98518, -117.23797], [33.87127, -117.88035], [34.42165, -119.62874], [33.975528999999995, -117.549034], [28.092556, -82.73944499999998], [33.786617, -117.215355], [27.724905, -80.909991], [41.373621, -73.084176], [38.887835, -112.830094], [35.359186, -94.365129], [40.84505, -73.9167], [43.580088, -119.95071000000002], [33.771318, -118.280192], [39.763758, -105.002374], [28.597979, -81.416779], [43.04457, -87.92629000000002], [38.93972, -94.56397], [39.27808, -77.32361999999998], [40.415232, -111.923728], [34.238876, -117.184519], [44.05262000000001, -123.268803], [33.916293, -118.104641], [25.737086, -80.335835], [41.53637, -87.96882], [34.797852, -84.972767], [32.7789, -96.81147], [37.733484, -122.032275], [44.10276, -121.29906], [44.063, -123.04904], [34.13841, -118.27657], [32.361077, -86.181274], [43.0597, -75.391048], [41.493119, -94.322615], [39.07187, -84.51935999999998], [30.366757, -91.633071], [45.00645, -93.2828], [45.47447, -122.788], [34.852381, -117.144695], [36.19083, -86.74531], [37.89246, -121.48751], [37.54725, -77.43478], [42.74288, -73.69744], [33.870378, -117.743656], [28.613763, -81.477337], [36.01268, -83.97666], [32.910598, -96.936388], [33.447337, -86.738013], [26.604949, -80.0688], [34.148872999999995, -118.069047], [38.927787, -77.401591], [32.900412, -96.718669], [34.065974, -118.216387], [40.54199000000001, -74.29784000000002], [37.19168, -77.48649300000002], [40.253906, -111.198051], [28.458241, -81.365643], [39.909674, -74.984179], [39.72548, -105.079544], [25.687738, -80.344409], [40.218666, -75.245494], [39.27053, -104.8968], [44.964798, -93.28301], [40.566, -112.0633], [37.92643, -122.06079], [34.141606, -117.317406], [42.35309, -83.090137], [28.556764, -81.37690400000002], [33.890889, -117.371664], [43.601016, -119.044723], [30.404562, -91.183833], [37.82629, -121.99609], [37.866056, -121.219107], [26.22525, -80.13627], [43.283563, -123.355971], [36.15928, -86.7753], [30.196040000000004, -93.269108], [39.266408, -76.562502], [26.551956, -81.870717], [32.82405, -97.390409], [32.860818, -96.770176], [33.944186, -118.095226], [46.26850200000001, -92.825385], [38.1911, -85.72438000000002], [37.99033, -122.06766], [39.7766, -76.152546], [44.8594, -93.414416], [35.023447, -120.469984], [29.943544, -95.293963], [44.974443, -93.202254], [37.48545, -122.18957], [29.573362, -95.111797], [39.003965, -78.313188], [30.36246, -97.695569], [45.35698, -94.28481], [45.440139, -92.989003], [25.791662, -80.18703599999998], [41.22207, -96.09019], [38.409094, -105.593634], [33.853894, -117.535188], [40.71977, -111.856858], [25.437564, -80.486075], [34.250769, -119.142659], [37.604167, -121.871798], [33.877254, -118.186637], [34.84936, -117.0861], [34.093229, -117.932428], [33.88906, -84.25544000000002], [37.77635, -121.18161], [43.27613, -88.18638], [27.462732, -82.632243], [32.87574, -117.22898], [42.39923, -83.11223000000003], [34.989556, -85.203427], [27.447751, -82.573305], [35.46009, -76.37965], [37.616578, -120.975123], [37.070347, -77.367609], [37.12919, -121.97727], [33.7743, -118.01232], [29.938145, -90.103124], [35.110488000000004, -118.396655], [25.890143, -80.189184], [39.7749, -104.8572], [34.056982, -118.184026], [42.464339, -123.012641], [29.93951, -90.06700000000002], [38.259061, -85.750619], [33.149209, -112.007024], [25.756581, -80.432812], [36.280002, -86.733295], [32.55883, -84.649241], [29.80546, -95.45381], [45.667483, -94.815871], [37.450486, -77.486255], [36.153224, -86.756244], [25.835397, -80.22506800000002], [34.030597, -117.628436], [40.70153, -73.86791], [44.884225, -120.924421], [25.90354, -80.21027], [39.09902, -94.61463], [33.927561, -118.272282], [38.657635, -120.991652], [40.668393, -111.486218], [33.785265, -118.092588], [34.16924, -118.46793999999998], [34.09068, -117.302014], [38.610785, -121.41526299999998], [39.179145, -94.571117], [37.3339, -77.32596], [37.637771, -121.171456], [44.293581, -92.706209], [33.565807, -79.035949], [31.7776, -106.4436], [27.771216, -82.637089], [39.156679, -76.928889], [43.008317, -71.002092], [34.120498, -117.82486000000002], [34.15283, -118.322968], [46.537538, -111.943656], [36.0648, -86.62844], [43.12754, -75.31060699999998], [37.750523, -77.456869], [30.168339000000003, -81.587809], [42.47579, -83.13332], [39.577084, -77.881489], [33.006343, -117.080654], [39.983776, -75.819524], [41.818524, -74.05638], [45.069168, -93.279901], [28.300823, -81.375334], [35.180262, -82.16383499999998], [25.866097, -80.20854200000002], [35.24134, -80.84357], [38.707734, -121.354143], [34.033885999999995, -117.91723600000002], [33.788284000000004, -117.742787], [43.663009, -116.4771], [25.642714, -80.334553], [40.667342, -111.90153], [44.22965900000001, -93.277498], [32.444720000000004, -93.729804], [45.80313, -119.38466], [38.56709, -121.50854], [45.849114, -122.831155], [33.935177, -81.08123], [40.06059000000001, -82.90474], [25.922925, -80.15463100000002], [44.47382, -88.03758], [45.38872, -122.61099], [39.902639, -75.113036], [40.275836, -76.993845], [46.115597, -92.887779], [28.341068, -81.393836], [40.03727, -74.24285], [42.061544, -124.301176], [26.05733, -80.16234200000002], [37.549678, -122.025257], [44.94543, -122.99015], [40.34714, -111.76419], [45.6128, -122.67823], [34.15436500000001, -118.386886], [43.633199, -93.325434], [45.488473, -118.409668], [37.679167, -97.196613], [39.886101, -75.104253], [41.06207, -81.50519], [28.568399, -81.275699], [40.642242, -111.903131], [40.603968, -124.176548], [33.0032, -96.82927], [25.92958, -80.188317], [35.152586, -80.846637], [44.859634, -93.365753], [40.008841, -75.190096], [44.95968, -93.20027], [37.372228, -120.678244], [34.176124, -79.96135699999998], [33.584105, -117.627687], [37.50505, -77.50455], [39.587999, -77.64390999999998], [30.498251, -91.169872], [33.40671, -111.97008], [37.785512, -122.391418], [38.604475, -121.50714], [36.226021, -83.03625500000003], [37.816088, -121.293881], [39.915955, -75.191815], [32.72419, -117.15546], [28.333738, -81.48962900000002], [41.220703, -73.079566], [34.120946999999994, -117.890151], [38.36360300000001, -121.965633], [38.253523, -122.569204], [34.117709000000005, -117.848206], [44.949494, -92.998661], [33.419740000000004, -82.05459], [37.02747700000001, -121.52733899999998], [36.864127, -121.716843], [34.016814000000004, -118.160983], [33.910990000000005, -84.21488000000002], [33.940103, -84.357798], [27.094542, -82.444317], [34.273474, -118.397491], [33.727, -84.50272], [43.364807, -123.329161], [43.356608, -124.193129], [33.429071, -112.037035], [40.143594, -76.556061], [34.067625, -117.571756], [38.025463, -122.664857], [33.928903000000005, -118.287037], [34.030693, -118.066751], [28.358124, -81.48908399999998], [38.524775, -121.46746], [45.49806, -122.51064], [28.407493, -81.40349], [32.384294, -86.322187], [40.113396, -75.34988], [39.91708, -75.36242], [38.842781, -94.83214], [25.769718, -80.334305], [34.44202, -119.792722], [33.915491, -118.265811], [44.6813, -93.29361], [38.539611, -121.473916], [35.75077800000001, -78.566497], [37.64395, -122.09286000000002], [30.634044, -88.11818199999998], [27.570999, -82.54318599999998], [40.69984, -111.79533], [32.79654, -117.20921], [45.09441, -93.290374], [39.586948, -121.630978], [33.744545, -118.004756], [47.289754, -93.417908], [38.668004, -121.322575], [38.431894, -78.873101], [44.803224, -123.227712], [33.856590999999995, -117.980281], [33.421123, -112.255639], [32.973843, -117.089484], [43.270589, -124.22809], [36.830045, -119.817336], [36.085412, -80.06362800000002], [38.844658, -75.803949], [29.43892, -98.45646], [38.660156, -77.278041], [36.18246, -86.775103], [29.736555, -95.500824], [40.879966, -111.937798], [29.784233, -95.484774], [33.972159000000005, -118.168027], [46.525507, -103.196052], [36.508308, -82.427576], [40.04902, -74.99763], [39.74642, -75.382829], [39.34593, -76.5069], [33.697484, -117.939816], [26.70697, -80.11097], [37.31266, -106.96536], [38.621323, -109.642476], [37.967976, -121.314592], [33.946971000000005, -118.30026399999998], [34.119826, -117.838639], [39.752987, -86.03205799999998], [42.679591, -71.15146700000003], [40.667599, -73.996278], [42.664447, -77.81166800000003], [34.770769, -82.42442], [33.885587, -118.275839], [34.13491, -117.5978], [42.661075, -122.679375], [36.74498, -121.740201], [25.942838, -80.19591899999998], [41.67038, -72.839366], [33.55313, -112.1342], [38.719717, -121.29578], [42.37797, -83.22309], [30.8245, -88.0699], [41.93904000000001, -87.6367], [33.697203, -84.406961], [37.54310200000001, -77.37130400000002], [40.607647, -77.563211], [39.0218, -76.977096], [34.127088, -118.474797], [39.741395, -74.726279], [44.056626, -123.888868], [46.037437, -95.836], [34.415679, -119.578673], [37.696562, -120.848339], [38.64604, -121.25499], [33.898154, -118.370186], [43.63311, -123.21855], [44.048568, -123.050222], [34.344604, -118.504808], [35.839462, -78.54761500000002], [39.343499, -77.374604], [45.17833, -93.86868], [38.99269, -76.51861], [39.104515, -77.544475], [34.136247999999995, -117.48364], [33.9597, -117.85732], [33.947777, -118.292453], [45.657774, -110.76711], [33.338737, -84.980758], [37.34489, -121.844754], [38.852633, -77.39969599999998], [34.405190000000005, -118.57475], [30.187215, -97.790609], [40.45028, -104.9919], [25.939703, -80.188672], [34.166954, -118.299903], [42.42729, -122.8496], [38.891345, -77.217458], [39.15928, -84.56345], [38.784001, -123.552429], [34.03093, -117.328346], [25.843225, -80.249814], [39.738408, -84.140762], [47.14706, -122.50443], [43.534338, -71.61459], [45.12482, -93.21323], [40.52806, -74.28012], [41.73983, -87.827955], [38.74006, -77.1633], [40.12103, -80.47454], [42.988868, -83.681024], [36.54616400000001, -119.422288], [32.811611, -96.774793], [34.068869, -117.839455], [44.946697, -93.039976], [28.54585, -81.31059], [46.68194, -92.4609], [34.035978, -118.269483], [32.47419, -93.74604], [28.552387, -81.449477], [30.444717, -84.27959399999997], [27.423988, -80.410748], [33.74303, -117.840301], [44.85942, -93.357964], [35.11802, -90.0748], [40.769266, -73.711013], [37.06889, -118.241145], [41.34456, -112.03919], [37.574528, -121.885293], [35.763589, -78.747274], [43.123361, -73.720478], [30.479734000000004, -91.166933], [25.831247, -80.24035], [39.15607, -76.83154], [28.337124, -81.419786], [25.851131, -80.197029], [42.79978300000001, -73.894547], [35.77464600000001, -78.607353], [30.48844, -91.1282], [25.627037, -80.41460699999998], [34.304884, -119.347583], [33.177917, -117.351852], [34.172012, -118.469197], [25.903154, -80.324381], [39.110215, -122.898636], [45.457756, -118.381348], [41.818975, -104.811855], [36.139692, -95.992408], [46.950538, -94.851553], [34.370609, -119.455515], [29.714145, -95.501546], [42.4276, -123.237755], [40.813074, -78.082183], [26.004567, -80.167208], [32.812139, -96.781145], [38.942642, -122.79242], [35.74395999999999, -78.64650999999998], [39.402993, -78.026599], [30.368285, -97.727667], [35.33832899999999, -82.437747], [39.34943300000001, -94.382053], [37.130473, -121.032375], [33.720009000000005, -117.971772], [28.796052000000003, -81.345789], [33.96723, -118.08347], [39.173394, -76.79680400000002], [38.57399, -121.384304], [34.035848, -117.322536], [37.644513, -120.61311299999998], [25.732329, -80.367776], [38.115942, -121.395865], [37.50787800000001, -77.74546], [25.712549, -80.423048], [36.6924, -119.75464], [32.79136, -96.74152], [44.970072, -93.31645], [32.79770300000001, -96.818213], [27.049755, -82.40229000000002], [38.422329, -77.408181], [34.095885, -117.92507], [37.71959, -77.44834], [34.241118, -111.315901], [37.398936, -77.424141], [25.80157, -80.32123], [33.48252100000001, -117.143068], [40.481101, -78.399245], [33.805987, -117.509291], [35.754353, -78.58157800000002], [38.5229, -90.39564], [40.29743300000001, -79.558557], [33.913165, -118.254672], [26.36324, -80.11997], [33.971861, -118.280986], [42.470881, -88.093438], [28.604447, -81.408002], [33.5911, -117.75954], [33.970079, -81.000116], [33.479973, -80.535717], [45.31819, -123.06042], [34.511537, -82.716041], [39.238227, -76.668309], [36.069906, -79.274843], [38.879038, -77.033375], [38.66344, -121.88298], [27.193263, -82.122332], [44.633721, -124.023225], [40.189154, -111.611282], [30.487588, -91.140381], [26.331096, -81.766306], [40.50347, -79.9485], [28.866126, -82.510449], [38.906334, -77.012163], [38.894101, -77.014042], [38.334144, -122.735105], [35.33833, -80.81237], [34.1362, -117.47773], [39.241737, -76.69376199999998], [37.195975, -80.269221], [43.505394, -70.48185500000002], [25.717247, -80.348], [45.080848, -93.40222], [35.27319, -81.16117], [39.619393, -74.409832], [36.038771, -87.155731], [44.89081, -93.70382], [38.688549, -120.624367], [44.992899, -93.400158], [35.044185, -120.472317], [40.38202, -104.99329], [33.54347, -84.58308000000002], [37.193447, -93.317488], [30.541423, -87.312889], [38.253294, -122.392024], [37.781835, -121.311993], [34.18909, -80.68718], [34.011897, -117.918847], [30.435704, -91.007559], [34.136258000000005, -117.48003500000002], [37.34576, -120.61257], [35.44277800000001, -118.791667], [28.577178000000004, -81.451398], [30.959848, -85.664638], [33.122218, -117.322227], [30.289465000000003, -81.980366], [30.493327, -83.72071700000002], [33.916418, -118.271752], [34.060374, -118.001071], [27.956664, -82.460197], [34.045442, -118.317722], [41.355575, -74.721075], [35.606828, -83.00895], [32.969533, -117.175934], [33.675391, -117.839881], [47.422547, -122.284671], [33.326352, -81.778887], [40.905016, -74.608777], [36.973229, -122.0068], [32.828873, -96.827438], [32.71796, -117.087117], [36.666553, -119.728334], [28.72254, -82.55263000000002], [39.968451, -75.128784], [33.933244, -117.556227], [47.591242, -122.33423], [25.919486, -80.292912], [44.685178, -123.053371], [29.971142, -90.064642], [29.60027, -95.26974], [47.404619, -122.29228700000002], [42.346459, -83.09655], [33.968796000000005, -118.07152], [32.51757, -90.101083], [32.93985, -96.773032], [37.265625, -80.154246], [34.00444, -118.4122], [39.1651, -84.51213], [33.45561, -111.88998], [38.750066, -120.622685], [29.970258, -90.061691], [25.889494, -80.15184], [37.888842, -122.175766], [30.438693, -91.085801], [36.133, -86.72674], [28.553131, -81.360955], [39.09684, -94.58977], [38.455171, -121.348633], [33.687203000000004, -117.872195], [25.603575, -80.351962], [36.350895, -86.93587600000002], [27.404977, -82.271058], [34.229611, -118.259485], [30.46016, -81.67436], [36.14799, -95.76169], [33.744855, -81.956695], [40.016969, -76.165122], [48.749021, -122.46406100000002], [30.237082, -93.236518], [38.588634000000006, -121.392248], [39.734383, -104.330946], [35.947179, -78.53619599999998], [33.80901, -118.15894], [33.65699, -111.919], [27.508011, -82.563148], [38.496178, -121.434443], [36.986895, -121.493952], [45.812316, -123.487543], [44.970849, -93.421994], [33.736149, -117.819685], [39.93808, -75.19806], [37.759047, -122.028385], [27.699732, -80.904322], [35.42084000000001, -97.4888], [30.185441, -81.73928599999998], [33.525756, -117.16493], [35.07586, -85.319386], [39.01943, -76.93188], [41.848801, -87.918959], [41.650918, -72.671996], [32.92034, -96.81831], [25.759967, -80.385428], [40.102746, -75.329642], [33.553149, -81.93554], [35.04059, -85.169336], [39.62983, -104.90518], [33.815692, -84.363681], [42.180069, -88.079261], [34.1347, -117.629145], [38.359909, -122.713027], [33.89275, -117.88081], [33.731437, -117.987368], [36.149313, -86.861575], [30.342422, -97.584425], [40.763425, -73.726708], [34.061628000000006, -118.163019], [30.440385, -91.213436], [41.87599, -87.69615], [37.5718, -77.38226999999998], [44.29, -92.8478], [38.514074, -121.46178799999998], [41.57801, -87.665766], [34.17577, -118.39317], [27.270415000000003, -82.497665], [29.832803, -95.50679], [25.75514200000001, -80.327805], [38.881518, -77.008992], [35.75698900000001, -78.617337], [42.97248, -85.94601999999998], [30.45756, -91.17533], [25.685494, -80.350941], [37.54688, -122.023166], [41.92496, -87.68188], [37.762831, -77.460554], [35.15317, -90.144442], [27.447751, -82.573305], [39.179318, -78.075439], [37.645778, -77.57524699999998], [45.199981, -93.868247], [27.388454, -82.447854], [25.773051, -80.32738499999998], [34.00732, -118.17253], [36.999364, -122.021389], [26.094357, -80.16888900000002], [34.134735, -117.625225], [33.721196, -117.838963], [33.407565000000005, -111.891342], [33.925283, -117.423369], [26.30375, -80.16935], [45.60116, -118.64249], [43.626462, -116.619712], [35.38969, -97.49527], [38.24005, -122.09234], [26.105566, -80.248583], [34.086509, -118.30313], [39.53657000000001, -119.79487], [38.265547, -77.491605], [33.38471, -111.96764], [40.242279, -75.649953], [25.702474, -80.33150699999999], [30.681954, -87.992643], [38.94799, -104.81317], [44.866572, -93.396979], [41.87969, -71.377974], [27.984918, -82.4538], [34.060942, -117.795422], [36.437906, -120.396326], [35.040387, -80.883936], [47.546932, -122.333792], [39.299793, -123.287316], [33.92729, -118.26005], [34.27262, -118.55966], [38.145292, -85.552607], [33.856279, -80.367947], [34.196656, -79.68414200000002], [32.82871, -96.824978], [35.71153599999999, -81.33581600000002], [48.095886, -114.547379], [31.01068, -87.564537], [37.33013, -113.28293], [36.064392, -79.43423100000003], [40.170714, -74.089067], [35.21793800000001, -80.814044], [33.5353, -86.79621], [41.420104, -120.903503], [36.743549, -119.81006], [34.310592, -118.431984], [25.734897, -80.30295], [41.051392, -73.53218100000002], [36.917414, -119.457032], [39.77496, -86.14216], [27.821013, -82.70151899999998], [35.328937, -80.858506], [40.775906, -73.825805], [40.679799, -74.003366], [25.760878, -80.419588], [34.186646, -118.474262], [40.706878, -73.95794599999998], [44.862311, -93.214687], [36.172751, -86.793499], [36.801034, -77.460039], [36.450229, -119.488909], [33.532358, -86.71498299999998], [40.75777, -73.73823], [38.84816, -77.42255300000002], [41.942412, -85.40984], [34.201033, -117.416523], [38.605103, -90.222684], [37.463968, -120.824171], [37.115088, -76.49414399999998], [40.670077, -74.628741], [32.836912, -97.03125], [32.467295, -111.209222], [33.78785, -118.20762], [25.73417, -80.302918], [33.612588, -117.689559], [35.75406, -78.64911], [41.6171, -72.69575999999998], [32.774142, -96.793876], [39.75295, -86.14399], [33.975621999999994, -117.335155], [40.733123, -111.904531], [25.831296, -80.239112], [36.329944, -119.36767], [38.87223400000001, -77.293133], [33.7591, -117.464171], [40.311479, -74.095208], [36.786842, -76.403826], [37.634973, -122.086945], [34.14132, -118.1798], [44.699528, -123.05208], [33.028389000000004, -83.907791], [38.342052, -122.009221], [35.147149, -80.72444399999998], [34.072117, -118.099471], [40.22978300000001, -75.667393], [44.928259, -123.276656], [34.88582, -117.014376], [44.721275, -123.05446], [40.860239, -73.907214], [39.698244, -121.604013], [40.11199000000001, -83.02608000000002], [41.575998, -81.553303], [42.386186, -88.004159], [42.944244, -83.693564], [43.71064000000001, -92.477449], [40.373807, -74.146622], [44.766257, -124.064748], [35.945474, -78.54825500000003], [37.608711, -122.068184], [39.798327, -86.111408], [33.46005, -112.08263], [44.89019, -93.39547], [26.173881, -81.7532], [33.930492, -83.38126], [38.21816, -85.65825], [36.136096, -86.792691], [25.704114, -80.334288], [28.206115000000004, -82.665205], [32.8189, -79.95506999999998], [38.074429, -102.375539], [25.713907, -80.447101], [44.298107, -124.109118], [36.323766, -119.639951], [29.978532, -90.06009399999998], [37.025417, -120.08658], [30.295025, -97.707879], [35.798717, -78.566188], [45.01933, -123.97461], [38.18666, -79.23013], [33.37717, -86.80341999999996], [39.82884, -86.275945], [38.208206, -122.150785], [47.46459, -122.26668], [27.865140000000004, -82.78693], [34.274956, -118.536291], [32.163070000000005, -110.9093], [36.858582, -121.626046], [33.72575, -117.306861], [33.49486, -111.9869], [32.74889, -97.22021], [35.079935, -89.902957], [29.647068, -95.211146], [34.15653, -118.42356399999998], [37.86744, -122.20083], [36.05539, -79.9027], [34.05594, -118.2409], [33.653573, -117.395664], [32.494832, -93.760967], [34.27046, -117.17062], [35.29767800000001, -80.73937600000002], [38.89051, -77.01388], [41.672401, -78.816785], [45.21541, -93.5918], [37.415533, -117.962766], [40.90314, -74.095069], [45.951084, -123.460198], [26.351325, -80.11782], [37.82494000000001, -122.31361], [33.661606, -117.298225], [36.301199, -84.21821899999998], [35.758074, -78.78099499999998], [45.53026, -122.6372], [25.92744, -80.2065], [41.873718, -87.64489], [37.963784, -122.318256], [25.754606, -80.32045699999998], [25.68619, -80.430098], [25.897513, -80.324483], [29.945931, -90.131261], [44.86083, -93.105775], [42.9298, -85.68154], [37.388458, -122.158402], [34.06847, -117.3915], [34.634305, -82.361655], [33.00993, -117.26394], [33.958493, -118.282707], [37.39486, -122.0463], [37.475033, -79.880808], [37.701591, -121.874116], [41.422171, -81.58551800000002], [45.125439, -93.301582], [28.31798, -81.55996999999998], [33.77426, -118.07514], [37.599742, -122.37628], [32.77197, -117.1609], [29.717834000000003, -95.509777], [33.06795, -84.4601], [48.344501, -114.209488], [34.0204, -118.157291], [40.205312, -75.17442], [30.402512, -87.374044], [38.826824, -104.82218], [43.09451, -123.36803], [40.586961, -122.360411], [39.758653, -86.143176], [35.186406, -80.807232], [38.678468, -121.230351], [30.54968, -81.79162], [38.930901, -94.655874], [41.551247, -73.037291], [35.829558, -78.58246700000002], [41.45211, -81.65697], [33.8736, -118.21441000000002], [43.48046, -89.49194], [38.890677, -77.103718], [39.305191, -120.52472], [42.338203, -83.123082], [33.755482, -86.275924], [32.134425, -110.880174], [36.86837, -76.19513], [33.913647, -118.121063], [34.199362, -118.396519], [42.428384, -87.854934], [38.42678, -82.23486899999997], [33.654616, -112.114381], [33.786815000000004, -117.885429], [33.995899, -117.885994], [39.477012, -119.784122], [33.437470000000005, -112.27238], [37.701417, -121.894393], [30.292373, -85.49575], [35.891807, -78.848363], [37.725087, -77.449826], [41.326498, -77.767078], [39.886153, -86.523438], [43.03545, -89.43212], [32.327090000000005, -86.247608], [33.755520000000004, -79.020646], [38.674333, -77.238843], [32.745973, -117.189748], [43.289841, -124.22117], [25.970309, -80.16574], [41.579335, -87.628551], [45.370179, -122.75777], [27.735303, -82.746845], [37.651719, -121.614251], [34.117838, -118.337291], [46.646313, -111.91785], [41.43803, -81.49784], [35.81613, -78.65978], [35.207008, -119.160858], [33.011905, -80.237779], [28.70267, -82.55246], [40.66661, -73.80856], [33.44915, -117.094674], [26.634272, -81.68072099999998], [29.77066, -95.17977], [37.99247, -122.30629], [39.926848, -86.178411], [34.143529, -118.471175], [34.010259999999995, -117.42905], [26.13596, -80.21672], [29.14985200000001, -82.062492], [33.944524, -118.098703], [38.760441, -90.531367], [36.228918, -80.033445], [25.808789, -80.25039100000002], [33.66092800000001, -111.93799], [34.430326, -117.377361], [36.874077, -119.72982], [30.596237, -87.10475100000002], [43.05894, -123.33963], [36.72849, -119.79632], [41.823411, -85.671634], [28.367646, -81.41158], [36.10317, -80.23605], [44.73899, -93.03502], [42.971574, -85.66839300000002], [33.911219, -118.165601], [38.55538, -76.84218], [34.043187, -117.95293999999998], [45.302612, -121.764935], [39.356664, -120.144306], [33.992269, -117.355322], [32.161107, -81.06184300000002], [34.733544, -86.597424], [44.39824, -117.30797], [41.871779, -88.03299999999999], [43.110751, -123.51811200000002], [42.47726, -83.10555], [36.139024, -86.72859], [45.639447, -108.82246200000002], [44.97027, -93.31992], [34.794784, -82.387129], [39.380342, -76.741489], [32.810922999999995, -96.792282], [35.252112, -89.684325], [25.77778, -80.3212], [25.55156400000001, -80.380262], [34.014212, -117.449092], [43.787975, -95.333713], [33.916546999999994, -84.34270500000002], [35.753706, -121.31261200000002], [39.61640300000001, -104.897202], [33.978209, -81.31044], [45.129981, -93.390702], [40.013026, -74.18733], [33.54156, -81.98749000000002], [35.613733, -80.515055], [30.446149, -91.237901], [46.21548, -123.86201], [38.93427, -94.519859], [44.65022, -122.85266], [32.8366, -96.767417], [46.839534, -113.835557], [25.889321, -80.165463], [33.839040000000004, -117.94798], [30.702313, -87.350298], [33.70985, -84.24579], [35.75613900000001, -78.74414499999997], [34.183468, -118.472908], [39.44846, -87.4647], [31.78705, -106.45147], [37.42528, -122.09804], [34.581115000000004, -92.578383], [38.948754, -94.362784], [39.943477, -75.192537], [44.95327, -93.09429], [38.255179, -122.303606], [39.914199, -79.73227800000002], [44.97499000000001, -122.99015], [29.39609, -98.5113], [37.57371, -122.26222], [30.051014, -95.224125], [33.867146000000005, -117.744455], [39.228866, -120.003587], [38.565674, -78.74119300000002], [33.670724, -112.113364], [35.18952, -80.77253], [34.153839000000005, -118.325889], [34.106745000000004, -117.84636100000002], [26.234294, -80.13660300000002], [35.150183, -80.829813], [42.33756, -88.02409], [32.75342, -96.874026], [38.894294, -104.969181], [33.48664, -82.11388000000002], [33.767298, -117.155286], [37.846891, -120.568648], [37.435879, -113.62908600000002], [36.794209, -76.10619200000002], [25.826279, -80.317739], [32.79177, -96.73262], [33.551532, -117.629714], [30.524137, -87.313381], [37.898581, -122.309609], [40.716995, -111.93898], [33.900852, -80.091939], [40.874172, -73.905683], [41.155548, -112.026036], [34.49933, -82.00644], [42.0787, -88.3307], [33.75492, -117.805393], [46.170229, -123.730307], [35.075532, -81.738281], [39.781996, -75.978688], [27.804567, -82.662153], [25.939795, -80.27680699999998], [36.632248, -82.117041], [40.79284000000001, -77.799152], [39.00617, -76.89825], [34.142234, -118.471271], [33.876959, -118.147975], [30.10224, -81.70555], [38.751819, -77.267525], [37.773497, -122.440733], [37.794631, -122.206233], [44.80408, -93.39804], [33.733862, -117.834011], [39.366427, -76.509703], [41.31047, -81.19385799999998], [47.795723, -122.215589], [25.656426, -80.413329], [25.703506, -80.33425600000002], [43.05584, -83.753052], [42.951747, -78.758615], [36.116718, -119.680354], [34.128898, -80.902277], [39.204813, -120.794431], [35.44819000000001, -97.42906], [26.05703, -80.16235], [33.942093, -117.39449], [35.40126400000001, -82.511476], [33.845305, -117.95893], [29.678015, -95.407612], [35.652406, -78.833616], [35.785736, -78.64280500000002], [45.583852, -118.622721], [37.28233400000001, -121.80856], [38.785122, -121.281972], [25.81758, -80.206103], [33.905874, -117.559349], [27.449294, -82.575402], [33.43592, -111.94436], [42.25542, -88.15148], [39.140857, -76.846694], [40.604509, -74.02175799999998], [29.908269, -89.997091]],\n",
              "                {&quot;blur&quot;: 15, &quot;maxZoom&quot;: 18, &quot;minOpacity&quot;: 0.5, &quot;radius&quot;: 25}\n",
              "            ).addTo(map_be98821f615a3e871ebe71b07904b4fd);\n",
              "        \n",
              "&lt;/script&gt;\" style=\"position:absolute;width:100%;height:100%;left:0;top:0;border:none !important;\" allowfullscreen webkitallowfullscreen mozallowfullscreen></iframe></div></div>"
            ]
          },
          "metadata": {},
          "execution_count": 71
        }
      ]
    },
    {
      "cell_type": "markdown",
      "source": [
        "- The coastal areas have more number of accidents because more people live in the coastal areas.The heatmap proves it."
      ],
      "metadata": {
        "id": "PZHI-U4VTFis"
      }
    },
    {
      "cell_type": "code",
      "source": [
        ""
      ],
      "metadata": {
        "id": "4CQNpheYGxbO"
      },
      "execution_count": null,
      "outputs": []
    },
    {
      "cell_type": "markdown",
      "source": [
        "# Ask and Answer Questions\n",
        " 1. Are  there more accidents in summer or in winter?\n",
        " 2. Which top 5 states of US has the highest number of accidents?\n",
        " 3. Does New York show up in the data? Why is the count lower if it the most populated city?\n",
        " 4. Which time of the day has more number of accidents?\n",
        " 5. Which days of the week have the most number of accidents?\n",
        " 6. Which month of the year have the most number of accidents?\n",
        " 7. What is the trend of accidents year over year(decreasing/increasing)?\n",
        " "
      ],
      "metadata": {
        "id": "mogd4vFkG8uK"
      }
    },
    {
      "cell_type": "markdown",
      "source": [
        "## Summary and conclusion\n",
        "- There are more number of accidents in winter.\n",
        "-The top 5 cities having most number of accidents are Miami,Los Angeles,Orlando,Dallas,Houston.\n",
        "-Less than 5% of cities have more than 1000 number of accidents.\n",
        "-Over 1110 cities have reported just one accident.\n",
        "-The dta for New York is missing in the dataset.\n",
        "-The most number of accidents occur between 12pm to 6pm.\n",
        "-The most number of accidents haapen in the month of Decenber,\n",
        "-The most number of accidents happen in weekdays.\n",
        "-The most number of accidents happen in the coastal areas.\n",
        "-the number of accident in the month of july and auguest in 2020 are missing.(it needs to be investigated)\n",
        "-On sunday peak occur during afternoon(between 11 am to 8pm)\n",
        "-There occurs two gaussian curve in the distribution graphs on monday, one when going to work and other one when coming from work.\n",
        "- The trend of accidents is increasing year over year."
      ],
      "metadata": {
        "id": "4AOeaIXS6hkf"
      }
    },
    {
      "cell_type": "code",
      "source": [
        "import jovian"
      ],
      "metadata": {
        "id": "3QGiwdljdf6B"
      },
      "execution_count": null,
      "outputs": []
    },
    {
      "cell_type": "code",
      "source": [
        "jovian.commit()"
      ],
      "metadata": {
        "colab": {
          "base_uri": "https://localhost:8080/",
          "height": 174
        },
        "id": "8PyQDqPbdmdJ",
        "outputId": "f3bb6c97-b071-47db-d3fb-6a3852c55837"
      },
      "execution_count": null,
      "outputs": [
        {
          "name": "stdout",
          "output_type": "stream",
          "text": [
            "[jovian] Detected Colab notebook...\u001b[0m\n",
            "[jovian] Please enter your API key ( from https://jovian.ai/ ):\u001b[0m\n",
            "API KEY: ··········\n"
          ]
        },
        {
          "output_type": "stream",
          "name": "stderr",
          "text": [
            "\u001b[31m[jovian] Error: The current API key is invalid or expired.\u001b[0m\n"
          ]
        },
        {
          "output_type": "stream",
          "name": "stdout",
          "text": [
            "[jovian] Please enter your API key ( from https://jovian.ai/ ):\u001b[0m\n",
            "API KEY: ··········\n",
            "[jovian] Uploading colab notebook to Jovian...\u001b[0m\n",
            "Committed successfully! https://jovian.ai/ruralgrad/us-accidents-2016-2021-eda-analysis\n"
          ]
        },
        {
          "output_type": "execute_result",
          "data": {
            "text/plain": [
              "'https://jovian.ai/ruralgrad/us-accidents-2016-2021-eda-analysis'"
            ],
            "application/vnd.google.colaboratory.intrinsic+json": {
              "type": "string"
            }
          },
          "metadata": {},
          "execution_count": 82
        }
      ]
    }
  ],
  "metadata": {
    "kernelspec": {
      "display_name": "Python 3",
      "language": "python",
      "name": "python3"
    },
    "language_info": {
      "codemirror_mode": {
        "name": "ipython",
        "version": 3
      },
      "file_extension": ".py",
      "mimetype": "text/x-python",
      "name": "python",
      "nbconvert_exporter": "python",
      "pygments_lexer": "ipython3",
      "version": "3.7.6"
    },
    "colab": {
      "name": "us-accidents-2016-2021-eda-analysis.ipynb",
      "provenance": [],
      "collapsed_sections": [],
      "include_colab_link": true
    }
  },
  "nbformat": 4,
  "nbformat_minor": 0
}